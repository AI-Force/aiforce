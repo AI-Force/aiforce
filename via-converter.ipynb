{
 "cells": [
  {
   "cell_type": "code",
   "execution_count": null,
   "metadata": {},
   "outputs": [],
   "source": [
    "# default_exp via.converter"
   ]
  },
  {
   "cell_type": "code",
   "execution_count": null,
   "metadata": {},
   "outputs": [],
   "source": [
    "# hide\n",
    "from nbdev.showdoc import *"
   ]
  },
  {
   "cell_type": "code",
   "execution_count": null,
   "metadata": {},
   "outputs": [],
   "source": [
    "# export\n",
    "\n",
    "import sys\n",
    "import argparse\n",
    "import logging\n",
    "from mlcore.annotation.via import read_annotations"
   ]
  },
  {
   "cell_type": "code",
   "execution_count": null,
   "metadata": {},
   "outputs": [],
   "source": [
    "# hide\n",
    "%reload_ext autoreload\n",
    "%autoreload 2\n",
    "%matplotlib inline"
   ]
  },
  {
   "cell_type": "code",
   "execution_count": null,
   "metadata": {},
   "outputs": [],
   "source": [
    "# export\n",
    "\n",
    "DEFAULT_ANNOTATIONS_FILE = 'via_region_data.json'"
   ]
  },
  {
   "cell_type": "code",
   "execution_count": null,
   "metadata": {},
   "outputs": [],
   "source": [
    "# export\n",
    "\n",
    "logger = logging.getLogger(__name__)"
   ]
  },
  {
   "cell_type": "markdown",
   "metadata": {},
   "source": [
    "# VIA Annotation Tool Converter\n",
    "> VIA Annotation Tool Converter Notes."
   ]
  },
  {
   "cell_type": "code",
   "execution_count": null,
   "metadata": {},
   "outputs": [],
   "source": [
    "# export\n",
    "\n",
    "\n",
    "def region_rect_to_polygon(region):\n",
    "    shape_attributes = region['shape_attributes']\n",
    "    shape_type = shape_attributes['name']\n",
    "    if shape_type == 'rect':\n",
    "        x = shape_attributes[\"x\"]\n",
    "        y = shape_attributes[\"y\"]\n",
    "        max_x = x + shape_attributes[\"width\"]\n",
    "        max_y = y + shape_attributes[\"height\"]\n",
    "        shape_attributes = {\n",
    "            \"name\": \"polygon\",\n",
    "            \"all_points_x\": [x, x, max_x, max_x, x],\n",
    "            \"all_points_y\": [y, max_y, max_y, y, y],\n",
    "        }\n",
    "        region['shape_attributes'] = shape_attributes\n",
    "    return region"
   ]
  },
  {
   "cell_type": "code",
   "execution_count": null,
   "metadata": {},
   "outputs": [],
   "source": [
    "# export\n",
    "\n",
    "\n",
    "def region_polygon_to_rect(region):\n",
    "    shape_attributes = region['shape_attributes']\n",
    "    shape_type = shape_attributes['name']\n",
    "    if shape_type == 'polygon':\n",
    "        x_min = min(shape_attributes['all_points_x'])\n",
    "        x_max = max(shape_attributes['all_points_x'])\n",
    "        y_min = min(shape_attributes['all_points_y'])\n",
    "        y_max = max(shape_attributes['all_points_y'])\n",
    "        shape_attributes = {\n",
    "            \"name\": \"rect\",\n",
    "            \"x\": x_min,\n",
    "            \"y\": y_min,\n",
    "            \"width\": x_max - x_min,\n",
    "            \"height\": y_max - y_min,\n",
    "        }\n",
    "        region['shape_attributes'] = shape_attributes\n",
    "    return region"
   ]
  },
  {
   "cell_type": "markdown",
   "metadata": {},
   "source": [
    "## Helper Methods"
   ]
  },
  {
   "cell_type": "code",
   "execution_count": null,
   "metadata": {},
   "outputs": [],
   "source": [
    "# export\n",
    "\n",
    "\n",
    "def configure_logging(logging_level=logging.INFO):\n",
    "    \"\"\"\n",
    "    Configures logging for the system.\n",
    "\n",
    "    :param logging_level: The logging level to use.\n",
    "    \"\"\"\n",
    "    logger.setLevel(logging_level)\n",
    "\n",
    "    handler = logging.StreamHandler(sys.stdout)\n",
    "    handler.setLevel(logging_level)\n",
    "\n",
    "    logger.addHandler(handler)"
   ]
  },
  {
   "cell_type": "markdown",
   "metadata": {},
   "source": [
    "## Run from command line"
   ]
  },
  {
   "cell_type": "markdown",
   "metadata": {},
   "source": [
    "To run the data-set builder from command line, use the following command:\n",
    "`python -m mlcore.via.converter [parameters]`"
   ]
  },
  {
   "cell_type": "markdown",
   "metadata": {},
   "source": [
    "The following parameters are supported:\n",
    "- `[annotation]`: The path to the VIA annotation file (e.g.: *imagesets/segmentation/car_damage/via_region_data.json*)"
   ]
  },
  {
   "cell_type": "code",
   "execution_count": null,
   "metadata": {},
   "outputs": [],
   "source": [
    "# export\n",
    "\n",
    "\n",
    "if __name__ == '__main__' and '__file__' in globals():\n",
    "    # for direct shell execution\n",
    "    configure_logging()\n",
    "\n",
    "    parser = argparse.ArgumentParser()\n",
    "    parser.add_argument(\"annotation\",\n",
    "                        help=\"The path to the VIA annotation file.\")\n",
    "\n",
    "    args = parser.parse_args()\n",
    "\n",
    "    read_annotations(args.annotation)\n"
   ]
  },
  {
   "cell_type": "code",
   "execution_count": null,
   "metadata": {},
   "outputs": [],
   "source": []
  }
 ],
 "metadata": {
  "kernelspec": {
   "display_name": "Python [conda env:ML-Core]",
   "language": "python",
   "name": "conda-env-ML-Core-py"
  }
 },
 "nbformat": 4,
 "nbformat_minor": 4
}
