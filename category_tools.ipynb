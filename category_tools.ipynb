{
 "cells": [
  {
   "cell_type": "code",
   "execution_count": null,
   "metadata": {},
   "outputs": [],
   "source": [
    "# default_exp category_tools"
   ]
  },
  {
   "cell_type": "code",
   "execution_count": null,
   "metadata": {},
   "outputs": [],
   "source": [
    "# hide\n",
    "from nbdev.showdoc import *"
   ]
  },
  {
   "cell_type": "code",
   "execution_count": null,
   "metadata": {},
   "outputs": [],
   "source": [
    "# export\n",
    "import argparse\n",
    "import logging\n",
    "from os.path import isfile\n",
    "from aiforce.dataset.type import DatasetType"
   ]
  },
  {
   "cell_type": "code",
   "execution_count": null,
   "metadata": {},
   "outputs": [],
   "source": [
    "# hide\n",
    "%reload_ext autoreload\n",
    "%autoreload 2"
   ]
  },
  {
   "cell_type": "code",
   "execution_count": null,
   "metadata": {},
   "outputs": [],
   "source": [
    "# export\n",
    "DEFAULT_CATEGORIES_FILE = 'categories.txt'\n",
    "NOT_CATEGORIZED = '[NOT_CATEGORIZED]'\n",
    "BACKGROUND_CLASS = '_background_'\n",
    "BACKGROUND_CLASS_CODE = 0"
   ]
  },
  {
   "cell_type": "code",
   "execution_count": null,
   "metadata": {},
   "outputs": [],
   "source": [
    "# export\n",
    "\n",
    "logger = logging.getLogger(__name__)"
   ]
  },
  {
   "cell_type": "markdown",
   "metadata": {},
   "source": [
    "# Category File Tools\n",
    "> Category File Tools Notes"
   ]
  },
  {
   "cell_type": "markdown",
   "metadata": {},
   "source": [
    "Category names of an image-set or data-set are written in plain text, separated by a *new line* and stored in a file `categories.txt`.\n",
    "The order of the category names is important and reflects the index of the result vector from the model for easy mapping."
   ]
  },
  {
   "cell_type": "code",
   "execution_count": null,
   "metadata": {},
   "outputs": [],
   "source": [
    "# export\n",
    "def read_categories(categories_file=None, dataset_type=DatasetType.IMAGE_CLASSIFICATION):\n",
    "    \"\"\"\n",
    "    Reads the categories from a categories file.\n",
    "    If the dataset type is image segmentation or object detection, a background class at index 0 is prepend.\n",
    "    If the optional `categories_file` is not given, the file name *categories.txt* is used by default\n",
    "    `categories_file`: the categories file name, if not the default\n",
    "    `dataset_type`: the type of the data-set to create the categories for\n",
    "    return: a list of the category names\n",
    "    \"\"\"\n",
    "    if categories_file is None:\n",
    "        categories_file = DEFAULT_CATEGORIES_FILE\n",
    "\n",
    "    if not isfile(categories_file):\n",
    "        logger.warning('Categories file not found at: {}'.format(categories_file))\n",
    "        return []\n",
    "    with open(categories_file) as f:\n",
    "        categories = f.read().strip().split('\\n')\n",
    "        logger.info('Read {} categories from categories file at: {}'.format(len(categories), categories_file))\n",
    "    if dataset_type in [DatasetType.IMAGE_OBJECT_DETECTION, DatasetType.IMAGE_SEGMENTATION]:\n",
    "        categories = [BACKGROUND_CLASS] + categories\n",
    "        logger.info('Prepend background class {} to the categories'.format(BACKGROUND_CLASS))\n",
    "\n",
    "    return categories"
   ]
  },
  {
   "cell_type": "code",
   "execution_count": null,
   "metadata": {},
   "outputs": [],
   "source": [
    "# export\n",
    "def write_categories(categories, categories_file=None):\n",
    "    \"\"\"\n",
    "    Write the categories to a categories file.\n",
    "    If the dataset type is image segmentation or object detection, a background class at index 0 is prepend.\n",
    "    If the optional `categories_file` is not given, the file name *categories.txt* is used by default\n",
    "    `categories`: a list of the category names to write\n",
    "    `categories_file`: the categories file name\n",
    "    \"\"\"\n",
    "    if categories_file is None:\n",
    "        categories_file = DEFAULT_CATEGORIES_FILE\n",
    "\n",
    "    if len(categories) > BACKGROUND_CLASS_CODE and categories[BACKGROUND_CLASS_CODE] == BACKGROUND_CLASS:\n",
    "        logger.info('Remove background class {} from the categories'.format(BACKGROUND_CLASS))\n",
    "        categories = categories[1:]\n",
    "    with open(categories_file, 'w') as f:\n",
    "        f.write('\\n'.join(categories))\n",
    "        logger.info('Write {} categories to categories file at: {}'.format(len(categories), categories_file))"
   ]
  },
  {
   "cell_type": "markdown",
   "metadata": {},
   "source": [
    "## Helper Methods"
   ]
  },
  {
   "cell_type": "code",
   "execution_count": null,
   "metadata": {},
   "outputs": [],
   "source": [
    "# export\n",
    "def configure_logging(logging_level=logging.INFO):\n",
    "    \"\"\"\n",
    "    Configures logging for the system.\n",
    "\n",
    "    :param logging_level: The logging level to use.\n",
    "    \"\"\"\n",
    "    logging.basicConfig(level=logging_level)"
   ]
  },
  {
   "cell_type": "markdown",
   "metadata": {},
   "source": [
    "## Run from command line"
   ]
  },
  {
   "cell_type": "markdown",
   "metadata": {},
   "source": [
    "To run the data-set builder from command line, use the following command:\n",
    "`python -m mlcore.category_tools [parameters]`"
   ]
  },
  {
   "cell_type": "markdown",
   "metadata": {},
   "source": [
    "The following parameters are supported:\n",
    "- `[categories]`: The path to the categories file. (e.g.: *categories.txt*)"
   ]
  },
  {
   "cell_type": "code",
   "execution_count": null,
   "metadata": {},
   "outputs": [],
   "source": [
    "# export\n",
    "if __name__ == '__main__' and '__file__' in globals():\n",
    "    # for direct shell execution\n",
    "    configure_logging()\n",
    "\n",
    "    parser = argparse.ArgumentParser()\n",
    "    parser.add_argument(\"categories\",\n",
    "                        help=\"The path to the categories file.\")\n",
    "\n",
    "    args = parser.parse_args()\n",
    "\n",
    "    print(read_categories(args.categories))"
   ]
  },
  {
   "cell_type": "code",
   "execution_count": null,
   "metadata": {},
   "outputs": [
    {
     "name": "stdout",
     "output_type": "stream",
     "text": [
      "Converted annotation-core.ipynb.\n",
      "Converted annotation-folder_category_adapter.ipynb.\n",
      "Converted annotation-multi_category_adapter.ipynb.\n",
      "Converted annotation-via_adapter.ipynb.\n",
      "Converted annotation-yolo_adapter.ipynb.\n",
      "Converted annotation_converter.ipynb.\n",
      "Converted annotation_viewer.ipynb.\n",
      "Converted category_tools.ipynb.\n",
      "Converted core.ipynb.\n",
      "Converted dataset-core.ipynb.\n",
      "Converted dataset-image_classification.ipynb.\n",
      "Converted dataset-image_object_detection.ipynb.\n",
      "Converted dataset-image_segmentation.ipynb.\n",
      "Converted dataset-type.ipynb.\n",
      "Converted dataset_generator.ipynb.\n",
      "Converted evaluation-core.ipynb.\n",
      "Converted geometry.ipynb.\n",
      "Converted image-color_palette.ipynb.\n",
      "Converted image-inference.ipynb.\n",
      "Converted image-opencv_tools.ipynb.\n",
      "Converted image-pillow_tools.ipynb.\n",
      "Converted image-tools.ipynb.\n",
      "Converted index.ipynb.\n",
      "Converted io-core.ipynb.\n",
      "Converted tensorflow-tflite_converter.ipynb.\n",
      "Converted tensorflow-tflite_metadata.ipynb.\n",
      "Converted tensorflow-tfrecord_builder.ipynb.\n",
      "Converted tools-check_double_images.ipynb.\n",
      "Converted tools-downloader.ipynb.\n",
      "Converted tools-image_size_calculator.ipynb.\n"
     ]
    }
   ],
   "source": [
    "# hide\n",
    "\n",
    "# for generating scripts from notebook directly\n",
    "from nbdev.export import notebook2script\n",
    "notebook2script()"
   ]
  }
 ],
 "metadata": {
  "kernelspec": {
   "display_name": "Python [conda env:ML-Core]",
   "language": "python",
   "name": "conda-env-ML-Core-py"
  }
 },
 "nbformat": 4,
 "nbformat_minor": 4
}
