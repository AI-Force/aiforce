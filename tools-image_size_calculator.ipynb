{
 "cells": [
  {
   "cell_type": "code",
   "execution_count": null,
   "metadata": {},
   "outputs": [],
   "source": [
    "# default_exp tools.image_size_calculator"
   ]
  },
  {
   "cell_type": "code",
   "execution_count": null,
   "metadata": {},
   "outputs": [],
   "source": [
    "# hide\n",
    "from nbdev.showdoc import *"
   ]
  },
  {
   "cell_type": "code",
   "execution_count": null,
   "metadata": {},
   "outputs": [],
   "source": [
    "# export\n",
    "\n",
    "import logging\n",
    "import argparse\n",
    "import logging.handlers\n",
    "import sys\n",
    "from PIL import Image as PILImage\n",
    "from os import listdir\n",
    "from os.path import join, isfile, isdir, splitext"
   ]
  },
  {
   "cell_type": "code",
   "execution_count": null,
   "metadata": {},
   "outputs": [],
   "source": [
    "# hide\n",
    "%reload_ext autoreload\n",
    "%autoreload 2\n",
    "%matplotlib inline"
   ]
  },
  {
   "cell_type": "code",
   "execution_count": null,
   "metadata": {},
   "outputs": [],
   "source": [
    "# export\n",
    "\n",
    "logger = logging.getLogger(__name__)"
   ]
  },
  {
   "cell_type": "code",
   "execution_count": null,
   "metadata": {},
   "outputs": [],
   "source": [
    "# export\n",
    "\n",
    "FILE_FILTER = ['.DS_Store']\n",
    "IMAGE_EXTENSIONS = ['.jpg']"
   ]
  },
  {
   "cell_type": "markdown",
   "metadata": {},
   "source": [
    "# Image Size Calculator\n",
    "\n",
    "> Calculates image sizes in a given folder and subfolders. Summarize unique image sizes at the end."
   ]
  },
  {
   "cell_type": "code",
   "execution_count": null,
   "metadata": {},
   "outputs": [],
   "source": [
    "# export\n",
    "\n",
    "\n",
    "class ImageSizeCalculator:\n",
    "    \"\"\"\n",
    "    Calculates image sizes in a given folder and subfolders. Summarize unique image sizes at the end.\n",
    "    `path`: the folder to process\n",
    "    \"\"\"\n",
    "\n",
    "    def __init__(self, path):\n",
    "        self.path = path\n",
    "\n",
    "    def calculate(self):\n",
    "        \"\"\"\n",
    "        The main logic.\n",
    "        \"\"\"\n",
    "\n",
    "        images = scan_folder(self.path)\n",
    "        all_images = len(images)\n",
    "        unique_sizes = {}\n",
    "\n",
    "        for index, image in enumerate(images):\n",
    "            width, height = get_image_size(image)\n",
    "            logger.info(\"{} / {} - Handle Image {} with size {}x{}\".format(\n",
    "                index + 1,\n",
    "                all_images,\n",
    "                image,\n",
    "                width,\n",
    "                height,\n",
    "            ))\n",
    "            unique_sizes[\"{}x{}\".format(width, height)] = True\n",
    "\n",
    "        return unique_sizes.keys()"
   ]
  },
  {
   "cell_type": "code",
   "execution_count": null,
   "metadata": {},
   "outputs": [],
   "source": [
    "show_doc(ImageSizeCalculator.calculate)"
   ]
  },
  {
   "cell_type": "markdown",
   "metadata": {},
   "source": [
    "## Helper Methods"
   ]
  },
  {
   "cell_type": "code",
   "execution_count": null,
   "metadata": {},
   "outputs": [],
   "source": [
    "# export\n",
    "\n",
    "\n",
    "def configure_logging(logging_level=logging.INFO):\n",
    "    \"\"\"\n",
    "    Configures logging for the system.\n",
    "\n",
    "    :param logging_level: The logging level to use.\n",
    "    \"\"\"\n",
    "    logger.setLevel(logging_level)\n",
    "\n",
    "    handler = logging.StreamHandler(sys.stdout)\n",
    "    handler.setLevel(logging_level)\n",
    "\n",
    "    logger.addHandler(handler)"
   ]
  },
  {
   "cell_type": "code",
   "execution_count": null,
   "metadata": {},
   "outputs": [],
   "source": [
    "# export\n",
    "\n",
    "\n",
    "def get_image_size(fname):\n",
    "    \"\"\"\n",
    "    Calculates image size of a given image file.\n",
    "    `fname`: the file path\n",
    "    return: the image width and height\n",
    "    \"\"\"\n",
    "    img = PILImage.open(fname)\n",
    "    w, h = img.size\n",
    "    return w, h"
   ]
  },
  {
   "cell_type": "code",
   "execution_count": null,
   "metadata": {},
   "outputs": [],
   "source": [
    "# export\n",
    "\n",
    "\n",
    "def scan_folder(folder):\n",
    "    \"\"\"\n",
    "    Scans a folder and subfolders for image content.\n",
    "    `folder`: the folder to scan\n",
    "    returns: a list of paths to images found\n",
    "    \"\"\"\n",
    "    images = []\n",
    "\n",
    "    contents = listdir(folder)\n",
    "    for content in contents:\n",
    "        if content in FILE_FILTER:\n",
    "            continue\n",
    "        path = join(folder, content)\n",
    "        if isdir(path):\n",
    "            result = scan_folder(path)\n",
    "            for entry in result:\n",
    "                images.append(entry)\n",
    "        elif isfile(path):\n",
    "            if not splitext(content)[1] in IMAGE_EXTENSIONS:\n",
    "                continue\n",
    "            images.append(path)\n",
    "    return images"
   ]
  },
  {
   "cell_type": "markdown",
   "metadata": {},
   "source": [
    "## Run from command line"
   ]
  },
  {
   "cell_type": "markdown",
   "metadata": {},
   "source": [
    "To run the image size calculator from command line, use the following command:\n",
    "`python -m mlcore.tools.image_size_calculator [parameters]`"
   ]
  },
  {
   "cell_type": "markdown",
   "metadata": {},
   "source": [
    "The following parameters are supported:\n",
    "- `[folder]`: The folder to scan."
   ]
  },
  {
   "cell_type": "code",
   "execution_count": null,
   "metadata": {},
   "outputs": [],
   "source": [
    "# export\n",
    "\n",
    "\n",
    "if __name__ == '__main__' and '__file__' in globals():\n",
    "    configure_logging()\n",
    "\n",
    "    parser = argparse.ArgumentParser()\n",
    "    parser.add_argument(\"folder\", help=\"The folder to scan.\")\n",
    "    args = parser.parse_args()\n",
    "\n",
    "    calculator = ImageSizeCalculator(args.folder)\n",
    "    sizes = calculator.calculate()\n",
    "    logger.info(\"Unique Image Sizes:\")\n",
    "    for size in sizes:\n",
    "        logger.info(size)\n",
    "\n",
    "    print('FINISHED!!!')\n"
   ]
  }
 ],
 "metadata": {
  "kernelspec": {
   "display_name": "Python [conda env:ML-Core]",
   "language": "python",
   "name": "conda-env-ML-Core-py"
  }
 },
 "nbformat": 4,
 "nbformat_minor": 4
}
