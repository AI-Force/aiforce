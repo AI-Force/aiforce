{
 "cells": [
  {
   "cell_type": "code",
   "execution_count": null,
   "metadata": {},
   "outputs": [],
   "source": [
    "# default_exp image.opencv_tools"
   ]
  },
  {
   "cell_type": "code",
   "execution_count": null,
   "metadata": {},
   "outputs": [],
   "source": [
    "# hide\n",
    "from nbdev.showdoc import *"
   ]
  },
  {
   "cell_type": "code",
   "execution_count": null,
   "metadata": {},
   "outputs": [],
   "source": [
    "# export\n",
    "import cv2"
   ]
  },
  {
   "cell_type": "code",
   "execution_count": null,
   "metadata": {},
   "outputs": [],
   "source": [
    "# hide\n",
    "%reload_ext autoreload\n",
    "%autoreload 2\n",
    "%matplotlib inline"
   ]
  },
  {
   "cell_type": "markdown",
   "metadata": {},
   "source": [
    "# Image Tools for OpenCV\n",
    "> ools for converting images by using OpenCV library."
   ]
  },
  {
   "cell_type": "code",
   "execution_count": null,
   "metadata": {},
   "outputs": [],
   "source": [
    "# export\n",
    "\n",
    "\n",
    "def limit_to_max_size(img, max_size):\n",
    "    \"\"\"\n",
    "    Limit the image size to max size and scale the image,\n",
    "    if max size exceeded.\n",
    "    `img`: The image to validate as OpenCV image.\n",
    "    `max_size`: The max allowed image size.\n",
    "    :return: The eventually resized image.\n",
    "    \"\"\"\n",
    "    biggest_size = max(img.shape[:2])\n",
    "    if max_size and biggest_size > max_size:\n",
    "        ratio = 1.0 * max_size / biggest_size\n",
    "        img = cv2.resize(img, (int(ratio * img.shape[1]), int(ratio * img.shape[0])))\n",
    "    return img"
   ]
  },
  {
   "cell_type": "code",
   "execution_count": null,
   "metadata": {},
   "outputs": [],
   "source": [
    "# export\n",
    "\n",
    "\n",
    "def fit_to_max_size(img, max_width, max_height):\n",
    "    \"\"\"\n",
    "    Limit the image size to maximum width and height and scale the image,\n",
    "    if size exceeded.\n",
    "    `img`: The image to validate as OpenCV Image.\n",
    "    `max_width`: The max allowed image width.\n",
    "    `max_height`: The max allowed image height.\n",
    "    :return: The eventually resized image.\n",
    "    \"\"\"\n",
    "    h, w = img.shape[:2]\n",
    "    scale_delta = max(w - max_width, h - max_height)\n",
    "    if scale_delta > 0:\n",
    "        max_size = max(w - scale_delta, h - scale_delta)\n",
    "        img = limit_to_max_size(img, max_size)\n",
    "    return img"
   ]
  },
  {
   "cell_type": "code",
   "execution_count": null,
   "metadata": {},
   "outputs": [],
   "source": [
    "# export\n",
    "\n",
    "\n",
    "def get_image_size(fname):\n",
    "    \"\"\"\n",
    "    Calculates image size of a given image file.\n",
    "    `fname`: the file path\n",
    "    return: the image width and height\n",
    "    \"\"\"\n",
    "    img = cv2.imread(fname)\n",
    "    h, w = img.shape[:2]\n",
    "    return w, h"
   ]
  }
 ],
 "metadata": {
  "kernelspec": {
   "display_name": "Python [conda env:ML-Core]",
   "language": "python",
   "name": "conda-env-ML-Core-py"
  }
 },
 "nbformat": 4,
 "nbformat_minor": 4
}
