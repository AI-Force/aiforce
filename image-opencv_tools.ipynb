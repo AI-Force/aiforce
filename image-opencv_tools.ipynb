{
 "cells": [
  {
   "cell_type": "code",
   "execution_count": null,
   "metadata": {},
   "outputs": [],
   "source": [
    "# default_exp image.opencv_tools"
   ]
  },
  {
   "cell_type": "code",
   "execution_count": null,
   "metadata": {},
   "outputs": [],
   "source": [
    "# hide\n",
    "from nbdev.showdoc import *"
   ]
  },
  {
   "cell_type": "code",
   "execution_count": null,
   "metadata": {},
   "outputs": [],
   "source": [
    "# export\n",
    "import cv2\n",
    "import base64\n",
    "import numpy as np"
   ]
  },
  {
   "cell_type": "code",
   "execution_count": null,
   "metadata": {},
   "outputs": [],
   "source": [
    "# hide\n",
    "%reload_ext autoreload\n",
    "%autoreload 2"
   ]
  },
  {
   "cell_type": "markdown",
   "metadata": {},
   "source": [
    "# Image Tools for OpenCV\n",
    "> Tools for converting images by using OpenCV library."
   ]
  },
  {
   "cell_type": "code",
   "execution_count": null,
   "metadata": {},
   "outputs": [],
   "source": [
    "# export\n",
    "def limit_to_max_size(img, max_size):\n",
    "    \"\"\"\n",
    "    Limit the image size to max size and scale the image,\n",
    "    if max size exceeded.\n",
    "    `img`: The image to validate as OpenCV image.\n",
    "    `max_size`: The max allowed image size.\n",
    "    :return: The eventually resized opencv image.\n",
    "    \"\"\"\n",
    "    biggest_size = max(img.shape[:2])\n",
    "    if max_size and biggest_size > max_size:\n",
    "        ratio = 1.0 * max_size / biggest_size\n",
    "        img = cv2.resize(img, (int(ratio * img.shape[1]), int(ratio * img.shape[0])))\n",
    "    return img"
   ]
  },
  {
   "cell_type": "code",
   "execution_count": null,
   "metadata": {},
   "outputs": [],
   "source": [
    "# export\n",
    "def fit_to_max_size(img, max_width, max_height):\n",
    "    \"\"\"\n",
    "    Limit the image size to maximum width and height and scale the image,\n",
    "    if size exceeded.\n",
    "    `img`: The image to validate as OpenCV Image.\n",
    "    `max_width`: The max allowed image width.\n",
    "    `max_height`: The max allowed image height.\n",
    "    :return: The eventually resized OpenCV image.\n",
    "    \"\"\"\n",
    "    h, w = img.shape[:2]\n",
    "    scale_delta = max(w - max_width, h - max_height)\n",
    "    if scale_delta > 0:\n",
    "        max_size = max(w - scale_delta, h - scale_delta)\n",
    "        img = limit_to_max_size(img, max_size)\n",
    "    return img"
   ]
  },
  {
   "cell_type": "code",
   "execution_count": null,
   "metadata": {},
   "outputs": [],
   "source": [
    "# export\n",
    "def load_image(fname):\n",
    "    \"\"\"\n",
    "    Load an image using the OpenCV library\n",
    "    `fname`: the file path or BytesIO stream\n",
    "    return: the Pillow image\n",
    "    \"\"\"\n",
    "    return cv2.imread(fname)"
   ]
  },
  {
   "cell_type": "code",
   "execution_count": null,
   "metadata": {},
   "outputs": [],
   "source": [
    "# export\n",
    "def load_from_base64(img_b64, img_format=cv2.IMREAD_COLOR):\n",
    "    \"\"\"\n",
    "    Load an image as base64 string using the Pillow library\n",
    "    `img_b64`: the image as base64 string\n",
    "    return: the Pillow image\n",
    "    \"\"\"\n",
    "    img_bytes = base64.b64decode(img_b64)  # convert as binary image\n",
    "    img_arr = np.frombuffer(img_bytes, dtype=np.uint8)  # im_arr is one-dim Numpy array\n",
    "    return cv2.imdecode(img_arr, flags=img_format)"
   ]
  },
  {
   "cell_type": "code",
   "execution_count": null,
   "metadata": {},
   "outputs": [],
   "source": [
    "# export\n",
    "def get_image_size(fname):\n",
    "    \"\"\"\n",
    "    Calculates image size of a given image file.\n",
    "    `fname`: the file path\n",
    "    return: the OpenCV image, image width and height\n",
    "    \"\"\"\n",
    "    img = load_image(fname)\n",
    "    h, w = img.shape[:2]\n",
    "    return img, w, h"
   ]
  },
  {
   "cell_type": "code",
   "execution_count": null,
   "metadata": {},
   "outputs": [],
   "source": [
    "# export\n",
    "def from_pillow_image(img):\n",
    "    \"\"\"\n",
    "    Converts a Pillow image to OpenCV image.\n",
    "    `img`: the Pillow image\n",
    "    return: the OpenCV image\n",
    "    \"\"\"\n",
    "    return cv2.cvtColor(np.array(img), cv2.COLOR_RGB2BGR)"
   ]
  },
  {
   "cell_type": "code",
   "execution_count": null,
   "metadata": {},
   "outputs": [],
   "source": [
    "# export\n",
    "def convert_to_base64(image, image_type=\"PNG\"):\n",
    "    \"\"\"\n",
    "    Converts the specified image into a base64 version of itself.\n",
    "    Source code mainly taken from:\n",
    "    https://jdhao.github.io/2020/03/17/base64_opencv_pil_image_conversion/\n",
    "    `image`: The image to transform as CV2 Image.\n",
    "    `image_type`: The image type.\n",
    "    :return: The base64 encoded version of the image.\n",
    "    \"\"\"\n",
    "    _, img_arr = cv2.imencode(f'.{image_type.lower()}', image)  # im_arr: image in Numpy one-dim array format.\n",
    "    img_bytes = img_arr.tobytes()\n",
    "    return base64.b64encode(img_bytes)"
   ]
  },
  {
   "cell_type": "code",
   "execution_count": null,
   "metadata": {},
   "outputs": [
    {
     "name": "stdout",
     "output_type": "stream",
     "text": [
      "Converted annotation-core.ipynb.\n",
      "Converted annotation-folder_category_adapter.ipynb.\n",
      "Converted annotation-multi_category_adapter.ipynb.\n",
      "Converted annotation-via_adapter.ipynb.\n",
      "Converted annotation-yolo_adapter.ipynb.\n",
      "Converted annotation_converter.ipynb.\n",
      "Converted annotation_viewer.ipynb.\n",
      "Converted category_tools.ipynb.\n",
      "Converted core.ipynb.\n",
      "Converted dataset-core.ipynb.\n",
      "Converted dataset-image_classification.ipynb.\n",
      "Converted dataset-image_object_detection.ipynb.\n",
      "Converted dataset-image_segmentation.ipynb.\n",
      "Converted dataset-type.ipynb.\n",
      "Converted dataset_generator.ipynb.\n",
      "Converted evaluation-core.ipynb.\n",
      "Converted image-color_palette.ipynb.\n",
      "Converted image-opencv_tools.ipynb.\n",
      "Converted image-pillow_tools.ipynb.\n",
      "Converted image-tools.ipynb.\n",
      "Converted index.ipynb.\n",
      "Converted io-core.ipynb.\n",
      "Converted tensorflow-tflite_converter.ipynb.\n",
      "Converted tensorflow-tflite_metadata.ipynb.\n",
      "Converted tensorflow-tfrecord_builder.ipynb.\n",
      "Converted tools-check_double_images.ipynb.\n",
      "Converted tools-downloader.ipynb.\n",
      "Converted tools-image_size_calculator.ipynb.\n"
     ]
    }
   ],
   "source": [
    "# hide\n",
    "\n",
    "# for generating scripts from notebook directly\n",
    "from nbdev.export import notebook2script\n",
    "notebook2script()"
   ]
  }
 ],
 "metadata": {
  "kernelspec": {
   "display_name": "Python [conda env:ML-Core]",
   "language": "python",
   "name": "conda-env-ML-Core-py"
  }
 },
 "nbformat": 4,
 "nbformat_minor": 4
}
