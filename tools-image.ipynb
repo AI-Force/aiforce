{
 "cells": [
  {
   "cell_type": "code",
   "execution_count": null,
   "metadata": {},
   "outputs": [],
   "source": [
    "# default_exp tools.image"
   ]
  },
  {
   "cell_type": "code",
   "execution_count": null,
   "metadata": {},
   "outputs": [],
   "source": [
    "# hide\n",
    "from nbdev.showdoc import *"
   ]
  },
  {
   "cell_type": "code",
   "execution_count": null,
   "metadata": {},
   "outputs": [],
   "source": [
    "# export\n",
    "import base64\n",
    "from io import BytesIO"
   ]
  },
  {
   "cell_type": "code",
   "execution_count": null,
   "metadata": {},
   "outputs": [],
   "source": [
    "# hide\n",
    "%reload_ext autoreload\n",
    "%autoreload 2\n",
    "%matplotlib inline"
   ]
  },
  {
   "cell_type": "markdown",
   "metadata": {},
   "source": [
    "# Image Tools\n",
    "\n",
    "> Tools for converting images."
   ]
  },
  {
   "cell_type": "code",
   "execution_count": null,
   "metadata": {},
   "outputs": [],
   "source": [
    "# export\n",
    "\n",
    "\n",
    "def overlay_image(image_original, image_annotation, transparency=0.3):\n",
    "    \"\"\"\n",
    "    Creates an overlay image as Pillow Image.\n",
    "\n",
    "    `image_original`: The base image as Pillow Image.\n",
    "    `image_annotation`: The image to overlay as Pillow Image.\n",
    "    `transparency`: The amount of transparency to assign to the overlay image.\n",
    "\n",
    "    return: The overlay image as Pillow Image.\n",
    "    \"\"\"\n",
    "    image_annotation = image_annotation.convert(\"RGBA\")\n",
    "\n",
    "    pixdata = image_annotation.load()\n",
    "\n",
    "    width, height = image_annotation.size\n",
    "    # make 70% transparency of the annotation\n",
    "    alpha = 255 - int(255 * transparency)\n",
    "    image_annotation.putalpha(alpha)\n",
    "    # make background transparent\n",
    "    for y in range(height):\n",
    "        for x in range(width):\n",
    "            if pixdata[x, y] == (0, 0, 0, alpha):\n",
    "                pixdata[x, y] = (0, 0, 0, 0)\n",
    "    overlay = image_original.convert(\"RGBA\")\n",
    "    overlay.paste(image_annotation, (0, 0), image_annotation)\n",
    "    return overlay"
   ]
  },
  {
   "cell_type": "code",
   "execution_count": null,
   "metadata": {},
   "outputs": [],
   "source": [
    "# export\n",
    "\n",
    "\n",
    "def limit_to_max_size(img, max_size):\n",
    "    \"\"\"\n",
    "    Limit the image size to max size and scale the image,\n",
    "    if max size exceeded.\n",
    "    `img`: The image to validate as Pillow Image.\n",
    "    `max_size`: The max allowed image size.\n",
    "    :return: The eventually resized image.\n",
    "    \"\"\"\n",
    "    biggest_size = max(img.size)\n",
    "    if max_size and biggest_size > max_size:\n",
    "        ratio = 1.0 * max_size / biggest_size\n",
    "        img = img.resize([int(ratio * s) for s in img.size])\n",
    "    return img"
   ]
  },
  {
   "cell_type": "code",
   "execution_count": null,
   "metadata": {},
   "outputs": [],
   "source": [
    "# export\n",
    "\n",
    "\n",
    "def convert_to_base64(image, image_type=\"PNG\"):\n",
    "    \"\"\"\n",
    "    Converts the specified image into a base64 version of itself.\n",
    "\n",
    "    `image`: The image to transform as Pillow Image.\n",
    "    `image_type`: The image type.\n",
    "    :return: The base64 encoded version of the image.\n",
    "    \"\"\"\n",
    "    buffered = BytesIO()\n",
    "    image.save(buffered, format=image_type)\n",
    "    return base64.b64encode(buffered.getvalue()).decode('UTF-8')\n"
   ]
  }
 ],
 "metadata": {
  "kernelspec": {
   "display_name": "Python [conda env:ML-Core]",
   "language": "python",
   "name": "conda-env-ML-Core-py"
  }
 },
 "nbformat": 4,
 "nbformat_minor": 4
}
