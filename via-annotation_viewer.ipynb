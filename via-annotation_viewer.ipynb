{
 "cells": [
  {
   "cell_type": "code",
   "execution_count": null,
   "metadata": {},
   "outputs": [],
   "source": [
    "# default_exp annotation.viewer"
   ]
  },
  {
   "cell_type": "code",
   "execution_count": null,
   "metadata": {},
   "outputs": [],
   "source": [
    "# hide\n",
    "from nbdev.showdoc import *"
   ]
  },
  {
   "cell_type": "code",
   "execution_count": null,
   "metadata": {},
   "outputs": [],
   "source": [
    "# export\n",
    "\n",
    "import sys\n",
    "import argparse\n",
    "import logging\n",
    "import cv2\n",
    "import numpy as np\n",
    "from mlcore.image.opencv_tools import fit_to_max_size\n",
    "from mlcore.io.core import scan_files\n",
    "from mlcore.annotation.via import Shape, DEFAULT_CATEGORY_LABEL_KEY, read_annotations, get_annotation_for_file, get_regions, get_shape_attributes, get_shape_type, get_region_attributes, get_region_category, get_points"
   ]
  },
  {
   "cell_type": "code",
   "execution_count": null,
   "metadata": {},
   "outputs": [],
   "source": [
    "# hide\n",
    "%reload_ext autoreload\n",
    "%autoreload 2\n",
    "%matplotlib inline"
   ]
  },
  {
   "cell_type": "code",
   "execution_count": null,
   "metadata": {},
   "outputs": [],
   "source": [
    "# export\n",
    "\n",
    "logger = logging.getLogger(__name__)"
   ]
  },
  {
   "cell_type": "markdown",
   "metadata": {},
   "source": [
    "# VIA Annotation Viewer\n",
    "> VIA Annotation Viewer Notes."
   ]
  },
  {
   "cell_type": "code",
   "execution_count": null,
   "metadata": {},
   "outputs": [],
   "source": [
    "# export\n",
    "\n",
    "\n",
    "def show_annotated_images(images, annotations, category_label_key=DEFAULT_CATEGORY_LABEL_KEY,\n",
    "                          max_width=0, max_height=0):\n",
    "    \"\"\"\n",
    "    Show images with corresponding annotations.\n",
    "    Images are shown one at a time with switching by using the arrow left/right keys.\n",
    "    `images`: The list of images to view\n",
    "    `annotations`: The annotations for the images\n",
    "    `category_label_key`: The category label key used\n",
    "    `max_width`: The maximum width to scale the image for visibility.\n",
    "    `max_height`: The maximum height to scale the image for visibility.\n",
    "    \"\"\"\n",
    "    image_index = 0\n",
    "    len_images = len(images)\n",
    "    logger.info(\"Keys to use:\")\n",
    "    logger.info(\"n = Next Image\")\n",
    "    logger.info(\"b = Previous Image\")\n",
    "    logger.info(\"q = Quit\")\n",
    "\n",
    "    logger.info(\"Images to view: {}\".format(len_images))\n",
    "\n",
    "    while True:\n",
    "        image_path = images[image_index]\n",
    "        logger.info(\"View Image {}/{}: {}\".format(image_index + 1, len_images, image_path))\n",
    "        img = cv2.imread(image_path, cv2.IMREAD_COLOR)\n",
    "        annotation = get_annotation_for_file(annotations, image_path)\n",
    "        regions = get_regions(annotation)\n",
    "        if regions is not None:\n",
    "            logger.info(\"Found Annotation with {} regions\".format(len(regions)))\n",
    "            for region_index, region in regions.items():\n",
    "                shape_attributes = get_shape_attributes(region)\n",
    "                shape_type = get_shape_type(shape_attributes)\n",
    "                x_points, y_points = get_points(shape_attributes)\n",
    "                category = get_region_category(get_region_attributes(region), category_label_key)\n",
    "                points = list(zip(x_points, y_points))\n",
    "                logger.info(\"Found {} of category {} with {} points: {}\".format(shape_type, category, len(points), points))\n",
    "                if shape_type == Shape.RECTANGLE:\n",
    "                    img = cv2.rectangle(img, points[0], points[1], (0, 255, 0), 2)\n",
    "                elif shape_type == Shape.POLYGON:\n",
    "                    pts = np.array(points, np.int32)\n",
    "                    pts = pts.reshape((-1, 1, 2))\n",
    "                    img = cv2.polylines(img, [pts], True, (0, 255, 255))\n",
    "\n",
    "        if max_width and max_height:\n",
    "            img = fit_to_max_size(img, max_width, max_height)\n",
    "\n",
    "        cv2.imshow('Image', img)\n",
    "        k = cv2.waitKey(0)\n",
    "        if k == ord('q'):    # 'q' key to stop\n",
    "            break\n",
    "        elif k == ord('b'):\n",
    "            image_index = max(0, image_index - 1)\n",
    "        elif k == ord('n'):\n",
    "            image_index = min(len_images - 1, image_index + 1)\n",
    "\n",
    "    cv2.destroyAllWindows()"
   ]
  },
  {
   "cell_type": "markdown",
   "metadata": {},
   "source": [
    "## Helper Methods"
   ]
  },
  {
   "cell_type": "code",
   "execution_count": null,
   "metadata": {},
   "outputs": [],
   "source": [
    "# export\n",
    "\n",
    "\n",
    "def configure_logging(logging_level=logging.INFO):\n",
    "    \"\"\"\n",
    "    Configures logging for the system.\n",
    "\n",
    "    :param logging_level: The logging level to use.\n",
    "    \"\"\"\n",
    "    logger.setLevel(logging_level)\n",
    "\n",
    "    handler = logging.StreamHandler(sys.stdout)\n",
    "    handler.setLevel(logging_level)\n",
    "\n",
    "    logger.addHandler(handler)"
   ]
  },
  {
   "cell_type": "markdown",
   "metadata": {},
   "source": [
    "## Run from command line"
   ]
  },
  {
   "cell_type": "markdown",
   "metadata": {},
   "source": [
    "To run the data-set builder from command line, use the following command:\n",
    "`python -m mlcore.via.annotation_viewer [parameters]`"
   ]
  },
  {
   "cell_type": "markdown",
   "metadata": {},
   "source": [
    "The following parameters are supported:\n",
    "- `path`: The path to the images to view. (e.g.: *imagesets/segmentation/car_damage/trainval*)\n",
    "- `--annotation`: The path to the VIA annotation file (e.g.: *imagesets/segmentation/car_damage/via_region_data.json*)\n",
    "- `--category-label-key`: The category label key used, default to `category`"
   ]
  },
  {
   "cell_type": "code",
   "execution_count": null,
   "metadata": {},
   "outputs": [],
   "source": [
    "# export\n",
    "\n",
    "\n",
    "if __name__ == '__main__' and '__file__' in globals():\n",
    "    # for direct shell execution\n",
    "    configure_logging()\n",
    "\n",
    "    parser = argparse.ArgumentParser()\n",
    "    parser.add_argument(\"path\",\n",
    "                        help=\"The path to the images to view.\")\n",
    "    parser.add_argument(\"-a\",\n",
    "                        \"--annotation\",\n",
    "                        help=\"The path to the VIA annotation file.\")\n",
    "    parser.add_argument(\"-k\",\n",
    "                        \"--category-label-key\",\n",
    "                        help=\"The category label key used.\",\n",
    "                        default=DEFAULT_CATEGORY_LABEL_KEY)\n",
    "    parser.add_argument(\"--max-width\",\n",
    "                        help=\"The maximum width to scale the image for visibility.\",\n",
    "                        type=int,\n",
    "                        default=0)\n",
    "    parser.add_argument(\"--max-height\",\n",
    "                        help=\"The maximum height to scale the image for visibility.\",\n",
    "                        type=int,\n",
    "                        default=0)\n",
    "\n",
    "    args = parser.parse_args()\n",
    "\n",
    "    files = scan_files(args.path)\n",
    "    annotations = read_annotations(args.annotation)\n",
    "    show_annotated_images(files, annotations, args.category_label_key, args.max_width, args.max_height)\n"
   ]
  },
  {
   "cell_type": "code",
   "execution_count": null,
   "metadata": {},
   "outputs": [],
   "source": []
  }
 ],
 "metadata": {
  "kernelspec": {
   "display_name": "Python [conda env:ML-Core]",
   "language": "python",
   "name": "conda-env-ML-Core-py"
  }
 },
 "nbformat": 4,
 "nbformat_minor": 4
}
