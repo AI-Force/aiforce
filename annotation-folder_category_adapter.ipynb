{
 "cells": [
  {
   "cell_type": "code",
   "execution_count": null,
   "metadata": {},
   "outputs": [],
   "source": [
    "# default_exp annotation.folder_category_adapter"
   ]
  },
  {
   "cell_type": "code",
   "execution_count": null,
   "metadata": {},
   "outputs": [],
   "source": [
    "# hide\n",
    "from nbdev.showdoc import *"
   ]
  },
  {
   "cell_type": "code",
   "execution_count": null,
   "metadata": {},
   "outputs": [],
   "source": [
    "# export\n",
    "import logging\n",
    "import shutil\n",
    "from os.path import join, normpath, sep, basename, isfile\n",
    "from mlcore.core import assign_arg_prefix\n",
    "from mlcore.io.core import create_folder, scan_files\n",
    "from mlcore.annotation.core import Annotation, AnnotationAdapter, Region, SubsetType"
   ]
  },
  {
   "cell_type": "code",
   "execution_count": null,
   "metadata": {},
   "outputs": [],
   "source": [
    "# hide\n",
    "%reload_ext autoreload\n",
    "%autoreload 2\n",
    "%matplotlib inline"
   ]
  },
  {
   "cell_type": "code",
   "execution_count": null,
   "metadata": {},
   "outputs": [],
   "source": [
    "# export\n",
    "DEFAULT_CATEGORY_FOLDER_INDEX = -1"
   ]
  },
  {
   "cell_type": "code",
   "execution_count": null,
   "metadata": {},
   "outputs": [],
   "source": [
    "# export\n",
    "logger = logging.getLogger(__name__)"
   ]
  },
  {
   "cell_type": "markdown",
   "metadata": {},
   "source": [
    "# Folder Category Annotation Adapter\n",
    "> Adapter to read and write annotations where the folder structure represents the categories."
   ]
  },
  {
   "cell_type": "markdown",
   "metadata": {},
   "source": [
    "The adapter has the following parameters:\n",
    "- `--path`: the path to the base folder containing the annotations (e.g.: *data/image_classification/my_collection*)\n",
    "- `--categories_file_name`: tThe path to the categories file if not set, default to *categories.txt*\n",
    "- `--category_index`: The folder index, representing the category, default to *-1* (the parent folder of the file)"
   ]
  },
  {
   "cell_type": "code",
   "execution_count": null,
   "metadata": {},
   "outputs": [],
   "source": [
    "# export\n",
    "class FolderCategoryAnnotationAdapter(AnnotationAdapter):\n",
    "    \"\"\"\n",
    "    Adapter to read and write annotations where the folder structure represents the categories.\n",
    "    \"\"\"\n",
    "\n",
    "    def __init__(self, path, categories_file_name=None, category_index=None):\n",
    "        \"\"\"\n",
    "        Multi Label Classification Adapter to read and write annotations.\n",
    "        `path`: the folder containing the annotations\n",
    "        `categories_file_name`: the name of the categories file\n",
    "        `category_index`: the folder index, representing the category\n",
    "        \"\"\"\n",
    "        super().__init__(path, categories_file_name)\n",
    "\n",
    "        self.category_index = category_index if category_index is not None else DEFAULT_CATEGORY_FOLDER_INDEX\n",
    "\n",
    "    @classmethod\n",
    "    def argparse(cls, prefix=None):\n",
    "        \"\"\"\n",
    "        Returns the argument parser containing argument definition for command line use.\n",
    "        `prefix`: a parameter prefix to set, if needed\n",
    "        return: the argument parser\n",
    "        \"\"\"\n",
    "        parser = super(FolderCategoryAnnotationAdapter, cls).argparse(prefix=prefix)\n",
    "        parser.add_argument(assign_arg_prefix('--category_index', prefix),\n",
    "                            dest=\"category_index\",\n",
    "                            help=\"The folder index, representing the category.\",\n",
    "                            type=int,\n",
    "                            default=None)\n",
    "        return parser\n",
    "\n",
    "    def read_annotations(self, subset_type=SubsetType.TRAINVAL):\n",
    "        \"\"\"\n",
    "        Read annotations from folder structure representing the categories.\n",
    "        `subset_type`: the subset type to read\n",
    "        return: the annotations as dictionary\n",
    "        \"\"\"\n",
    "        annotations = {}\n",
    "        path = join(self.path, str(subset_type))\n",
    "        logger.info('Read annotations from {}'.format(path))\n",
    "\n",
    "        file_paths = scan_files(path)\n",
    "\n",
    "        skipped_annotations = []\n",
    "        for file_path in file_paths:\n",
    "            trimmed_path = self._trim_base_path(file_path, path)\n",
    "            if trimmed_path not in annotations:\n",
    "                annotations[trimmed_path] = Annotation(annotation_id=trimmed_path, file_path=file_path)\n",
    "            annotation = annotations[trimmed_path]\n",
    "\n",
    "            path_split = normpath(trimmed_path).lstrip(sep).split(sep)\n",
    "\n",
    "            if len(path_split) <= abs(self.category_index):\n",
    "                logger.warning(\"{}: No category folder found, skip annotation.\".format(trimmed_path))\n",
    "                skipped_annotations.append(file_path)\n",
    "                continue\n",
    "\n",
    "            category = path_split[self.category_index - 1]\n",
    "            region = Region(labels=[category])\n",
    "            annotation.regions.append(region)\n",
    "\n",
    "        logger.info('Finished read annotations')\n",
    "        logger.info('Annotations read: {}'.format(len(annotations)))\n",
    "        if skipped_annotations:\n",
    "            logger.info('Annotations skipped: {}'.format(len(skipped_annotations)))\n",
    "        return annotations\n",
    "\n",
    "    def write_annotations(self, annotations, subset_type=SubsetType.TRAINVAL):\n",
    "        \"\"\"\n",
    "        Write annotations to folder structure representing the categories.\n",
    "        `annotations`: the annotations as dictionary\n",
    "        `subset_type`: the subset type to write\n",
    "        return: a list of written target file paths\n",
    "        \"\"\"\n",
    "        path = join(self.path, str(subset_type))\n",
    "        logger.info('Write annotations to {}'.format(path))\n",
    "        skipped_annotations = []\n",
    "        copied_files = []\n",
    "        for annotation in annotations.values():\n",
    "            if not isfile(annotation.file_path):\n",
    "                logger.warning(\"{}: Source file not found, skip annotation.\".format(annotation.file_path))\n",
    "                skipped_annotations.append(annotation.file_path)\n",
    "                continue\n",
    "\n",
    "            skipped_labels = []\n",
    "            annotation_labels = annotation.labels()\n",
    "            for label in annotation_labels:\n",
    "                category_folder = create_folder(join(path, label))\n",
    "                target_file = join(category_folder, basename(annotation.file_path))\n",
    "                if isfile(target_file):\n",
    "                    logger.warning(\"{}: Target file already exist, skip label {}.\".format(annotation.file_path, label))\n",
    "                    skipped_labels.append(label)\n",
    "                    continue\n",
    "                # copy the file\n",
    "                shutil.copy2(annotation.file_path, target_file)\n",
    "                copied_files.append(target_file)\n",
    "            if len(skipped_labels) == len(annotation_labels):\n",
    "                logger.warning(\"{}: All labels skipped, skip annotation.\".format(annotation.file_path))\n",
    "                skipped_annotations.append(annotation.file_path)\n",
    "\n",
    "        logger.info('Finished write annotations')\n",
    "        logger.info('Annotations written: {}'.format(len(annotations) - len(skipped_annotations)))\n",
    "        if skipped_annotations:\n",
    "            logger.info('Annotations skipped: {}'.format(len(skipped_annotations)))\n",
    "        return copied_files\n",
    "\n",
    "    @classmethod\n",
    "    def _trim_base_path(cls, file_path, base_path):\n",
    "        \"\"\"\n",
    "        Trims the base path from a file path.\n",
    "        `file_path`: the file path to trim from\n",
    "        `base_path`: the base path to trim\n",
    "        return: the trimmed file path\n",
    "        \"\"\"\n",
    "        if file_path.startswith(base_path):\n",
    "            file_path = file_path[len(base_path):]\n",
    "        return file_path\n"
   ]
  },
  {
   "cell_type": "code",
   "execution_count": null,
   "metadata": {},
   "outputs": [],
   "source": [
    "show_doc(FolderCategoryAnnotationAdapter.list_files)\n",
    "show_doc(FolderCategoryAnnotationAdapter.read_annotations)\n",
    "show_doc(FolderCategoryAnnotationAdapter.read_categories)\n",
    "show_doc(FolderCategoryAnnotationAdapter.write_files)\n",
    "show_doc(FolderCategoryAnnotationAdapter.write_annotations)\n",
    "show_doc(FolderCategoryAnnotationAdapter.write_categories)\n",
    "show_doc(FolderCategoryAnnotationAdapter.argparse)"
   ]
  },
  {
   "cell_type": "code",
   "execution_count": null,
   "metadata": {},
   "outputs": [
    {
     "name": "stdout",
     "output_type": "stream",
     "text": [
      "Converted annotation-core.ipynb.\n",
      "Converted annotation-folder_category_adapter.ipynb.\n",
      "Converted annotation-multi_category_adapter.ipynb.\n",
      "Converted annotation-via_adapter.ipynb.\n",
      "Converted annotation-yolo_adapter.ipynb.\n",
      "Converted annotation_converter.ipynb.\n",
      "Converted annotation_viewer.ipynb.\n",
      "Converted category_tools.ipynb.\n",
      "Converted core.ipynb.\n",
      "Converted dataset-core.ipynb.\n",
      "Converted dataset-image_classification.ipynb.\n",
      "Converted dataset-image_object_detection.ipynb.\n",
      "Converted dataset-image_segmentation.ipynb.\n",
      "Converted dataset-type.ipynb.\n",
      "Converted dataset_generator.ipynb.\n",
      "Converted evaluation-core.ipynb.\n",
      "Converted geometry.ipynb.\n",
      "Converted image-color_palette.ipynb.\n",
      "Converted image-inference.ipynb.\n",
      "Converted image-opencv_tools.ipynb.\n",
      "Converted image-pillow_tools.ipynb.\n",
      "Converted image-tools.ipynb.\n",
      "Converted index.ipynb.\n",
      "Converted io-core.ipynb.\n",
      "Converted tensorflow-tflite_converter.ipynb.\n",
      "Converted tensorflow-tflite_metadata.ipynb.\n",
      "Converted tensorflow-tfrecord_builder.ipynb.\n",
      "Converted tools-check_double_images.ipynb.\n",
      "Converted tools-downloader.ipynb.\n",
      "Converted tools-image_size_calculator.ipynb.\n"
     ]
    }
   ],
   "source": [
    "# hide\n",
    "\n",
    "# for generating scripts from notebook directly\n",
    "from nbdev.export import notebook2script\n",
    "notebook2script()"
   ]
  },
  {
   "cell_type": "code",
   "execution_count": null,
   "metadata": {},
   "outputs": [],
   "source": []
  }
 ],
 "metadata": {
  "kernelspec": {
   "display_name": "Python [conda env:ML-Core]",
   "language": "python",
   "name": "conda-env-ML-Core-py"
  }
 },
 "nbformat": 4,
 "nbformat_minor": 4
}
