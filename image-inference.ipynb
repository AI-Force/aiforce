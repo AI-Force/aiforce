{
 "cells": [
  {
   "cell_type": "code",
   "execution_count": null,
   "metadata": {},
   "outputs": [],
   "source": [
    "# default_exp image.inference"
   ]
  },
  {
   "cell_type": "code",
   "execution_count": null,
   "metadata": {},
   "outputs": [],
   "source": [
    "# hide\n",
    "from nbdev.showdoc import *"
   ]
  },
  {
   "cell_type": "code",
   "execution_count": null,
   "metadata": {},
   "outputs": [],
   "source": [
    "# export\n",
    "\n",
    "import asyncio\n",
    "import numpy as np\n",
    "from fastai.basic_train import load_learner\n",
    "from fastai import vision"
   ]
  },
  {
   "cell_type": "code",
   "execution_count": null,
   "metadata": {},
   "outputs": [],
   "source": [
    "# hide\n",
    "%reload_ext autoreload\n",
    "%autoreload 2\n",
    "%matplotlib inline"
   ]
  },
  {
   "cell_type": "markdown",
   "metadata": {},
   "source": [
    "## Helper Methods"
   ]
  },
  {
   "cell_type": "code",
   "execution_count": null,
   "metadata": {},
   "outputs": [],
   "source": [
    "# export\n",
    "\n",
    "\n",
    "async def setup_learner(path):\n",
    "    \"\"\"\n",
    "    Setup the learner with weights.\n",
    "    `path`: The path to the folder containing the exported model file.\n",
    "    \"\"\"\n",
    "    try:\n",
    "        return load_learner(path.parent, path.name)\n",
    "    except RuntimeError as e:\n",
    "        if len(e.args) > 0 and 'CPU-only machine' in e.args[0]:\n",
    "            print(e)\n",
    "            messages = [\n",
    "                \"This model was trained with an old version of fastai and will not work in a CPU environment.\",\n",
    "                \"Please update the fastai library in your training environment and export your model again.\",\n",
    "            ]\n",
    "            message = \"\\n\\n{}\".format(\"\\n\\n\".join(messages))\n",
    "            raise RuntimeError(message)\n",
    "        else:\n",
    "            raise"
   ]
  },
  {
   "cell_type": "code",
   "execution_count": null,
   "metadata": {},
   "outputs": [],
   "source": [
    "# export\n",
    "\n",
    "\n",
    "def fix_odd_sides(img):\n",
    "    \"\"\"\n",
    "    Fix odd image sizes.\n",
    "    Odd image sizes can not be divided by 2.\n",
    "    `img`: The image to fix as fastai image.\n",
    "    return: the image reference.\n",
    "    \"\"\"\n",
    "    if (list(img.size)[0] % 2) != 0:\n",
    "        img = vision.crop_pad(img, size=(list(img.size)[0] + 1, list(img.size)[1]), padding_mode='reflection')\n",
    "\n",
    "    if (list(img.size)[1] % 2) != 0:\n",
    "        img = vision.crop_pad(img, size=(list(img.size)[0], list(img.size)[1] + 1), padding_mode='reflection')\n",
    "\n",
    "    return img"
   ]
  },
  {
   "cell_type": "code",
   "execution_count": null,
   "metadata": {},
   "outputs": [],
   "source": [
    "# export\n",
    "\n",
    "\n",
    "class SegmentationInference:\n",
    "    def __init__(self, path):\n",
    "        self.path = path\n",
    "        loop = asyncio.get_event_loop()\n",
    "        tasks = [asyncio.ensure_future(setup_learner(path))]\n",
    "        self.learner = loop.run_until_complete(asyncio.gather(*tasks))[0]\n",
    "        loop.close()\n",
    "\n",
    "    def destroy(self):\n",
    "        \"\"\"\n",
    "        Remove the current loaded model from memory.\n",
    "        \"\"\"\n",
    "        if self.learner:\n",
    "            self.learner.destroy()\n",
    "\n",
    "    def predict(self, x):\n",
    "        \"\"\"\n",
    "        Predicts an image.\n",
    "\n",
    "        `x`: the input to predict.\n",
    "        \"\"\"\n",
    "        x = fix_odd_sides(x)\n",
    "        seg, labels, probs = self.learner.predict(x)\n",
    "        mask = np.asarray(vision.image2np(seg.data), dtype=np.uint8)\n",
    "        return mask, labels, probs\n"
   ]
  },
  {
   "cell_type": "code",
   "execution_count": null,
   "metadata": {},
   "outputs": [],
   "source": []
  }
 ],
 "metadata": {
  "kernelspec": {
   "display_name": "Python [conda env:ML-Core]",
   "language": "python",
   "name": "conda-env-ML-Core-py"
  }
 },
 "nbformat": 4,
 "nbformat_minor": 4
}
