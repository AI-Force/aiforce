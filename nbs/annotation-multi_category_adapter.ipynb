{
 "cells": [
  {
   "cell_type": "code",
   "execution_count": null,
   "metadata": {},
   "outputs": [],
   "source": [
    "# default_exp annotation.multi_category_adapter"
   ]
  },
  {
   "cell_type": "code",
   "execution_count": null,
   "metadata": {},
   "outputs": [],
   "source": [
    "# hide\n",
    "from nbdev.showdoc import *\n",
    "from nbdev.export import notebook2script"
   ]
  },
  {
   "cell_type": "code",
   "execution_count": null,
   "metadata": {},
   "outputs": [],
   "source": [
    "# export\n",
    "\n",
    "import csv\n",
    "import sys\n",
    "import argparse\n",
    "import shutil\n",
    "import logging\n",
    "from os.path import join, basename, isfile, dirname\n",
    "from mlcore.io.core import create_folder\n",
    "from mlcore.annotation.core import Annotation, AnnotationAdapter, Region"
   ]
  },
  {
   "cell_type": "code",
   "execution_count": null,
   "metadata": {},
   "outputs": [],
   "source": [
    "# hide\n",
    "%reload_ext autoreload\n",
    "%autoreload 2\n",
    "%matplotlib inline"
   ]
  },
  {
   "cell_type": "code",
   "execution_count": null,
   "metadata": {},
   "outputs": [],
   "source": [
    "# export\n",
    "\n",
    "DEFAULT_ANNOTATIONS_FILE = 'annotations.csv'"
   ]
  },
  {
   "cell_type": "code",
   "execution_count": null,
   "metadata": {},
   "outputs": [],
   "source": [
    "# export\n",
    "\n",
    "logger = logging.getLogger(__name__)"
   ]
  },
  {
   "cell_type": "markdown",
   "metadata": {},
   "source": [
    "# Multi Category Annotation Adapter\n",
    "> Adapter to read and write annotations for multi label classification."
   ]
  },
  {
   "cell_type": "markdown",
   "metadata": {},
   "source": [
    "The `args` parameter contains the following options:\n",
    "- `files_path`: the path to the folder containing the source files (e.g.: *data/segmentation/my_collection/trainval*)\n",
    "- `annotations_file`: The path to the multi classification CSV annotation file (e.g.: data/segmentation/my_collection/annotations.csv)"
   ]
  },
  {
   "cell_type": "code",
   "execution_count": null,
   "metadata": {},
   "outputs": [],
   "source": [
    "# export\n",
    "\n",
    "\n",
    "class MultiCategoryAdapter(AnnotationAdapter):\n",
    "    \"\"\"\n",
    "    Adapter to read and write annotations for multi label classification.\n",
    "    `args`: the arguments containing the parameters\n",
    "    \"\"\"\n",
    "\n",
    "    def __init__(self, args):\n",
    "        super().__init__()\n",
    "        self.files_path = args.files_path\n",
    "        self.annotations_file = args.annotations_file\n",
    "\n",
    "    def read(self):\n",
    "        \"\"\"\n",
    "        Read annotations from a multi classification CSV annotations file.\n",
    "        return: the annotations as dictionary\n",
    "        \"\"\"\n",
    "        annotations = {}\n",
    "\n",
    "        logger.info('Read annotations from {}'.format(self.annotations_file))\n",
    "\n",
    "        with open(self.annotations_file, newline='') as csv_file:\n",
    "            reader = csv.DictReader(csv_file)\n",
    "\n",
    "            skipped_annotations = []\n",
    "            for row in reader:\n",
    "                file_path = join(self.files_path, row['image_name'])\n",
    "                if not isfile(file_path):\n",
    "                    logger.warning(\"{}: Source file not found, skip annotation.\".format(file_path))\n",
    "                    skipped_annotations.append(file_path)\n",
    "                    continue\n",
    "\n",
    "                if file_path not in annotations:\n",
    "                    annotations[file_path] = Annotation(annotation_id=file_path, file_path=file_path)\n",
    "\n",
    "                annotation = annotations[file_path]\n",
    "\n",
    "                tags = row['tags'] if 'tags' in row else []\n",
    "                for category in tags.split(' '):\n",
    "                    region = Region(labels=[category])\n",
    "                    annotation.regions.append(region)\n",
    "\n",
    "        logger.info('Finished read annotations')\n",
    "        logger.info('Annotations read: {}'.format(len(annotations)))\n",
    "        if skipped_annotations:\n",
    "            logger.info('Annotations skipped: {}'.format(len(skipped_annotations)))\n",
    "        return annotations\n",
    "\n",
    "    def write(self, annotations):\n",
    "        \"\"\"\n",
    "        Writes a multi classification CSV annotations file and copy the corresponding source files.\n",
    "        `annotations`: the annotations to write\n",
    "        \"\"\"\n",
    "        target_folder = create_folder(self.files_path)\n",
    "        create_folder(dirname(self.annotations_file))\n",
    "        logger.info('Write annotations to {}'.format(self.annotations_file))\n",
    "        logger.info('Write file sources to {}'.format(target_folder))\n",
    "        fieldnames = ['image_name', 'tags']\n",
    "        with open(self.annotations_file, 'w', newline='') as csv_file:\n",
    "            writer = csv.DictWriter(csv_file, fieldnames=fieldnames, delimiter=',', quotechar='\"',\n",
    "                                    quoting=csv.QUOTE_MINIMAL)\n",
    "            writer.writeheader()\n",
    "            skipped_annotations = []\n",
    "            for annotation in annotations.values():\n",
    "                target_file = join(target_folder, basename(annotation.file_path))\n",
    "\n",
    "                if not isfile(annotation.file_path):\n",
    "                    logger.warning(\"{}: Source file not found, skip annotation.\".format(annotation.file_path))\n",
    "                    skipped_annotations.append(annotation.file_path)\n",
    "                    continue\n",
    "                if isfile(target_file):\n",
    "                    logger.warning(\"{}: Target file already exist, skip annotation.\".format(annotation.file_path))\n",
    "                    skipped_annotations.append(annotation.file_path)\n",
    "                    continue\n",
    "\n",
    "                # copy the file\n",
    "                shutil.copy2(annotation.file_path, target_file)\n",
    "                writer.writerow({'image_name': basename(annotation.file_path),\n",
    "                                 'tags': ' '.join(annotation.labels())})\n",
    "\n",
    "        logger.info('Finished write annotations')\n",
    "        logger.info('Annotations written: {}'.format(len(annotations) - len(skipped_annotations)))\n",
    "        if skipped_annotations:\n",
    "            logger.info('Annotations skipped: {}'.format(len(skipped_annotations)))\n",
    "\n",
    "    @classmethod\n",
    "    def argparse(cls, prefix=None):\n",
    "        \"\"\"\n",
    "        Returns the argument parser containing argument definition for command line use.\n",
    "        `prefix`: a parameter prefix to set, if needed\n",
    "        return: the argument parser\n",
    "        \"\"\"\n",
    "        parser = argparse.ArgumentParser()\n",
    "        parser.add_argument(cls.assign_prefix('--files_path', prefix),\n",
    "                            dest=\"files_path\",\n",
    "                            help=\"The path to the folder containing the files.\",\n",
    "                            required=True)\n",
    "        parser.add_argument(cls.assign_prefix('--annotations_file', prefix),\n",
    "                            dest=\"annotations_file\",\n",
    "                            help=\"The path to the multi classification CSV annotation file.\",\n",
    "                            required=True)\n",
    "        return parser"
   ]
  },
  {
   "cell_type": "code",
   "execution_count": null,
   "metadata": {},
   "outputs": [],
   "source": [
    "show_doc(MultiCategoryAdapter.read)\n",
    "show_doc(MultiCategoryAdapter.write)\n",
    "show_doc(MultiCategoryAdapter.argparse)"
   ]
  },
  {
   "cell_type": "markdown",
   "metadata": {},
   "source": [
    "## Helper Methods"
   ]
  },
  {
   "cell_type": "code",
   "execution_count": null,
   "metadata": {},
   "outputs": [],
   "source": [
    "# export\n",
    "\n",
    "\n",
    "def configure_logging(logging_level=logging.INFO):\n",
    "    \"\"\"\n",
    "    Configures logging for the system.\n",
    "\n",
    "    :param logging_level: The logging level to use.\n",
    "    \"\"\"\n",
    "    logger.setLevel(logging_level)\n",
    "\n",
    "    handler = logging.StreamHandler(sys.stdout)\n",
    "    handler.setLevel(logging_level)\n",
    "\n",
    "    logger.addHandler(handler)\n"
   ]
  },
  {
   "cell_type": "code",
   "execution_count": null,
   "metadata": {},
   "outputs": [
    {
     "name": "stdout",
     "output_type": "stream",
     "text": [
      "Converted annotation-core.ipynb.\n",
      "Converted annotation-folder_category_adapter.ipynb.\n",
      "Converted annotation-multi_category_adapter.ipynb.\n",
      "Converted annotation-via_adapter.ipynb.\n",
      "Converted annotation-viewer.ipynb.\n",
      "Converted annotation-yolo_adapter.ipynb.\n",
      "Converted category_tools.ipynb.\n",
      "Converted core.ipynb.\n",
      "Converted dataset-core.ipynb.\n",
      "Converted dataset-image_classification.ipynb.\n",
      "Converted dataset-image_object_detection.ipynb.\n",
      "Converted dataset-image_segmentation.ipynb.\n",
      "Converted dataset-type.ipynb.\n",
      "Converted dataset_generator.ipynb.\n",
      "Converted evaluation-core.ipynb.\n",
      "Converted geometry.ipynb.\n",
      "Converted image-color_palette.ipynb.\n",
      "Converted image-inference.ipynb.\n",
      "Converted image-opencv_tools.ipynb.\n",
      "Converted image-pillow_tools.ipynb.\n",
      "Converted image-tools.ipynb.\n",
      "Converted index.ipynb.\n",
      "Converted io-core.ipynb.\n",
      "Converted tensorflow-tflite_converter.ipynb.\n",
      "Converted tensorflow-tflite_metadata.ipynb.\n",
      "Converted tensorflow-tfrecord_builder.ipynb.\n",
      "Converted tools-check_double_images.ipynb.\n",
      "Converted tools-downloader.ipynb.\n",
      "Converted tools-image_size_calculator.ipynb.\n"
     ]
    }
   ],
   "source": [
    "# hide\n",
    "\n",
    "# for generating scripts from notebook directly\n",
    "notebook2script()"
   ]
  }
 ],
 "metadata": {
  "kernelspec": {
   "display_name": "Python [conda env:ML-Core]",
   "language": "python",
   "name": "conda-env-ML-Core-py"
  }
 },
 "nbformat": 4,
 "nbformat_minor": 4
}
