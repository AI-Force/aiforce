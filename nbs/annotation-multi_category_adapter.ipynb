{
 "cells": [
  {
   "cell_type": "code",
   "execution_count": null,
   "metadata": {},
   "outputs": [],
   "source": [
    "# default_exp annotation.multi_category_adapter"
   ]
  },
  {
   "cell_type": "code",
   "execution_count": null,
   "metadata": {},
   "outputs": [],
   "source": [
    "# hide\n",
    "from nbdev.showdoc import *"
   ]
  },
  {
   "cell_type": "code",
   "execution_count": null,
   "metadata": {},
   "outputs": [],
   "source": [
    "# export\n",
    "\n",
    "import csv\n",
    "import sys\n",
    "import argparse\n",
    "import logging\n",
    "import shutil\n",
    "from os.path import join, normpath, sep, getsize, basename\n",
    "from mlcore.io.core import create_folder, scan_files\n",
    "from mlcore.annotation.core import Annotation, Region, create_annotation_id"
   ]
  },
  {
   "cell_type": "code",
   "execution_count": null,
   "metadata": {},
   "outputs": [],
   "source": [
    "# hide\n",
    "%reload_ext autoreload\n",
    "%autoreload 2\n",
    "%matplotlib inline"
   ]
  },
  {
   "cell_type": "code",
   "execution_count": null,
   "metadata": {},
   "outputs": [],
   "source": [
    "# export\n",
    "\n",
    "DEFAULT_ANNOTATIONS_FILE = 'annotations.csv'"
   ]
  },
  {
   "cell_type": "code",
   "execution_count": null,
   "metadata": {},
   "outputs": [],
   "source": [
    "# export\n",
    "\n",
    "logger = logging.getLogger(__name__)"
   ]
  },
  {
   "cell_type": "markdown",
   "metadata": {},
   "source": [
    "# Multi Category Annotation Adapter\n",
    "> Adapter to read and write annotations for multi label classification."
   ]
  },
  {
   "cell_type": "code",
   "execution_count": null,
   "metadata": {},
   "outputs": [],
   "source": [
    "# export\n",
    "\n",
    "\n",
    "def read_annotations(annotations_file, files_source):\n",
    "    \"\"\"\n",
    "    Reads a multi classification CSV annotations file.\n",
    "    `annotations_file`: the path to the CSV annotation file to read\n",
    "    `files_source`: the path to the folder containing the source files\n",
    "    return: the annotations as dictionary\n",
    "    \"\"\"\n",
    "    annotations = {}\n",
    "\n",
    "    with open(annotations_file, newline='') as csvfile:\n",
    "        reader = csv.DictReader(csvfile)\n",
    "\n",
    "        for row in reader:\n",
    "            file_path = join(files_source, row['image_name'])\n",
    "            annotation_id = create_annotation_id(file_path)\n",
    "            if annotation_id is None:\n",
    "                logger.warning('File not found, skip annotations at path: {}'.format(file_path))\n",
    "                continue\n",
    "\n",
    "            if annotation_id not in annotations:\n",
    "                file_size = getsize(file_path)\n",
    "                file_name = basename(file_path)\n",
    "                annotations[annotation_id] = Annotation(annotation_id=annotation_id, file_name=file_name,\n",
    "                                                        file_size=file_size, file_path=file_path)\n",
    "\n",
    "            annotation = annotations[annotation_id]\n",
    "\n",
    "            tags = row['tags'] if 'tags' in row else []\n",
    "            for category in tags.split(' '):\n",
    "                region = Region(labels=[category])\n",
    "                annotation.regions.append(region)\n",
    "\n",
    "    return annotations"
   ]
  },
  {
   "cell_type": "code",
   "execution_count": null,
   "metadata": {},
   "outputs": [],
   "source": [
    "# export\n",
    "\n",
    "\n",
    "def write_annotations(annotations_file, annotations):\n",
    "    \"\"\"\n",
    "    Reads a multi classification CSV annotations file.\n",
    "    `annotations_file`: the path to the CSV annotation file to write\n",
    "    `annotations`: the annotations to write\n",
    "    \"\"\"\n",
    "    with open(annotations_file, 'w', newline='') as csvfile:\n",
    "        fieldnames = ['image_name', 'tags']\n",
    "        writer = csv.DictWriter(csvfile, fieldnames=fieldnames, delimiter=',', quotechar='\"', quoting=csv.QUOTE_MINIMAL)\n",
    "        writer.writeheader()\n",
    "\n",
    "        for annotation in annotations.values():\n",
    "            writer.writerow({'image_name': annotation.file_name,\n",
    "                             'tags': ' '.join(annotation.labels())})"
   ]
  },
  {
   "cell_type": "markdown",
   "metadata": {},
   "source": [
    "## Helper Methods"
   ]
  },
  {
   "cell_type": "code",
   "execution_count": null,
   "metadata": {},
   "outputs": [],
   "source": [
    "# export\n",
    "\n",
    "\n",
    "def configure_logging(logging_level=logging.INFO):\n",
    "    \"\"\"\n",
    "    Configures logging for the system.\n",
    "\n",
    "    :param logging_level: The logging level to use.\n",
    "    \"\"\"\n",
    "    logger.setLevel(logging_level)\n",
    "\n",
    "    handler = logging.StreamHandler(sys.stdout)\n",
    "    handler.setLevel(logging_level)\n",
    "\n",
    "    logger.addHandler(handler)"
   ]
  },
  {
   "cell_type": "markdown",
   "metadata": {},
   "source": [
    "## Run from command line"
   ]
  },
  {
   "cell_type": "markdown",
   "metadata": {},
   "source": [
    "To run the data-set builder from command line, use the following command:\n",
    "`python -m mlcore.annotation.multi_category_adapter [parameters]`"
   ]
  },
  {
   "cell_type": "markdown",
   "metadata": {},
   "source": [
    "The following parameters are supported:\n",
    "- `[annotation]`: The path to the multi classification CSV annotation file (e.g.: *imagesets/segmentation/car_damage/annotations.csv*)\n",
    "- `--files_source`: The path to the folder containing the source files (e.g.: *imagesets/segmentation/car_damage/trainval*)"
   ]
  },
  {
   "cell_type": "code",
   "execution_count": null,
   "metadata": {},
   "outputs": [],
   "source": [
    "# export\n",
    "\n",
    "\n",
    "if __name__ == '__main__' and '__file__' in globals():\n",
    "    # for direct shell execution\n",
    "    configure_logging()\n",
    "\n",
    "    parser = argparse.ArgumentParser()\n",
    "    parser.add_argument(\"annotation\",\n",
    "                        help=\"The path to the multi classification CSV annotation file.\")\n",
    "    parser.add_argument(\"--files_source\",\n",
    "                        help=\"The path to the folder containing the source files.\")\n",
    "    args = parser.parse_args()\n",
    "\n",
    "    read_annotations(args.annotation, args.files_source)\n"
   ]
  },
  {
   "cell_type": "code",
   "execution_count": null,
   "metadata": {},
   "outputs": [],
   "source": []
  }
 ],
 "metadata": {
  "kernelspec": {
   "display_name": "Python [conda env:ML-Core]",
   "language": "python",
   "name": "conda-env-ML-Core-py"
  }
 },
 "nbformat": 4,
 "nbformat_minor": 4
}
