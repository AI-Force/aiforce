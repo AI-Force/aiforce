{
 "cells": [
  {
   "cell_type": "code",
   "execution_count": null,
   "metadata": {},
   "outputs": [],
   "source": [
    "# default_exp io.core"
   ]
  },
  {
   "cell_type": "code",
   "execution_count": null,
   "metadata": {},
   "outputs": [],
   "source": [
    "# hide\n",
    "from nbdev.showdoc import *"
   ]
  },
  {
   "cell_type": "code",
   "execution_count": null,
   "metadata": {},
   "outputs": [],
   "source": [
    "# export\n",
    "\n",
    "import hashlib\n",
    "import logging\n",
    "import shutil\n",
    "import os\n",
    "from os import listdir, makedirs\n",
    "from os.path import join, isfile, isdir, splitext"
   ]
  },
  {
   "cell_type": "code",
   "execution_count": null,
   "metadata": {},
   "outputs": [],
   "source": [
    "# hide\n",
    "%reload_ext autoreload\n",
    "%autoreload 2\n",
    "%matplotlib inline"
   ]
  },
  {
   "cell_type": "code",
   "execution_count": null,
   "metadata": {},
   "outputs": [],
   "source": [
    "# export\n",
    "\n",
    "BUF_SIZE = 65536  # lets read stuff in 64kb chunks!\n",
    "DEFAULT_IMAGE_EXTENSIONS = ['.jpg']\n",
    "FOLDER_FILTER = ['.DS_Store']"
   ]
  },
  {
   "cell_type": "code",
   "execution_count": null,
   "metadata": {},
   "outputs": [],
   "source": [
    "# export\n",
    "\n",
    "logger = logging.getLogger(__name__)"
   ]
  },
  {
   "cell_type": "markdown",
   "metadata": {},
   "source": [
    "# IO Core functions\n",
    "\n",
    "> Helper functions for IO operations."
   ]
  },
  {
   "cell_type": "code",
   "execution_count": null,
   "metadata": {},
   "outputs": [],
   "source": [
    "# export\n",
    "\n",
    "\n",
    "def scan_files(folder, file_extensions=None):\n",
    "    \"\"\"\n",
    "    Scan the folder for files and filter files by file extension.\n",
    "    If the optional `file_extension` is not set, **.jpg** as file extension is used by default.\n",
    "    `folder`: the folder to scan for files\n",
    "    `file_extensions`: the allowed file extensions\n",
    "    return: the file path list\n",
    "    \"\"\"\n",
    "    if file_extensions is None:\n",
    "        file_extensions = DEFAULT_IMAGE_EXTENSIONS\n",
    "\n",
    "    results = []\n",
    "    if isdir(folder):\n",
    "        files = listdir(folder)\n",
    "        for file in files:\n",
    "            file_path = join(folder, file)\n",
    "            filename, file_extension = splitext(file_path)\n",
    "            if isfile(file_path) and (file_extension in file_extensions):\n",
    "                results.append(file_path)\n",
    "            elif isdir(file_path):\n",
    "                results.extend(scan_files(file_path, file_extensions))\n",
    "    return results"
   ]
  },
  {
   "cell_type": "code",
   "execution_count": null,
   "metadata": {},
   "outputs": [],
   "source": [
    "# export\n",
    "\n",
    "\n",
    "def scan_path(path):\n",
    "    \"\"\"\n",
    "    Scan a folder and sub-folders until the file level.\n",
    "    `path`: the current directory to parse for folders\n",
    "    return: a list of folders prefixed with base directory\n",
    "    \"\"\"\n",
    "    has_sub_folders = False\n",
    "    results = []\n",
    "    names = listdir(path)\n",
    "    for name in names:\n",
    "        sub_folder_path = join(path, name)\n",
    "        if isdir(sub_folder_path) and name not in FOLDER_FILTER:\n",
    "            has_sub_folders = True\n",
    "            results = results + scan_path(sub_folder_path)\n",
    "    if not has_sub_folders:\n",
    "        results.append(path)\n",
    "    return results"
   ]
  },
  {
   "cell_type": "code",
   "execution_count": null,
   "metadata": {},
   "outputs": [],
   "source": [
    "# export\n",
    "\n",
    "\n",
    "def delete_folder(path):\n",
    "    \"\"\"\n",
    "    Deletes a Folder, if exist.\n",
    "    `path`: the folder path including the folder name\n",
    "    return: the created folder path\n",
    "    \"\"\"\n",
    "    if isdir(path):\n",
    "        shutil.rmtree(path)\n",
    "    return path"
   ]
  },
  {
   "cell_type": "code",
   "execution_count": null,
   "metadata": {},
   "outputs": [],
   "source": [
    "# export\n",
    "\n",
    "\n",
    "def create_folder(path, clear=False):\n",
    "    \"\"\"\n",
    "    Creates a Folder, if not exist.\n",
    "    `path`: the folder path including the folder name\n",
    "    `clear`: whether or not the created folder should be empty\n",
    "    return: the created folder path\n",
    "    \"\"\"\n",
    "\n",
    "    if clear:\n",
    "        # remove previous data-set folder, if exist to clear the contents\n",
    "        delete_folder(path)\n",
    "\n",
    "    if not isdir(path):\n",
    "        makedirs(path)\n",
    "\n",
    "    return path"
   ]
  },
  {
   "cell_type": "code",
   "execution_count": null,
   "metadata": {},
   "outputs": [],
   "source": [
    "# export\n",
    "\n",
    "\n",
    "def get_file_sha(file_path):\n",
    "    \"\"\"\n",
    "    Calculates the SHA1 of a given file.\n",
    "    `file_path`: the file path\n",
    "    return: the calculated SHA1 as hex\n",
    "    \"\"\"\n",
    "    result = None\n",
    "    if isfile(file_path):\n",
    "        sha1 = hashlib.sha1()\n",
    "        with open(file_path, 'rb') as f:\n",
    "            while True:\n",
    "                data = f.read(BUF_SIZE)\n",
    "                if not data:\n",
    "                    break\n",
    "                sha1.update(data)\n",
    "            result = sha1.hexdigest()\n",
    "    return result"
   ]
  },
  {
   "cell_type": "code",
   "execution_count": null,
   "metadata": {},
   "outputs": [],
   "source": [
    "# export\n",
    "\n",
    "\n",
    "def assign_filename_suffix(file_path, suffix=None):\n",
    "    \"\"\"\n",
    "    Assign a filename suffix to a given file_path. (e.g <path>/filename_<suffix>.txt)\n",
    "    `file_path`: the file path to suffix\n",
    "    `suffix`: the suffix\n",
    "    return: the suffixed file path\n",
    "    \"\"\"\n",
    "    if suffix is None:\n",
    "        return file_path\n",
    "    path, ext = splitext(file_path)\n",
    "    return \"{}_{}{}\".format(path, suffix, ext)"
   ]
  },
  {
   "cell_type": "code",
   "execution_count": null,
   "metadata": {},
   "outputs": [],
   "source": [
    "# export\n",
    "\n",
    "\n",
    "def strip_path(file_path, strip=os.sep):\n",
    "    \"\"\"\n",
    "    Strip trailing separators from a path\n",
    "    `file_path`: the file path to strip\n",
    "    return: the striped file path\n",
    "    \"\"\"\n",
    "    return file_path.rstrip(os.sep)\n"
   ]
  },
  {
   "cell_type": "code",
   "execution_count": null,
   "metadata": {},
   "outputs": [
    {
     "name": "stdout",
     "output_type": "stream",
     "text": [
      "Converted annotation-core.ipynb.\n",
      "Converted annotation-folder_category_adapter.ipynb.\n",
      "Converted annotation-multi_category_adapter.ipynb.\n",
      "Converted annotation-via_adapter.ipynb.\n",
      "Converted annotation-yolo_adapter.ipynb.\n",
      "Converted annotation_converter.ipynb.\n",
      "Converted annotation_viewer.ipynb.\n",
      "Converted category_tools.ipynb.\n",
      "Converted core.ipynb.\n",
      "Converted dataset-core.ipynb.\n",
      "Converted dataset-image_classification.ipynb.\n",
      "Converted dataset-image_object_detection.ipynb.\n",
      "Converted dataset-image_segmentation.ipynb.\n",
      "Converted dataset-type.ipynb.\n",
      "Converted dataset_generator.ipynb.\n",
      "Converted evaluation-core.ipynb.\n",
      "Converted geometry.ipynb.\n",
      "Converted image-color_palette.ipynb.\n",
      "Converted image-inference.ipynb.\n",
      "Converted image-opencv_tools.ipynb.\n",
      "Converted image-pillow_tools.ipynb.\n",
      "Converted image-tools.ipynb.\n",
      "Converted index.ipynb.\n",
      "Converted io-core.ipynb.\n",
      "Converted tensorflow-tflite_converter.ipynb.\n",
      "Converted tensorflow-tflite_metadata.ipynb.\n",
      "Converted tensorflow-tfrecord_builder.ipynb.\n",
      "Converted tools-check_double_images.ipynb.\n",
      "Converted tools-downloader.ipynb.\n",
      "Converted tools-image_size_calculator.ipynb.\n"
     ]
    }
   ],
   "source": [
    "# hide\n",
    "\n",
    "# for generating scripts from notebook directly\n",
    "from nbdev.export import notebook2script\n",
    "notebook2script()"
   ]
  }
 ],
 "metadata": {
  "kernelspec": {
   "display_name": "Python [conda env:ML-Core]",
   "language": "python",
   "name": "conda-env-ML-Core-py"
  }
 },
 "nbformat": 4,
 "nbformat_minor": 4
}
