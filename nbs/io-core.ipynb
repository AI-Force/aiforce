{
 "cells": [
  {
   "cell_type": "code",
   "execution_count": null,
   "metadata": {},
   "outputs": [],
   "source": [
    "# default_exp io.core"
   ]
  },
  {
   "cell_type": "code",
   "execution_count": null,
   "metadata": {},
   "outputs": [],
   "source": [
    "# hide\n",
    "from nbdev.showdoc import *"
   ]
  },
  {
   "cell_type": "code",
   "execution_count": null,
   "metadata": {},
   "outputs": [],
   "source": [
    "# export\n",
    "\n",
    "import argparse\n",
    "import logging\n",
    "import sys\n",
    "import shutil\n",
    "from os import listdir, makedirs\n",
    "from os.path import join, isfile, isdir, splitext"
   ]
  },
  {
   "cell_type": "code",
   "execution_count": null,
   "metadata": {},
   "outputs": [],
   "source": [
    "# hide\n",
    "%reload_ext autoreload\n",
    "%autoreload 2\n",
    "%matplotlib inline"
   ]
  },
  {
   "cell_type": "code",
   "execution_count": null,
   "metadata": {},
   "outputs": [],
   "source": [
    "# export\n",
    "\n",
    "DEFAULT_IMAGE_EXTENSIONS = ['.jpg']\n",
    "FOLDER_FILTER = ['.DS_Store']"
   ]
  },
  {
   "cell_type": "code",
   "execution_count": null,
   "metadata": {},
   "outputs": [],
   "source": [
    "# export\n",
    "\n",
    "logger = logging.getLogger(__name__)"
   ]
  },
  {
   "cell_type": "markdown",
   "metadata": {},
   "source": [
    "# IO Core functions\n",
    "\n",
    "> Helper functions for IO operations."
   ]
  },
  {
   "cell_type": "code",
   "execution_count": null,
   "metadata": {},
   "outputs": [],
   "source": [
    "# export\n",
    "\n",
    "\n",
    "def scan_files(folder, file_extensions=None):\n",
    "    \"\"\"\n",
    "    Scan the folder for files and filter files by file extension.\n",
    "    If the optional `file_extension` is not set, **.jpg** as file extension is used by default.\n",
    "    `folder`: the folder to scan for files\n",
    "    `file_extensions`: the allowed file extensions\n",
    "    return: the file path list\n",
    "    \"\"\"\n",
    "    if file_extensions is None:\n",
    "        file_extensions = DEFAULT_IMAGE_EXTENSIONS\n",
    "\n",
    "    results = []\n",
    "    if isdir(folder):\n",
    "        files = listdir(folder)\n",
    "        for file in files:\n",
    "            file_path = join(folder, file)\n",
    "            filename, file_extension = splitext(file_path)\n",
    "            if isfile(file_path) and (file_extension in file_extensions):\n",
    "                results.append(file_path)\n",
    "            elif isdir(file_path):\n",
    "                results.extend(scan_files(file_path, file_extensions))\n",
    "    return results"
   ]
  },
  {
   "cell_type": "code",
   "execution_count": null,
   "metadata": {},
   "outputs": [],
   "source": [
    "# export\n",
    "\n",
    "\n",
    "def scan_path(path):\n",
    "    \"\"\"\n",
    "    Scan a folder and subfolders until the file level.\n",
    "    `path`: the current directory to parse for folders\n",
    "    return: a list of folders prefixed with base directory\n",
    "    \"\"\"\n",
    "    has_sub_folders = False\n",
    "    results = []\n",
    "    names = listdir(path)\n",
    "    for name in names:\n",
    "        subfolder_path = join(path, name)\n",
    "        if isdir(subfolder_path) and name not in FOLDER_FILTER:\n",
    "            has_sub_folders = True\n",
    "            results = results + scan_path(subfolder_path)\n",
    "    if not has_sub_folders:\n",
    "        results.append(path)\n",
    "    return results"
   ]
  },
  {
   "cell_type": "code",
   "execution_count": null,
   "metadata": {},
   "outputs": [],
   "source": [
    "# export\n",
    "\n",
    "\n",
    "def delete_folder(path):\n",
    "    \"\"\"\n",
    "    Deletes a Folder, if exist.\n",
    "    `path`: the folder path including the folder name\n",
    "    return: the created folder path\n",
    "    \"\"\"\n",
    "    if isdir(path):\n",
    "        shutil.rmtree(path)\n",
    "    return path"
   ]
  },
  {
   "cell_type": "code",
   "execution_count": null,
   "metadata": {},
   "outputs": [],
   "source": [
    "# export\n",
    "\n",
    "\n",
    "def create_folder(path, clear=False):\n",
    "    \"\"\"\n",
    "    Creates a Folder, if not exist.\n",
    "    `path`: the folder path including the folder name\n",
    "    `clear`: wherether or not the created folder should be empty\n",
    "    return: the created folder path\n",
    "    \"\"\"\n",
    "\n",
    "    if clear:\n",
    "        # remove previous data-set folder, if exist to clear the contents\n",
    "        delete_folder(path)\n",
    "\n",
    "    if not isdir(path):\n",
    "        makedirs(path)\n",
    "\n",
    "    return path"
   ]
  },
  {
   "cell_type": "markdown",
   "metadata": {},
   "source": [
    "## Helper Methods"
   ]
  },
  {
   "cell_type": "code",
   "execution_count": null,
   "metadata": {},
   "outputs": [],
   "source": [
    "# export\n",
    "\n",
    "\n",
    "def configure_logging(logging_level=logging.INFO):\n",
    "    \"\"\"\n",
    "    Configures logging for the system.\n",
    "\n",
    "    :param logging_level: The logging level to use.\n",
    "    \"\"\"\n",
    "    logger.setLevel(logging_level)\n",
    "\n",
    "    handler = logging.StreamHandler(sys.stdout)\n",
    "    handler.setLevel(logging_level)\n",
    "\n",
    "    logger.addHandler(handler)"
   ]
  },
  {
   "cell_type": "markdown",
   "metadata": {},
   "source": [
    "## Run from command line"
   ]
  },
  {
   "cell_type": "markdown",
   "metadata": {},
   "source": [
    "To run the data-set builder from command line, use the following command:\n",
    "`python -m mlcore.via.converter [parameters]`"
   ]
  },
  {
   "cell_type": "markdown",
   "metadata": {},
   "source": [
    "The following parameters are supported:\n",
    "- `[annotation]`: The path to the VIA annotation file (e.g.: *imagesets/segmentation/car_damage/via_region_data.json*)"
   ]
  },
  {
   "cell_type": "code",
   "execution_count": null,
   "metadata": {},
   "outputs": [],
   "source": [
    "# export\n",
    "\n",
    "\n",
    "if __name__ == '__main__' and '__file__' in globals():\n",
    "    # for direct shell execution\n",
    "    parser = argparse.ArgumentParser()\n",
    "    parser.add_argument(\"annotation\",\n",
    "                        help=\"The path to the VIA annotation file.\")\n",
    "\n",
    "    args = parser.parse_args()\n"
   ]
  },
  {
   "cell_type": "code",
   "execution_count": null,
   "metadata": {},
   "outputs": [],
   "source": []
  }
 ],
 "metadata": {
  "kernelspec": {
   "display_name": "Python [conda env:ML-Core]",
   "language": "python",
   "name": "conda-env-ML-Core-py"
  }
 },
 "nbformat": 4,
 "nbformat_minor": 4
}
