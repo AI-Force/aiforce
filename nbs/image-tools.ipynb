{
 "cells": [
  {
   "cell_type": "code",
   "execution_count": null,
   "metadata": {},
   "outputs": [],
   "source": [
    "# default_exp image.tools"
   ]
  },
  {
   "cell_type": "code",
   "execution_count": null,
   "metadata": {},
   "outputs": [],
   "source": [
    "# hide\n",
    "from nbdev.showdoc import *"
   ]
  },
  {
   "cell_type": "code",
   "execution_count": null,
   "metadata": {},
   "outputs": [],
   "source": [
    "# export\n",
    "from enum import Enum"
   ]
  },
  {
   "cell_type": "code",
   "execution_count": null,
   "metadata": {},
   "outputs": [],
   "source": [
    "# hide\n",
    "%reload_ext autoreload\n",
    "%autoreload 2\n",
    "%matplotlib inline"
   ]
  },
  {
   "cell_type": "markdown",
   "metadata": {},
   "source": [
    "# Image Tools\n",
    "> Tools for images."
   ]
  },
  {
   "cell_type": "code",
   "execution_count": null,
   "metadata": {},
   "outputs": [],
   "source": [
    "# export\n",
    "\n",
    "\n",
    "class ImageOrientation(Enum):\n",
    "    \"\"\"\n",
    "    Image EXIF orientations.\n",
    "    \"\"\"\n",
    "    TOP = 1\n",
    "    BOTTOM = 3\n",
    "    RIGHT = 6\n",
    "    LEFT = 8\n",
    "\n",
    "    def __str__(self):\n",
    "        return str(self.value)"
   ]
  },
  {
   "cell_type": "code",
   "execution_count": null,
   "metadata": {},
   "outputs": [],
   "source": [
    "# export\n",
    "\n",
    "\n",
    "def get_image_scale(image_size, target_size):\n",
    "    \"\"\"\n",
    "    Calculates the scale of the image to fit the target size.\n",
    "    `image_size`: The image size as tuple of (w, h)\n",
    "    `target_size`: The target size as tuple of (w, h).\n",
    "    :return: The image scale as tuple of (w_scale, h_scale)\n",
    "    \"\"\"\n",
    "    (image_w, image_h) = image_size\n",
    "    (target_w, target_h) = target_size\n",
    "    scale = (target_w / float(image_w), target_h / float(image_h))\n",
    "    return scale"
   ]
  }
 ],
 "metadata": {
  "kernelspec": {
   "display_name": "Python [conda env:ML-Core]",
   "language": "python",
   "name": "conda-env-ML-Core-py"
  }
 },
 "nbformat": 4,
 "nbformat_minor": 4
}
