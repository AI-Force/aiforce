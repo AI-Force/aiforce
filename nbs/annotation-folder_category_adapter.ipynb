{
 "cells": [
  {
   "cell_type": "code",
   "execution_count": null,
   "metadata": {},
   "outputs": [],
   "source": [
    "# default_exp annotation.folder_category_adapter"
   ]
  },
  {
   "cell_type": "code",
   "execution_count": null,
   "metadata": {},
   "outputs": [],
   "source": [
    "# hide\n",
    "from nbdev.showdoc import *"
   ]
  },
  {
   "cell_type": "code",
   "execution_count": null,
   "metadata": {},
   "outputs": [],
   "source": [
    "# export\n",
    "\n",
    "import sys\n",
    "import argparse\n",
    "import logging\n",
    "import shutil\n",
    "from os.path import join, normpath, sep, getsize, basename\n",
    "from mlcore.io.core import create_folder, scan_files\n",
    "from mlcore.annotation.core import Annotation, Region, create_annotation_id"
   ]
  },
  {
   "cell_type": "code",
   "execution_count": null,
   "metadata": {},
   "outputs": [],
   "source": [
    "# hide\n",
    "%reload_ext autoreload\n",
    "%autoreload 2\n",
    "%matplotlib inline"
   ]
  },
  {
   "cell_type": "code",
   "execution_count": null,
   "metadata": {},
   "outputs": [],
   "source": [
    "# export\n",
    "\n",
    "DEFAULT_CATEGORY_FOLDER_INDEX = -2"
   ]
  },
  {
   "cell_type": "code",
   "execution_count": null,
   "metadata": {},
   "outputs": [],
   "source": [
    "# export\n",
    "\n",
    "logger = logging.getLogger(__name__)"
   ]
  },
  {
   "cell_type": "markdown",
   "metadata": {},
   "source": [
    "# Folder Category Annotation Adapter\n",
    "> Adapter to read and write annotations classification where the folder structure represents the categories."
   ]
  },
  {
   "cell_type": "code",
   "execution_count": null,
   "metadata": {},
   "outputs": [],
   "source": [
    "# export\n",
    "\n",
    "\n",
    "def read_annotations(files_source, category_index=DEFAULT_CATEGORY_FOLDER_INDEX):\n",
    "    \"\"\"\n",
    "    Read annotations from folder structure representing the categories.\n",
    "    `files_source`: the path to the folder containing subfolders as category label with source files\n",
    "    return: the annotations\n",
    "    \"\"\"\n",
    "    annotations = {}\n",
    "    file_paths = scan_files(files_source)\n",
    "\n",
    "    for file_path in file_paths:\n",
    "        annotation_id = create_annotation_id(file_path)\n",
    "        if annotation_id not in annotations:\n",
    "            file_size = getsize(file_path)\n",
    "            file_name = basename(file_path)\n",
    "            annotations[annotation_id] = Annotation(annotation_id=annotation_id, file_name=file_name,\n",
    "                                                    file_size=file_size, file_path=file_path)\n",
    "        annotation = annotations[annotation_id]\n",
    "\n",
    "        trimmed_path = _trim_base_path(file_path, files_source)\n",
    "        path_split = normpath(trimmed_path).lstrip(sep).split(sep)\n",
    "\n",
    "        if len(path_split) <= abs(category_index):\n",
    "            logger.warning(\"{}: No category folder found, skip annotations.\".format(file_path))\n",
    "            continue\n",
    "\n",
    "        category = normpath(trimmed_path).lstrip(sep).split(sep)[category_index]\n",
    "        region = Region(labels=[category])\n",
    "        annotation.regions.append(region)\n",
    "\n",
    "    return annotations"
   ]
  },
  {
   "cell_type": "code",
   "execution_count": null,
   "metadata": {},
   "outputs": [],
   "source": [
    "# export\n",
    "\n",
    "\n",
    "def write_annotations(target_path, annotations):\n",
    "    \"\"\"\n",
    "    Write annotations to folder structure representing the categories.\n",
    "    The category folder will is created, if not exist, and corresponding files are copied into the labeled folder.\n",
    "    `target_path`: the target path to create labeled folder structure into\n",
    "    `annotations`: the annotations to write\n",
    "    \"\"\"\n",
    "    for annotation in annotations.values():\n",
    "        for label in annotation.labels():\n",
    "            category_folder = create_folder(join(target_path, label))\n",
    "            shutil.copy2(annotation.file_path, join(category_folder, annotation.file_name))"
   ]
  },
  {
   "cell_type": "code",
   "execution_count": null,
   "metadata": {},
   "outputs": [],
   "source": [
    "# export\n",
    "\n",
    "\n",
    "def _trim_base_path(file_path, base_path):\n",
    "    \"\"\"\n",
    "    Trims the base path from a file path.\n",
    "    `file_path`: the file path to trim from\n",
    "    `base_path`: the base path to trim\n",
    "    return: the trimmed file path\n",
    "    \"\"\"\n",
    "    if file_path.startswith(base_path):\n",
    "        file_path = file_path[len(base_path):]\n",
    "    return file_path"
   ]
  },
  {
   "cell_type": "markdown",
   "metadata": {},
   "source": [
    "## Helper Methods"
   ]
  },
  {
   "cell_type": "code",
   "execution_count": null,
   "metadata": {},
   "outputs": [],
   "source": [
    "# export\n",
    "\n",
    "\n",
    "def configure_logging(logging_level=logging.INFO):\n",
    "    \"\"\"\n",
    "    Configures logging for the system.\n",
    "\n",
    "    :param logging_level: The logging level to use.\n",
    "    \"\"\"\n",
    "    logger.setLevel(logging_level)\n",
    "\n",
    "    handler = logging.StreamHandler(sys.stdout)\n",
    "    handler.setLevel(logging_level)\n",
    "\n",
    "    logger.addHandler(handler)"
   ]
  },
  {
   "cell_type": "markdown",
   "metadata": {},
   "source": [
    "## Run from command line"
   ]
  },
  {
   "cell_type": "markdown",
   "metadata": {},
   "source": [
    "To run the data-set builder from command line, use the following command:\n",
    "`python -m mlcore.annotation.folder_category_adapter [parameters]`"
   ]
  },
  {
   "cell_type": "markdown",
   "metadata": {},
   "source": [
    "The following parameters are supported:\n",
    "- `[files-source]`: the path to the folder containing subfolders as category label with source files (e.g.: *imagesets/segmentation/car_damage/trainval*)\n",
    "- `--category-index`: The folder index, representing the category, default to *-2* (the parent folder of the file)"
   ]
  },
  {
   "cell_type": "code",
   "execution_count": null,
   "metadata": {},
   "outputs": [],
   "source": [
    "# export\n",
    "\n",
    "\n",
    "if __name__ == '__main__' and '__file__' in globals():\n",
    "    # for direct shell execution\n",
    "    configure_logging()\n",
    "\n",
    "    parser = argparse.ArgumentParser()\n",
    "    parser.add_argument(\"files-source\",\n",
    "                        help=\"The path to the folder containing the source files.\")\n",
    "    parser.add_argument(\"--category-index\",\n",
    "                        help=\"The folder index, representing the category.\",\n",
    "                        type=int,\n",
    "                        default=DEFAULT_CATEGORY_FOLDER_INDEX)\n",
    "\n",
    "    args = parser.parse_args()\n",
    "\n",
    "    read_annotations(args.files_source, args.category_index)\n"
   ]
  },
  {
   "cell_type": "code",
   "execution_count": null,
   "metadata": {},
   "outputs": [],
   "source": []
  }
 ],
 "metadata": {
  "kernelspec": {
   "display_name": "Python [conda env:ML-Core]",
   "language": "python",
   "name": "conda-env-ML-Core-py"
  }
 },
 "nbformat": 4,
 "nbformat_minor": 4
}
