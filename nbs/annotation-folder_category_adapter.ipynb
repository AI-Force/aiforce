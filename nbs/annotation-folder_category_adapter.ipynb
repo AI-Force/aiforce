{
 "cells": [
  {
   "cell_type": "code",
   "execution_count": null,
   "metadata": {},
   "outputs": [],
   "source": [
    "# default_exp annotation.folder_category_adapter"
   ]
  },
  {
   "cell_type": "code",
   "execution_count": null,
   "metadata": {},
   "outputs": [],
   "source": [
    "# hide\n",
    "\n",
    "from nbdev.showdoc import *"
   ]
  },
  {
   "cell_type": "code",
   "execution_count": null,
   "metadata": {},
   "outputs": [],
   "source": [
    "# export\n",
    "\n",
    "import argparse\n",
    "import logging\n",
    "import shutil\n",
    "from os.path import join, normpath, sep, basename, isfile\n",
    "from mlcore.io.core import create_folder, scan_files\n",
    "from mlcore.annotation.core import Annotation, AnnotationAdapter, Region"
   ]
  },
  {
   "cell_type": "code",
   "execution_count": null,
   "metadata": {},
   "outputs": [],
   "source": [
    "# hide\n",
    "%reload_ext autoreload\n",
    "%autoreload 2\n",
    "%matplotlib inline"
   ]
  },
  {
   "cell_type": "code",
   "execution_count": null,
   "metadata": {},
   "outputs": [],
   "source": [
    "# export\n",
    "\n",
    "DEFAULT_CATEGORY_FOLDER_INDEX = -1"
   ]
  },
  {
   "cell_type": "code",
   "execution_count": null,
   "metadata": {},
   "outputs": [],
   "source": [
    "# export\n",
    "\n",
    "logger = logging.getLogger(__name__)"
   ]
  },
  {
   "cell_type": "markdown",
   "metadata": {},
   "source": [
    "# Folder Category Annotation Adapter\n",
    "> Adapter to read and write annotations where the folder structure represents the categories."
   ]
  },
  {
   "cell_type": "markdown",
   "metadata": {},
   "source": [
    "The `args` parameter contains the following options:\n",
    "- `files_path`: the path to the folder containing subfolders as category label with source files (e.g.: *data/segmentation/my_collection/trainval*)\n",
    "- `category_index`: The folder index, representing the category, default to *-1* (the parent folder of the file)"
   ]
  },
  {
   "cell_type": "code",
   "execution_count": null,
   "metadata": {},
   "outputs": [],
   "source": [
    "# export\n",
    "\n",
    "\n",
    "class FolderCategoryAdapter(AnnotationAdapter):\n",
    "    \"\"\"\n",
    "    Adapter to read and write annotations where the folder structure represents the categories.\n",
    "    `args`: the arguments containing the parameters\n",
    "    \"\"\"\n",
    "\n",
    "    def __init__(self, args):\n",
    "        super().__init__(args)\n",
    "        self.files_path = args.files_path\n",
    "        self.category_index = args.category_index if args.category_index is not None else DEFAULT_CATEGORY_FOLDER_INDEX\n",
    "\n",
    "    def read(self):\n",
    "        \"\"\"\n",
    "        Read annotations from folder structure representing the categories.\n",
    "        return: the annotations as dictionary\n",
    "        \"\"\"\n",
    "        annotations = {}\n",
    "\n",
    "        logger.info('Read annotations from {}'.format(self.files_path))\n",
    "\n",
    "        file_paths = scan_files(self.files_path)\n",
    "\n",
    "        skipped_annotations = []\n",
    "        for file_path in file_paths:\n",
    "            trimmed_path = self._trim_base_path(file_path, self.files_path)\n",
    "            if trimmed_path not in annotations:\n",
    "                annotations[trimmed_path] = Annotation(annotation_id=trimmed_path, file_path=file_path)\n",
    "            annotation = annotations[trimmed_path]\n",
    "\n",
    "            path_split = normpath(trimmed_path).lstrip(sep).split(sep)\n",
    "\n",
    "            if len(path_split) <= abs(self.category_index):\n",
    "                logger.warning(\"{}: No category folder found, skip annotation.\".format(trimmed_path))\n",
    "                skipped_annotations.append(file_path)\n",
    "                continue\n",
    "\n",
    "            category = path_split[self.category_index - 1]\n",
    "            region = Region(labels=[category])\n",
    "            annotation.regions.append(region)\n",
    "\n",
    "        logger.info('Finished read annotations')\n",
    "        logger.info('Annotations read: {}'.format(len(annotations)))\n",
    "        if skipped_annotations:\n",
    "            logger.info('Annotations skipped: {}'.format(len(skipped_annotations)))\n",
    "        return annotations\n",
    "\n",
    "    def write(self, annotations):\n",
    "        \"\"\"\n",
    "        Write annotations to folder structure representing the categories.\n",
    "        The category folder is created, if not exist, and corresponding files are copied into the labeled folder.\n",
    "        `annotations`: the annotations to write\n",
    "        \"\"\"\n",
    "        logger.info('Write annotations to {}'.format(self.files_path))\n",
    "        skipped_annotations = []\n",
    "        for annotation in annotations.values():\n",
    "            if not isfile(annotation.file_path):\n",
    "                logger.warning(\"{}: Source file not found, skip annotation.\".format(annotation.file_path))\n",
    "                skipped_annotations.append(annotation.file_path)\n",
    "                continue\n",
    "\n",
    "            skipped_labels = []\n",
    "            annotation_labels = annotation.labels()\n",
    "            for label in annotation_labels:\n",
    "                category_folder = create_folder(join(self.files_path, label))\n",
    "                target_file = join(category_folder, basename(annotation.file_path))\n",
    "                if isfile(target_file):\n",
    "                    logger.warning(\"{}: Target file already exist, skip label {}.\".format(annotation.file_path, label))\n",
    "                    skipped_labels.append(label)\n",
    "                    continue\n",
    "                # copy the file\n",
    "                shutil.copy2(annotation.file_path, target_file)\n",
    "            if len(skipped_labels) == len(annotation_labels):\n",
    "                logger.warning(\"{}: All labels skipped, skip annotation.\".format(annotation.file_path))\n",
    "                skipped_annotations.append(annotation.file_path)\n",
    "\n",
    "        logger.info('Finished write annotations')\n",
    "        logger.info('Annotations written: {}'.format(len(annotations) - len(skipped_annotations)))\n",
    "        if skipped_annotations:\n",
    "            logger.info('Annotations skipped: {}'.format(len(skipped_annotations)))\n",
    "\n",
    "    @classmethod\n",
    "    def _trim_base_path(cls, file_path, base_path):\n",
    "        \"\"\"\n",
    "        Trims the base path from a file path.\n",
    "        `file_path`: the file path to trim from\n",
    "        `base_path`: the base path to trim\n",
    "        return: the trimmed file path\n",
    "        \"\"\"\n",
    "        if file_path.startswith(base_path):\n",
    "            file_path = file_path[len(base_path):]\n",
    "        return file_path\n",
    "\n",
    "    @classmethod\n",
    "    def argparse(cls, prefix=None):\n",
    "        \"\"\"\n",
    "        Returns the argument parser containing argument definition for command line use.\n",
    "        `prefix`: a parameter prefix to set, if needed\n",
    "        return: the argument parser\n",
    "        \"\"\"\n",
    "        parser = argparse.ArgumentParser()\n",
    "        parser.add_argument(cls.assign_prefix('--files_path', prefix),\n",
    "                            dest=\"files_path\",\n",
    "                            help=\"The path to the folder containing the files.\",\n",
    "                            required=True)\n",
    "        parser.add_argument(cls.assign_prefix('--category_index', prefix),\n",
    "                            dest=\"category_index\",\n",
    "                            help=\"The folder index, representing the category.\",\n",
    "                            type=int,\n",
    "                            default=None)\n",
    "        return parser"
   ]
  },
  {
   "cell_type": "code",
   "execution_count": null,
   "metadata": {},
   "outputs": [],
   "source": [
    "show_doc(FolderCategoryAdapter.read)\n",
    "show_doc(FolderCategoryAdapter.write)\n",
    "show_doc(FolderCategoryAdapter.argparse)"
   ]
  },
  {
   "cell_type": "code",
   "execution_count": null,
   "metadata": {},
   "outputs": [
    {
     "name": "stdout",
     "output_type": "stream",
     "text": [
      "Converted annotation-core.ipynb.\n",
      "Converted annotation-folder_category_adapter.ipynb.\n",
      "Converted annotation-multi_category_adapter.ipynb.\n",
      "Converted annotation-via_adapter.ipynb.\n",
      "Converted annotation-yolo_adapter.ipynb.\n",
      "Converted annotation_converter.ipynb.\n",
      "Converted annotation_viewer.ipynb.\n",
      "Converted category_tools.ipynb.\n",
      "Converted core.ipynb.\n",
      "Converted dataset-core.ipynb.\n",
      "Converted dataset-image_classification.ipynb.\n",
      "Converted dataset-image_object_detection.ipynb.\n",
      "Converted dataset-image_segmentation.ipynb.\n",
      "Converted dataset-type.ipynb.\n",
      "Converted dataset_generator.ipynb.\n",
      "Converted evaluation-core.ipynb.\n",
      "Converted geometry.ipynb.\n",
      "Converted image-color_palette.ipynb.\n",
      "Converted image-inference.ipynb.\n",
      "Converted image-opencv_tools.ipynb.\n",
      "Converted image-pillow_tools.ipynb.\n",
      "Converted image-tools.ipynb.\n",
      "Converted index.ipynb.\n",
      "Converted io-core.ipynb.\n",
      "Converted tensorflow-tflite_converter.ipynb.\n",
      "Converted tensorflow-tflite_metadata.ipynb.\n",
      "Converted tensorflow-tfrecord_builder.ipynb.\n",
      "Converted tools-check_double_images.ipynb.\n",
      "Converted tools-downloader.ipynb.\n",
      "Converted tools-image_size_calculator.ipynb.\n"
     ]
    }
   ],
   "source": [
    "# hide\n",
    "\n",
    "# for generating scripts from notebook directly\n",
    "from nbdev.export import notebook2script\n",
    "notebook2script()"
   ]
  },
  {
   "cell_type": "code",
   "execution_count": null,
   "metadata": {},
   "outputs": [],
   "source": []
  }
 ],
 "metadata": {
  "kernelspec": {
   "display_name": "Python [conda env:ML-Core]",
   "language": "python",
   "name": "conda-env-ML-Core-py"
  }
 },
 "nbformat": 4,
 "nbformat_minor": 4
}
