{
 "cells": [
  {
   "cell_type": "code",
   "execution_count": null,
   "metadata": {},
   "outputs": [],
   "source": [
    "# default_exp image.pillow_tools"
   ]
  },
  {
   "cell_type": "code",
   "execution_count": null,
   "metadata": {},
   "outputs": [],
   "source": [
    "# hide\n",
    "from nbdev.showdoc import *"
   ]
  },
  {
   "cell_type": "code",
   "execution_count": null,
   "metadata": {},
   "outputs": [],
   "source": [
    "# export\n",
    "import sys\n",
    "import argparse\n",
    "import logging\n",
    "import base64\n",
    "import piexif\n",
    "from io import BytesIO\n",
    "from PIL import Image as PILImage\n",
    "from mlcore.image.tools import ImageOrientation\n",
    "from mlcore.io.core import scan_files"
   ]
  },
  {
   "cell_type": "code",
   "execution_count": null,
   "metadata": {},
   "outputs": [],
   "source": [
    "# hide\n",
    "%reload_ext autoreload\n",
    "%autoreload 2\n",
    "%matplotlib inline"
   ]
  },
  {
   "cell_type": "code",
   "execution_count": null,
   "metadata": {},
   "outputs": [
    {
     "data": {
      "text/plain": [
       "'The Image EXIF orientation tag'"
      ]
     },
     "execution_count": null,
     "metadata": {},
     "output_type": "execute_result"
    }
   ],
   "source": [
    "# export\n",
    "EXIF_ORIENTATION_TAG = 'Orientation'\n",
    "\"\"\"The Image EXIF orientation tag\"\"\""
   ]
  },
  {
   "cell_type": "code",
   "execution_count": null,
   "metadata": {},
   "outputs": [],
   "source": [
    "# export\n",
    "logger = logging.getLogger(__name__)"
   ]
  },
  {
   "cell_type": "markdown",
   "metadata": {},
   "source": [
    "# Image Tools for Pillow\n",
    "> Tools for converting images by using Pillow library."
   ]
  },
  {
   "cell_type": "code",
   "execution_count": null,
   "metadata": {},
   "outputs": [],
   "source": [
    "# export\n",
    "def limit_to_max_size(img, max_size):\n",
    "    \"\"\"\n",
    "    Limit the image size to max size and scale the image,\n",
    "    if max size exceeded.\n",
    "    `img`: The image to validate as Pillow Image.\n",
    "    `max_size`: The max allowed image size.\n",
    "    :return: The eventually resized image.\n",
    "    \"\"\"\n",
    "    biggest_size = max(img.size)\n",
    "    if max_size and biggest_size > max_size:\n",
    "        ratio = 1.0 * max_size / biggest_size\n",
    "        img = img.resize([int(ratio * s) for s in img.size])\n",
    "    return img"
   ]
  },
  {
   "cell_type": "code",
   "execution_count": null,
   "metadata": {},
   "outputs": [],
   "source": [
    "# export\n",
    "def fit_to_max_size(img, max_width, max_height):\n",
    "    \"\"\"\n",
    "    Limit the image size to maximum width and height and scale the image,\n",
    "    if size exceeded.\n",
    "    `img`: The image to validate as Pillow Image.\n",
    "    `max_width`: The max allowed image width.\n",
    "    `max_height`: The max allowed image height.\n",
    "    :return: The eventually resized image.\n",
    "    \"\"\"\n",
    "    w, h = img.size\n",
    "    scale_delta = max(w - max_width, h - max_height)\n",
    "    if scale_delta > 0:\n",
    "        max_size = max(w - scale_delta, h - scale_delta)\n",
    "        img = limit_to_max_size(img, max_size)\n",
    "    return img"
   ]
  },
  {
   "cell_type": "code",
   "execution_count": null,
   "metadata": {},
   "outputs": [],
   "source": [
    "# export\n",
    "def get_image_size(fname):\n",
    "    \"\"\"\n",
    "    Calculates image size of a given image file path.\n",
    "    `fname`: the file path\n",
    "    return: the Pillow image, image width and height\n",
    "    \"\"\"\n",
    "    image = PILImage.open(fname)\n",
    "    w, h = image.size\n",
    "    return image, w, h"
   ]
  },
  {
   "cell_type": "code",
   "execution_count": null,
   "metadata": {},
   "outputs": [],
   "source": [
    "# export\n",
    "def get_image_orientation(fname):\n",
    "    \"\"\"\n",
    "    Parses the EXIF orientation information from the image.\n",
    "    `fname`: the file path\n",
    "    :return: The Pillow image and the orientation of the image.\n",
    "    \"\"\"\n",
    "    orientation = ImageOrientation.TOP\n",
    "    image, exif_data = read_exif_metadata(fname)\n",
    "    if exif_data is not None and \"0th\" in exif_data:\n",
    "        exif_data_0 = exif_data[\"0th\"]\n",
    "        if piexif.ImageIFD.Orientation in exif_data_0:\n",
    "            try:\n",
    "                orientation = ImageOrientation(exif_data_0[piexif.ImageIFD.Orientation])\n",
    "            except ValueError as e:\n",
    "                logger.error(e)\n",
    "    return image, orientation"
   ]
  },
  {
   "cell_type": "code",
   "execution_count": null,
   "metadata": {},
   "outputs": [],
   "source": [
    "# export\n",
    "def read_exif_metadata(fname):\n",
    "    \"\"\"\n",
    "    Read the EXIF metadata information from the image.\n",
    "    `fname`: the file path\n",
    "    :return: The Pillow image, EXIF metadata as dictionary or None, if no EXIF data exist.\n",
    "    \"\"\"\n",
    "    image = PILImage.open(fname)\n",
    "    exif_data = None\n",
    "    if \"exif\" in image.info:\n",
    "        exif_data = piexif.load(image.info[\"exif\"])\n",
    "    return image, exif_data"
   ]
  },
  {
   "cell_type": "code",
   "execution_count": null,
   "metadata": {},
   "outputs": [],
   "source": [
    "# export\n",
    "def write_exif_metadata(image, exif_data, fname):\n",
    "    \"\"\"\n",
    "    Write the EXIF metadata information to the image.\n",
    "    `image`: the Pillow image to write the EXIF metadata to\n",
    "    `exif_data`: the EXIF metadata as dictionary\n",
    "    `fname`: a file path to store the image\n",
    "    :return: `True` if EXIF metadata saved, else `False`\n",
    "    \"\"\"\n",
    "    if image and exif_data:\n",
    "        piexif.dump(exif_data)\n",
    "        exif_bytes = piexif.dump(exif_data)\n",
    "        image.save(fname, exif=exif_bytes)\n",
    "        return True\n",
    "    return False"
   ]
  },
  {
   "cell_type": "code",
   "execution_count": null,
   "metadata": {},
   "outputs": [],
   "source": [
    "# export\n",
    "def assign_exif_orientation(fname):\n",
    "    \"\"\"\n",
    "    Parses the EXIF orientation metadata from the image,\n",
    "    rotate the image accordingly and remove the image EXIF orientation metadata.\n",
    "    `fname`: the file path\n",
    "    :return: The eventually rotated Pillow image, EXIF metadata with orientation information stripped\n",
    "    and `True` if image rotated, else `False`\n",
    "    \"\"\"\n",
    "    image, exif_data = read_exif_metadata(fname)\n",
    "\n",
    "    orientation = ImageOrientation.TOP\n",
    "\n",
    "    if exif_data and piexif.ImageIFD.Orientation in exif_data[\"0th\"]:\n",
    "        orientation = exif_data[\"0th\"].pop(piexif.ImageIFD.Orientation)\n",
    "        try:\n",
    "            orientation = ImageOrientation(orientation)\n",
    "        except ValueError as e:\n",
    "            logger.error(e)\n",
    "\n",
    "        if orientation == ImageOrientation.TOP_FLIPPED:\n",
    "            image = image.transpose(PILImage.FLIP_LEFT_RIGHT)\n",
    "        elif orientation == ImageOrientation.BOTTOM:\n",
    "            image = image.rotate(180)\n",
    "        elif orientation == ImageOrientation.BOTTOM_FLIPPED:\n",
    "            image = image.rotate(180).transpose(PILImage.FLIP_LEFT_RIGHT)\n",
    "        elif orientation == ImageOrientation.RIGHT_FLIPPED:\n",
    "            image = image.rotate(-90, expand=True).transpose(PILImage.FLIP_LEFT_RIGHT)\n",
    "        elif orientation == ImageOrientation.RIGHT:\n",
    "            image = image.rotate(-90, expand=True)\n",
    "        elif orientation == ImageOrientation.LEFT_FLIPPED:\n",
    "            image = image.rotate(90, expand=True).transpose(PILImage.FLIP_LEFT_RIGHT)\n",
    "        elif orientation == ImageOrientation.LEFT:\n",
    "            image = image.rotate(90, expand=True)\n",
    "\n",
    "    rotated = orientation != ImageOrientation.TOP\n",
    "\n",
    "    return image, exif_data, rotated"
   ]
  },
  {
   "cell_type": "code",
   "execution_count": null,
   "metadata": {},
   "outputs": [],
   "source": [
    "# export\n",
    "def convert_to_base64(image, image_type=\"PNG\"):\n",
    "    \"\"\"\n",
    "    Converts the specified image into a base64 version of itself.\n",
    "\n",
    "    `image`: The image to transform as Pillow Image.\n",
    "    `image_type`: The image type.\n",
    "    :return: The base64 encoded version of the image.\n",
    "    \"\"\"\n",
    "    buffered = BytesIO()\n",
    "    image.save(buffered, format=image_type)\n",
    "    return base64.b64encode(buffered.getvalue()).decode('UTF-8')"
   ]
  },
  {
   "cell_type": "code",
   "execution_count": null,
   "metadata": {},
   "outputs": [],
   "source": [
    "# export\n",
    "def write_mask(mask, file_path):\n",
    "    \"\"\"\n",
    "    Writes a mask as image.\n",
    "    The image format is set by the file extension in file_path.\n",
    "\n",
    "    `mask`: The mask to write.\n",
    "    `file_path`: The path including file name and file extension to write to.\n",
    "    \"\"\"\n",
    "    im = PILImage.fromarray(mask)\n",
    "    im.save(file_path)"
   ]
  },
  {
   "cell_type": "markdown",
   "metadata": {},
   "source": [
    "## Helper Methods"
   ]
  },
  {
   "cell_type": "code",
   "execution_count": null,
   "metadata": {},
   "outputs": [],
   "source": [
    "# export\n",
    "def configure_logging(logging_level=logging.INFO):\n",
    "    \"\"\"\n",
    "    Configures logging for the system.\n",
    "\n",
    "    :param logging_level: The logging level to use.\n",
    "    \"\"\"\n",
    "    logger.setLevel(logging_level)\n",
    "\n",
    "    handler = logging.StreamHandler(sys.stdout)\n",
    "    handler.setLevel(logging_level)\n",
    "\n",
    "    logger.addHandler(handler)"
   ]
  },
  {
   "cell_type": "markdown",
   "metadata": {},
   "source": [
    "## Run from command line"
   ]
  },
  {
   "cell_type": "markdown",
   "metadata": {},
   "source": [
    "To run the pillow image tools from command line, use the following command:\n",
    "`python -m mlcore.image.pillow_tools [parameters]`"
   ]
  },
  {
   "cell_type": "markdown",
   "metadata": {},
   "source": [
    "The following parameters are supported:\n",
    "- `[image_path]`: The path to the image files."
   ]
  },
  {
   "cell_type": "code",
   "execution_count": null,
   "metadata": {},
   "outputs": [],
   "source": [
    "# export\n",
    "if __name__ == '__main__' and '__file__' in globals():\n",
    "    # for direct shell execution\n",
    "    configure_logging()\n",
    "\n",
    "    parser = argparse.ArgumentParser()\n",
    "    parser.add_argument(\"image_path\",\n",
    "                        help=\"The path to the image files.\")\n",
    "\n",
    "    args = parser.parse_args()\n",
    "    files = scan_files(args.image_path)\n",
    "    for file in files:\n",
    "        _, w, h = get_image_size(file)\n",
    "        _, orientation = get_image_orientation(file)\n",
    "        logger.info(\"Size: width: {}, height: {}, orientation: {}\".format(w, h, orientation))\n"
   ]
  },
  {
   "cell_type": "code",
   "execution_count": null,
   "metadata": {},
   "outputs": [
    {
     "name": "stdout",
     "output_type": "stream",
     "text": [
      "Converted annotation-core.ipynb.\n",
      "Converted annotation-folder_category_adapter.ipynb.\n",
      "Converted annotation-multi_category_adapter.ipynb.\n",
      "Converted annotation-via_adapter.ipynb.\n",
      "Converted annotation-yolo_adapter.ipynb.\n",
      "Converted annotation_converter.ipynb.\n",
      "Converted annotation_viewer.ipynb.\n",
      "Converted category_tools.ipynb.\n",
      "Converted core.ipynb.\n",
      "Converted dataset-core.ipynb.\n",
      "Converted dataset-image_classification.ipynb.\n",
      "Converted dataset-image_object_detection.ipynb.\n",
      "Converted dataset-image_segmentation.ipynb.\n",
      "Converted dataset-type.ipynb.\n",
      "Converted dataset_generator.ipynb.\n",
      "Converted evaluation-core.ipynb.\n",
      "Converted geometry.ipynb.\n",
      "Converted image-color_palette.ipynb.\n",
      "Converted image-inference.ipynb.\n",
      "Converted image-opencv_tools.ipynb.\n",
      "Converted image-pillow_tools.ipynb.\n",
      "Converted image-tools.ipynb.\n",
      "Converted index.ipynb.\n",
      "Converted io-core.ipynb.\n",
      "Converted tensorflow-tflite_converter.ipynb.\n",
      "Converted tensorflow-tflite_metadata.ipynb.\n",
      "Converted tensorflow-tfrecord_builder.ipynb.\n",
      "Converted tools-check_double_images.ipynb.\n",
      "Converted tools-downloader.ipynb.\n",
      "Converted tools-image_size_calculator.ipynb.\n"
     ]
    }
   ],
   "source": [
    "# hide\n",
    "\n",
    "# for generating scripts from notebook directly\n",
    "from nbdev.export import notebook2script\n",
    "notebook2script()"
   ]
  }
 ],
 "metadata": {
  "kernelspec": {
   "display_name": "Python [conda env:ML-Core]",
   "language": "python",
   "name": "conda-env-ML-Core-py"
  }
 },
 "nbformat": 4,
 "nbformat_minor": 4
}
