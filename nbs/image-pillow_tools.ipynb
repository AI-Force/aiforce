{
 "cells": [
  {
   "cell_type": "code",
   "execution_count": null,
   "metadata": {},
   "outputs": [],
   "source": [
    "# default_exp image.pillow_tools"
   ]
  },
  {
   "cell_type": "code",
   "execution_count": null,
   "metadata": {},
   "outputs": [],
   "source": [
    "# hide\n",
    "from nbdev.showdoc import *"
   ]
  },
  {
   "cell_type": "code",
   "execution_count": null,
   "metadata": {},
   "outputs": [],
   "source": [
    "# export\n",
    "import sys\n",
    "import argparse\n",
    "import logging\n",
    "import base64\n",
    "from io import BytesIO\n",
    "from PIL import Image as PILImage\n",
    "from PIL.ExifTags import TAGS as EXIF_TAGS\n",
    "from mlcore.image.tools import ImageOrientation\n",
    "from mlcore.io.core import scan_files"
   ]
  },
  {
   "cell_type": "code",
   "execution_count": null,
   "metadata": {},
   "outputs": [],
   "source": [
    "# hide\n",
    "%reload_ext autoreload\n",
    "%autoreload 2\n",
    "%matplotlib inline"
   ]
  },
  {
   "cell_type": "code",
   "execution_count": null,
   "metadata": {},
   "outputs": [],
   "source": [
    "# export\n",
    "\n",
    "EXIF_ORIENTATION_TAG = 'Orientation'\n",
    "\"\"\"The Image EXIF orientation tag\"\"\""
   ]
  },
  {
   "cell_type": "code",
   "execution_count": null,
   "metadata": {},
   "outputs": [],
   "source": [
    "# export\n",
    "\n",
    "logger = logging.getLogger(__name__)"
   ]
  },
  {
   "cell_type": "markdown",
   "metadata": {},
   "source": [
    "# Image Tools for Pillow\n",
    "> Tools for converting images by using Pillow library."
   ]
  },
  {
   "cell_type": "code",
   "execution_count": null,
   "metadata": {},
   "outputs": [],
   "source": [
    "# export\n",
    "\n",
    "\n",
    "def limit_to_max_size(img, max_size):\n",
    "    \"\"\"\n",
    "    Limit the image size to max size and scale the image,\n",
    "    if max size exceeded.\n",
    "    `img`: The image to validate as Pillow Image.\n",
    "    `max_size`: The max allowed image size.\n",
    "    :return: The eventually resized image.\n",
    "    \"\"\"\n",
    "    biggest_size = max(img.size)\n",
    "    if max_size and biggest_size > max_size:\n",
    "        ratio = 1.0 * max_size / biggest_size\n",
    "        img = img.resize([int(ratio * s) for s in img.size])\n",
    "    return img"
   ]
  },
  {
   "cell_type": "code",
   "execution_count": null,
   "metadata": {},
   "outputs": [],
   "source": [
    "# export\n",
    "\n",
    "\n",
    "def fit_to_max_size(img, max_width, max_height):\n",
    "    \"\"\"\n",
    "    Limit the image size to maximum width and height and scale the image,\n",
    "    if size exceeded.\n",
    "    `img`: The image to validate as Pillow Image.\n",
    "    `max_width`: The max allowed image width.\n",
    "    `max_height`: The max allowed image height.\n",
    "    :return: The eventually resized image.\n",
    "    \"\"\"\n",
    "    w, h = img.size\n",
    "    scale_delta = max(w - max_width, h - max_height)\n",
    "    if scale_delta > 0:\n",
    "        max_size = max(w - scale_delta, h - scale_delta)\n",
    "        img = limit_to_max_size(img, max_size)\n",
    "    return img"
   ]
  },
  {
   "cell_type": "code",
   "execution_count": null,
   "metadata": {},
   "outputs": [],
   "source": [
    "# export\n",
    "\n",
    "\n",
    "def get_image_size(fname):\n",
    "    \"\"\"\n",
    "    Calculates image size of a given image file path.\n",
    "    `fname`: the file path\n",
    "    return: the image width and height\n",
    "    \"\"\"\n",
    "    img = PILImage.open(fname)\n",
    "    w, h = img.size\n",
    "    return w, h"
   ]
  },
  {
   "cell_type": "code",
   "execution_count": null,
   "metadata": {},
   "outputs": [],
   "source": [
    "# export\n",
    "\n",
    "\n",
    "def get_image_size_and_orientation(fname):\n",
    "    \"\"\"\n",
    "    Parses the EXIF orientation information from the image.\n",
    "    :param img_bytes: The image data to extract the EXIF information from.\n",
    "    :return: The image size and the orientation of the image.\n",
    "    \"\"\"\n",
    "    orientation = ImageOrientation.TOP\n",
    "    image = PILImage.open(fname)\n",
    "    size = image.size\n",
    "    if image is not None:\n",
    "        exif_data = image._getexif()\n",
    "        if exif_data is not None:\n",
    "            for (k, v) in exif_data.items():\n",
    "                if EXIF_TAGS.get(k) == EXIF_ORIENTATION_TAG:\n",
    "                    try:\n",
    "                        orientation = ImageOrientation(v)\n",
    "                    except ValueError as e:\n",
    "                        logger.error(e)\n",
    "    return size, orientation"
   ]
  },
  {
   "cell_type": "code",
   "execution_count": null,
   "metadata": {},
   "outputs": [],
   "source": [
    "# export\n",
    "\n",
    "\n",
    "def convert_to_base64(image, image_type=\"PNG\"):\n",
    "    \"\"\"\n",
    "    Converts the specified image into a base64 version of itself.\n",
    "\n",
    "    `image`: The image to transform as Pillow Image.\n",
    "    `image_type`: The image type.\n",
    "    :return: The base64 encoded version of the image.\n",
    "    \"\"\"\n",
    "    buffered = BytesIO()\n",
    "    image.save(buffered, format=image_type)\n",
    "    return base64.b64encode(buffered.getvalue()).decode('UTF-8')\n"
   ]
  },
  {
   "cell_type": "markdown",
   "metadata": {},
   "source": [
    "## Helper Methods"
   ]
  },
  {
   "cell_type": "code",
   "execution_count": null,
   "metadata": {},
   "outputs": [],
   "source": [
    "# export\n",
    "\n",
    "\n",
    "def configure_logging(logging_level=logging.INFO):\n",
    "    \"\"\"\n",
    "    Configures logging for the system.\n",
    "\n",
    "    :param logging_level: The logging level to use.\n",
    "    \"\"\"\n",
    "    logger.setLevel(logging_level)\n",
    "\n",
    "    handler = logging.StreamHandler(sys.stdout)\n",
    "    handler.setLevel(logging_level)\n",
    "\n",
    "    logger.addHandler(handler)"
   ]
  },
  {
   "cell_type": "markdown",
   "metadata": {},
   "source": [
    "## Run from command line"
   ]
  },
  {
   "cell_type": "markdown",
   "metadata": {},
   "source": [
    "To run the pillow image tools from command line, use the following command:\n",
    "`python -m mlcore.image.pillow_tools [parameters]`"
   ]
  },
  {
   "cell_type": "markdown",
   "metadata": {},
   "source": [
    "The following parameters are supported:\n",
    "- `[image_path]`: The path to the image files."
   ]
  },
  {
   "cell_type": "code",
   "execution_count": null,
   "metadata": {},
   "outputs": [],
   "source": [
    "# export\n",
    "\n",
    "\n",
    "if __name__ == '__main__' and '__file__' in globals():\n",
    "    # for direct shell execution\n",
    "    configure_logging()\n",
    "\n",
    "    parser = argparse.ArgumentParser()\n",
    "    parser.add_argument(\"image_path\",\n",
    "                        help=\"The path to the image files.\")\n",
    "\n",
    "    args = parser.parse_args()\n",
    "    files = scan_files(args.image_path)\n",
    "    for file in files:\n",
    "        size, orientation = get_image_size_and_orientation(file)\n",
    "        logger.info(\"Size: width: {}, height: {}, orientation: {}\".format(size[0], size[1], orientation))\n"
   ]
  },
  {
   "cell_type": "code",
   "execution_count": null,
   "metadata": {},
   "outputs": [],
   "source": []
  }
 ],
 "metadata": {
  "kernelspec": {
   "display_name": "Python [conda env:ML-Core]",
   "language": "python",
   "name": "conda-env-ML-Core-py"
  }
 },
 "nbformat": 4,
 "nbformat_minor": 4
}
