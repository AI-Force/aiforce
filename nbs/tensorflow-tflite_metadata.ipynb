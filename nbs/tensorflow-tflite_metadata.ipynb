{
 "cells": [
  {
   "cell_type": "code",
   "execution_count": null,
   "metadata": {},
   "outputs": [],
   "source": [
    "# default_exp tensorflow.tflite_metadata"
   ]
  },
  {
   "cell_type": "code",
   "execution_count": null,
   "metadata": {},
   "outputs": [],
   "source": [
    "# hide\n",
    "from nbdev.showdoc import *"
   ]
  },
  {
   "cell_type": "code",
   "execution_count": null,
   "metadata": {},
   "outputs": [],
   "source": [
    "# export\n",
    "\n",
    "import logging\n",
    "import logging.handlers\n",
    "import argparse\n",
    "import sys\n",
    "import tensorflow as tf\n",
    "from tflite_support import flatbuffers\n",
    "from tflite_support import metadata as _metadata\n",
    "from tflite_support import metadata_schema_py_generated as _metadata_fb\n",
    "from os.path import join, basename"
   ]
  },
  {
   "cell_type": "code",
   "execution_count": null,
   "metadata": {},
   "outputs": [],
   "source": [
    "# hide\n",
    "%reload_ext autoreload\n",
    "%autoreload 2\n",
    "%matplotlib inline"
   ]
  },
  {
   "cell_type": "code",
   "execution_count": null,
   "metadata": {},
   "outputs": [],
   "source": [
    "# export\n",
    "\n",
    "logger = logging.getLogger(__name__)"
   ]
  },
  {
   "cell_type": "markdown",
   "metadata": {},
   "source": [
    "# Tensorflow Lite Metadata\n",
    "> Write and read Metadata from a .tflite exported model. For details, see [Adding metadata to TensorFlow Lite models](https://www.tensorflow.org/lite/convert/metadata)"
   ]
  },
  {
   "cell_type": "code",
   "execution_count": null,
   "metadata": {},
   "outputs": [],
   "source": [
    "# export\n",
    "\n",
    "\n",
    "def write_metadata(model_path, categories_file_path):\n",
    "    \"\"\"\n",
    "    Write metadata to the Tensowflow Lite model on disk.\n",
    "    `model_path`: the path to the Tensorflow Lite model\n",
    "    `categories_file_path`: the path to the categories.txt file\n",
    "    \"\"\"\n",
    "    model_meta = _metadata_fb.ModelMetadataT()\n",
    "\n",
    "    # Creates input info.\n",
    "    input_meta = _metadata_fb.TensorMetadataT()\n",
    "\n",
    "    output_meta = _metadata_fb.TensorMetadataT()\n",
    "    label_file = _metadata_fb.AssociatedFileT()\n",
    "    label_file.name = basename(categories_file_path)\n",
    "    label_file.description = \"Labels for objects that the model can recognize.\"\n",
    "    label_file.type = _metadata_fb.AssociatedFileType.TENSOR_AXIS_LABELS\n",
    "    output_meta.associatedFiles = [categories_file_path]\n",
    "\n",
    "    # Creates subgraph info.\n",
    "    subgraph = _metadata_fb.SubGraphMetadataT()\n",
    "    subgraph.inputTensorMetadata = [input_meta]\n",
    "    subgraph.outputTensorMetadata = [output_meta]\n",
    "    model_meta.subgraphMetadata = [subgraph]\n",
    "\n",
    "    b = flatbuffers.Builder(0)\n",
    "    b.Finish(\n",
    "        model_meta.Pack(b),\n",
    "        _metadata.MetadataPopulator.METADATA_FILE_IDENTIFIER)\n",
    "    metadata_buf = b.Output()\n",
    "\n",
    "    populator = tflite_metadata.MetadataPopulator.with_model_file(model_path)\n",
    "    populator.load_metadata_buffer(metadata_buf)\n",
    "    populator.load_associated_files([categories_file_path])\n",
    "    populator.populate()"
   ]
  },
  {
   "cell_type": "code",
   "execution_count": null,
   "metadata": {},
   "outputs": [],
   "source": [
    "# export\n",
    "\n",
    "\n",
    "def read_metadata(model_path):\n",
    "    \"\"\"\n",
    "    Read meta-data from the Tensowflow Lite model on disk.\n",
    "    `model_path`: the path to the Tensorflow Lite model\n",
    "    returns: the metadata in JSON format\n",
    "    \"\"\"\n",
    "    displayer = _metadata.MetadataDisplayer.with_model_file(model_path)\n",
    "    metadata = displayer.get_metadata_json()\n",
    "    return metadata"
   ]
  },
  {
   "cell_type": "markdown",
   "metadata": {},
   "source": [
    "## Helper Methods"
   ]
  },
  {
   "cell_type": "code",
   "execution_count": null,
   "metadata": {},
   "outputs": [],
   "source": [
    "# export\n",
    "\n",
    "\n",
    "def configure_logging(logging_level=logging.INFO):\n",
    "    \"\"\"\n",
    "    Configures logging for the system.\n",
    "\n",
    "    :param logging_level: The logging level to use.\n",
    "    \"\"\"\n",
    "    logger.setLevel(logging_level)\n",
    "\n",
    "    handler = logging.StreamHandler(sys.stdout)\n",
    "    handler.setLevel(logging_level)\n",
    "\n",
    "    logger.addHandler(handler)"
   ]
  },
  {
   "cell_type": "markdown",
   "metadata": {},
   "source": [
    "## Run from command line"
   ]
  },
  {
   "cell_type": "markdown",
   "metadata": {},
   "source": [
    "To run from command line, use the following command:\n",
    "`python -m mlcore.tensorflow.tflite_metadata [parameters]`"
   ]
  },
  {
   "cell_type": "markdown",
   "metadata": {},
   "source": [
    "The following parameters are supported:\n",
    "- `model`: The path to the Tensorflow Lite exported model file. (e.g.:  *datasets/image_object_detection/car_damage/model.tflite*)\n",
    "- `--categories`: The categories file to add to the Tensorflow Lite model. (e.g.:  *datasets/image_object_detection/car_damage/categories.txt*)"
   ]
  },
  {
   "cell_type": "markdown",
   "metadata": {},
   "source": [
    "For reading metadata from a Tensorflow Lite model, set the `model` parameter. For writing metadata to a Tensorflow Lite model, add corresponding additional parameters (e.g. --categories)."
   ]
  },
  {
   "cell_type": "code",
   "execution_count": null,
   "metadata": {},
   "outputs": [],
   "source": [
    "# export\n",
    "\n",
    "\n",
    "if __name__ == '__main__' and '__file__' in globals():\n",
    "    configure_logging()\n",
    "\n",
    "    parser = argparse.ArgumentParser()\n",
    "    parser.add_argument(\"model\",\n",
    "                        help=\"The path to the Tensorflow Lite exported model file.\")\n",
    "    parser.add_argument(\"-c\",\n",
    "                        \"--categories\",\n",
    "                        help=\"The categories file to add to the Tensorflow Lite model.\",\n",
    "                        type=str,\n",
    "                        default=None)\n",
    "    args = parser.parse_args()\n",
    "\n",
    "    if args.categories is None:\n",
    "        metadata = read_metadata(args.model)\n",
    "        logger.info('Read metadata from Tensorflow Lite model: {}'.format(args.model))\n",
    "        logger.info(metadata)\n",
    "    else:\n",
    "        write_metadata(args.model, args.categories)\n",
    "\n",
    "    logger.info('FINISHED!!!')\n"
   ]
  }
 ],
 "metadata": {
  "kernelspec": {
   "display_name": "Python [conda env:ML-Core]",
   "language": "python",
   "name": "conda-env-ML-Core-py"
  }
 },
 "nbformat": 4,
 "nbformat_minor": 4
}
