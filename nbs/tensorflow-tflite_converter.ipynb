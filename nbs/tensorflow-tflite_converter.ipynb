{
 "cells": [
  {
   "cell_type": "code",
   "execution_count": null,
   "metadata": {},
   "outputs": [],
   "source": [
    "# default_exp tensorflow.tflite_converter"
   ]
  },
  {
   "cell_type": "code",
   "execution_count": null,
   "metadata": {},
   "outputs": [],
   "source": [
    "# hide\n",
    "from nbdev.showdoc import *"
   ]
  },
  {
   "cell_type": "code",
   "execution_count": null,
   "metadata": {},
   "outputs": [],
   "source": [
    "# export\n",
    "\n",
    "import logging\n",
    "import logging.handlers\n",
    "import argparse\n",
    "import sys\n",
    "import tensorflow as tf\n",
    "from mlcore.core import Type\n",
    "from tflite_support import flatbuffers\n",
    "from tflite_support import metadata as _metadata\n",
    "from tflite_support import metadata_schema_py_generated as _metadata_fb\n",
    "from os.path import join, basename\n",
    "from google.protobuf import text_format"
   ]
  },
  {
   "cell_type": "code",
   "execution_count": null,
   "metadata": {},
   "outputs": [],
   "source": [
    "# hide\n",
    "%reload_ext autoreload\n",
    "%autoreload 2\n",
    "%matplotlib inline"
   ]
  },
  {
   "cell_type": "code",
   "execution_count": null,
   "metadata": {},
   "outputs": [],
   "source": [
    "# export\n",
    "\n",
    "logger = logging.getLogger(__name__)"
   ]
  },
  {
   "cell_type": "markdown",
   "metadata": {},
   "source": [
    "# Tensorflow Lite Model Converter\n",
    "> Converts a SavedModel into Tensorflow Lite format. For details, see [Tensorflow Lite Converter](https://www.tensorflow.org/lite/convert)"
   ]
  },
  {
   "cell_type": "code",
   "execution_count": null,
   "metadata": {},
   "outputs": [],
   "source": [
    "# export\n",
    "\n",
    "\n",
    "def convert_model(saved_model_dir):\n",
    "    \"\"\"\n",
    "    Convert a SavedModel into Tensorflow Lite Format.\n",
    "    `saved_model_dir`: the path to the SavedModel directory\n",
    "    returns: the converted Tensorflow Lite model\n",
    "    \"\"\"\n",
    "    logger.info('Converting SavedModel from: {}'.format(saved_model_dir))\n",
    "    converter = tf.lite.TFLiteConverter.from_saved_model(saved_model_dir)  # path to the SavedModel directory\n",
    "    tflite_model = converter.convert()\n",
    "    return tflite_model"
   ]
  },
  {
   "cell_type": "code",
   "execution_count": null,
   "metadata": {},
   "outputs": [],
   "source": [
    "# export\n",
    "\n",
    "\n",
    "def save_model(tflite_model, output_path):\n",
    "    \"\"\"\n",
    "    Save a Tensowflow Lite model to disk.\n",
    "    `tflite_model`: the Tensorflow Lite model\n",
    "    `output_path`: the folder to save the Tensorflow Lite model\n",
    "    \"\"\"\n",
    "    output_file = join(output_path, 'model.tflite')\n",
    "    with open(output_file, 'wb') as f:\n",
    "        f.write(tflite_model)\n",
    "    logger.info('Successfully save model to file: {}'.format(output_file))"
   ]
  },
  {
   "cell_type": "code",
   "execution_count": null,
   "metadata": {},
   "outputs": [],
   "source": [
    "# export\n",
    "\n",
    "\n",
    "def add_metadata(categories_file_path, output_path):\n",
    "    \"\"\"\n",
    "    Add meta-data to the Tensowflow Lite model on disk.\n",
    "    `categories_file_path`: the path to the categories.txt file\n",
    "    `output_path`: the folder of the Tensorflow Lite model\n",
    "    \"\"\"\n",
    "    # Creates model info.\n",
    "    model_meta = _metadata_fb.ModelMetadataT()\n",
    "    model_meta.name = \"SSD MobileNetV2\"\n",
    "    model_meta.description = (\"Identify which of a known set of objects \"\n",
    "                              \"might be present and provide information about their positions \"\n",
    "                              \"within the given image or a video stream.\")\n",
    "    model_meta.version = \"v1\"\n",
    "    model_meta.author = \"Protosolution\"\n",
    "    model_meta.license = (\"Apache License. Version 2.0 \"\n",
    "                          \"http://www.apache.org/licenses/LICENSE-2.0.\")\n",
    "\n",
    "    # Creates input info.\n",
    "    input_meta = _metadata_fb.TensorMetadataT()\n",
    "    input_meta.name = \"image\"\n",
    "    input_meta.description = (\n",
    "        \"Input image to be detected. The expected image is {0} x {1}, with \"\n",
    "        \"three channels (red, blue, and green) per pixel. Each value in the \"\n",
    "        \"tensor is a single byte between 0 and 255.\".format(640, 640))\n",
    "    input_meta.content = _metadata_fb.ContentT()\n",
    "    input_meta.content.contentProperties = _metadata_fb.ImagePropertiesT()\n",
    "    input_meta.content.contentProperties.colorSpace = (\n",
    "        _metadata_fb.ColorSpaceType.RGB)\n",
    "    input_meta.content.contentPropertiesType = (\n",
    "        _metadata_fb.ContentProperties.ImageProperties)\n",
    "    input_normalization = _metadata_fb.ProcessUnitT()\n",
    "    input_normalization.optionsType = (\n",
    "        _metadata_fb.ProcessUnitOptions.NormalizationOptions)\n",
    "    input_normalization.options = _metadata_fb.NormalizationOptionsT()\n",
    "    input_normalization.options.mean = [127.5]\n",
    "    input_normalization.options.std = [127.5]\n",
    "    input_meta.processUnits = [input_normalization]\n",
    "    input_meta.stats = _metadata_fb.StatsT()\n",
    "    input_meta.stats.max = [255]\n",
    "    input_meta.stats.min = [0]\n",
    "\n",
    "    # Creates output info.\n",
    "    output_meta_location = _metadata_fb.TensorMetadataT()\n",
    "    output_meta_location.name = \"location\"\n",
    "    output_meta_location.description = \"The locations of the detected boxes.\"\n",
    "    output_meta_location.content = _metadata_fb.ContentT()\n",
    "    output_meta_location.content.content_properties = _metadata_fb.BoundingBoxPropertiesT()\n",
    "    output_meta_location.content.contentPropertiesType = _metadata_fb.ContentProperties.BoundingBoxProperties\n",
    "    output_meta_location.content.content_properties.index = [1, 0, 3, 2]\n",
    "    output_meta_location.content.content_properties.type = _metadata_fb.BoundingBoxType.BOUNDARIES\n",
    "    output_meta_location.content.range = _metadata_fb.ValueRangeT()\n",
    "    output_meta_location.content.range.min = 2\n",
    "    output_meta_location.content.range.max = 2\n",
    "\n",
    "    output_meta_category = _metadata_fb.TensorMetadataT()\n",
    "    output_meta_category.name = \"category\"\n",
    "    output_meta_category.description = \"The categories of the detected boxes.\"\n",
    "    output_meta_category.content = _metadata_fb.ContentT()\n",
    "    output_meta_category.content.content_properties = _metadata_fb.FeaturePropertiesT()\n",
    "    output_meta_category.content.contentPropertiesType = _metadata_fb.ContentProperties.FeatureProperties\n",
    "    output_meta_category.content.range = _metadata_fb.ValueRangeT()\n",
    "    output_meta_category.content.range.min = 2\n",
    "    output_meta_category.content.range.max = 2\n",
    "    label_file = _metadata_fb.AssociatedFileT()\n",
    "    label_file.name = basename(categories_file_path)\n",
    "    label_file.description = \"Labels for objects that the model can recognize.\"\n",
    "    label_file.type = _metadata_fb.AssociatedFileType.TENSOR_VALUE_LABELS\n",
    "    output_meta_category.associatedFiles = [label_file]\n",
    "\n",
    "    output_meta_score = _metadata_fb.TensorMetadataT()\n",
    "    output_meta_score.name = \"score\"\n",
    "    output_meta_score.description = \"The scores of the detected boxes.\"\n",
    "    output_meta_score.content = _metadata_fb.ContentT()\n",
    "    output_meta_score.content.content_properties = _metadata_fb.FeaturePropertiesT()\n",
    "    output_meta_score.content.contentPropertiesType = _metadata_fb.ContentProperties.FeatureProperties\n",
    "    output_meta_score.content.range = _metadata_fb.ValueRangeT()\n",
    "    output_meta_score.content.range.min = 2\n",
    "    output_meta_score.content.range.max = 2\n",
    "\n",
    "    output_meta_detections = _metadata_fb.TensorMetadataT()\n",
    "    output_meta_detections.name = \"number of detections\"\n",
    "    output_meta_detections.description = \"The number of the detected boxes.\"\n",
    "    output_meta_detections.content = _metadata_fb.ContentT()\n",
    "    output_meta_detections.content.content_properties = _metadata_fb.FeaturePropertiesT()\n",
    "    output_meta_detections.content.contentPropertiesType = _metadata_fb.ContentProperties.FeatureProperties\n",
    "\n",
    "    output_groups = _metadata_fb.TensorGroupT()\n",
    "    output_groups.name = \"detection result\"\n",
    "    output_groups.tensorNames = [output_meta_location.name, output_meta_category.name, output_meta_score.name]\n",
    "\n",
    "    # Creates subgraph info.\n",
    "    subgraph = _metadata_fb.SubGraphMetadataT()\n",
    "    subgraph.inputTensorMetadata = [input_meta]\n",
    "    subgraph.outputTensorMetadata = [output_meta_location, output_meta_category, output_meta_score, output_meta_detections]\n",
    "    subgraph.outputTensorGroups = [output_groups]\n",
    "    model_meta.subgraphMetadata = [subgraph]\n",
    "\n",
    "    b = flatbuffers.Builder(0)\n",
    "    b.Finish(\n",
    "        model_meta.Pack(b),\n",
    "        _metadata.MetadataPopulator.METADATA_FILE_IDENTIFIER)\n",
    "    metadata_buf = b.Output()\n",
    "\n",
    "    populator = _metadata.MetadataPopulator.with_model_file(join(output_path, 'model.tflite'))\n",
    "    populator.load_metadata_buffer(metadata_buf)\n",
    "    populator.load_associated_files([categories_file_path])\n",
    "    populator.populate()"
   ]
  },
  {
   "cell_type": "markdown",
   "metadata": {},
   "source": [
    "## Helper Methods"
   ]
  },
  {
   "cell_type": "code",
   "execution_count": null,
   "metadata": {},
   "outputs": [],
   "source": [
    "# export\n",
    "\n",
    "\n",
    "def read_pipeline_config(pipeline_config_path):\n",
    "    \"\"\"\n",
    "    Reads the pipeline config file.\n",
    "\n",
    "    `pipeline_config_path`: The path to the pipeline config file.\n",
    "    \"\"\"\n",
    "    pipeline_config = {}\n",
    "    with tf.io.gfile.GFile(pipeline_config_path, 'r') as f:\n",
    "        text_format.Parse(f.read(), pipeline_config)\n",
    "    return pipeline_config"
   ]
  },
  {
   "cell_type": "code",
   "execution_count": null,
   "metadata": {},
   "outputs": [],
   "source": [
    "# export\n",
    "\n",
    "\n",
    "def configure_logging(logging_level=logging.INFO):\n",
    "    \"\"\"\n",
    "    Configures logging for the system.\n",
    "\n",
    "    `logging_level`: The logging level to use.\n",
    "    \"\"\"\n",
    "    logger.setLevel(logging_level)\n",
    "\n",
    "    handler = logging.StreamHandler(sys.stdout)\n",
    "    handler.setLevel(logging_level)\n",
    "\n",
    "    logger.addHandler(handler)"
   ]
  },
  {
   "cell_type": "markdown",
   "metadata": {},
   "source": [
    "## Run from command line"
   ]
  },
  {
   "cell_type": "markdown",
   "metadata": {},
   "source": [
    "To run from command line, use the following command:\n",
    "`python -m mlcore.tensorflow.tflite_converter [parameters]`"
   ]
  },
  {
   "cell_type": "markdown",
   "metadata": {},
   "source": [
    "The following parameters are supported:\n",
    "- `--source`: The path to the folder containing the SavedModel. (e.g.:  *datasets/image_object_detection/car_damage/saved_model*)\n",
    "- `--output`: The folder to store the Tensorflow Lite model. (e.g.:  *datasets/image_object_detection/car_damage/tflite*)"
   ]
  },
  {
   "cell_type": "code",
   "execution_count": null,
   "metadata": {},
   "outputs": [],
   "source": [
    "# export\n",
    "\n",
    "\n",
    "if __name__ == '__main__' and '__file__' in globals():\n",
    "    configure_logging()\n",
    "\n",
    "    parser = argparse.ArgumentParser()\n",
    "    parser.add_argument(\"-s\",\n",
    "                        \"--source\",\n",
    "                        help=\"The path to the folder containing the SavedModel.\",\n",
    "                        type=str)\n",
    "    parser.add_argument(\"-c\",\n",
    "                        \"--categories\",\n",
    "                        help=\"The categories file to add to the Tensorflow Lite model.\",\n",
    "                        type=str)\n",
    "    parser.add_argument(\"-o\",\n",
    "                        \"--output\",\n",
    "                        help=\"The folder to store the Tensorflow Lite model.\",\n",
    "                        type=str)\n",
    "    args = parser.parse_args()\n",
    "\n",
    "    save_model(convert_model(args.source), args.output)\n",
    "    add_metadata(args.categories, args.output)\n",
    "\n",
    "    logger.info('FINISHED!!!')\n"
   ]
  }
 ],
 "metadata": {
  "kernelspec": {
   "display_name": "Python [conda env:ML-Core]",
   "language": "python",
   "name": "conda-env-ML-Core-py"
  }
 },
 "nbformat": 4,
 "nbformat_minor": 4
}
