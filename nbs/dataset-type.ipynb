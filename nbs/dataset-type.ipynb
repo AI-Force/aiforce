{
 "cells": [
  {
   "cell_type": "code",
   "execution_count": null,
   "metadata": {},
   "outputs": [],
   "source": [
    "# default_exp dataset.type"
   ]
  },
  {
   "cell_type": "code",
   "execution_count": null,
   "metadata": {},
   "outputs": [],
   "source": [
    "# hide\n",
    "from nbdev.showdoc import *"
   ]
  },
  {
   "cell_type": "code",
   "execution_count": null,
   "metadata": {},
   "outputs": [],
   "source": [
    "# export\n",
    "\n",
    "from enum import Enum\n",
    "from os.path import dirname, basename"
   ]
  },
  {
   "cell_type": "code",
   "execution_count": null,
   "metadata": {},
   "outputs": [],
   "source": [
    "# hide\n",
    "%reload_ext autoreload\n",
    "%autoreload 2\n",
    "%matplotlib inline"
   ]
  },
  {
   "cell_type": "markdown",
   "metadata": {},
   "source": [
    "# DataSet type\n",
    "\n",
    "> DataSet Type."
   ]
  },
  {
   "cell_type": "code",
   "execution_count": null,
   "metadata": {},
   "outputs": [],
   "source": [
    "# export\n",
    "\n",
    "\n",
    "class DatasetType(Enum):\n",
    "    \"\"\"\n",
    "    Currently supported Machine Learning Types.\n",
    "    \"\"\"\n",
    "    IMAGE_CLASSIFICATION = 'image_classification'\n",
    "    IMAGE_SEGMENTATION = 'image_segmentation'\n",
    "    IMAGE_GENERATION = 'image_generation'\n",
    "    IMAGE_OBJECT_DETECTION = 'image_object_detection'\n",
    "\n",
    "    def __str__(self):\n",
    "        return self.value"
   ]
  },
  {
   "cell_type": "code",
   "execution_count": null,
   "metadata": {},
   "outputs": [],
   "source": [
    "# export\n",
    "\n",
    "\n",
    "def infer_dataset_type(category_file_path):\n",
    "    \"\"\"\n",
    "    Try to infer the dataset type from the category file path.\n",
    "    `category_file_path`: the path of the categories file\n",
    "    return: the infered dataset type\n",
    "    raises: `ValueError` if unsupported type infered\n",
    "    \"\"\"\n",
    "    dataset_type_from_path = None\n",
    "    try:\n",
    "        path = dirname(category_file_path)\n",
    "        dataset_type_from_path = basename(dirname(path))\n",
    "        return DatasetType(dataset_type_from_path)\n",
    "    except ValueError:\n",
    "        raise ValueError(\"Error, unsupported dataset type: {}\".format(dataset_type_from_path))\n"
   ]
  },
  {
   "cell_type": "code",
   "execution_count": null,
   "metadata": {},
   "outputs": [],
   "source": []
  }
 ],
 "metadata": {
  "kernelspec": {
   "display_name": "Python [conda env:ML-Core]",
   "language": "python",
   "name": "conda-env-ML-Core-py"
  }
 },
 "nbformat": 4,
 "nbformat_minor": 4
}
