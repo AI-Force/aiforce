{
 "cells": [
  {
   "cell_type": "code",
   "execution_count": null,
   "metadata": {},
   "outputs": [],
   "source": [
    "# default_exp annotation.yolo_adapter"
   ]
  },
  {
   "cell_type": "code",
   "execution_count": null,
   "metadata": {},
   "outputs": [],
   "source": [
    "# hide\n",
    "from nbdev.showdoc import *"
   ]
  },
  {
   "cell_type": "code",
   "execution_count": null,
   "metadata": {},
   "outputs": [],
   "source": [
    "# export\n",
    "\n",
    "import csv\n",
    "import sys\n",
    "import argparse\n",
    "import logging\n",
    "from os.path import join, splitext, basename\n",
    "from mlcore.io.core import scan_files\n",
    "from mlcore.image.pillow_tools import get_image_size\n",
    "from mlcore.annotation.core import Annotation, Region, RegionShape, create_annotation_id"
   ]
  },
  {
   "cell_type": "code",
   "execution_count": null,
   "metadata": {},
   "outputs": [],
   "source": [
    "# hide\n",
    "%reload_ext autoreload\n",
    "%autoreload 2\n",
    "%matplotlib inline"
   ]
  },
  {
   "cell_type": "code",
   "execution_count": null,
   "metadata": {},
   "outputs": [],
   "source": [
    "# export\n",
    "\n",
    "FIELD_NAMES = ['class_number', 'c_x', 'c_y', 'width', 'height']"
   ]
  },
  {
   "cell_type": "code",
   "execution_count": null,
   "metadata": {},
   "outputs": [],
   "source": [
    "# export\n",
    "\n",
    "logger = logging.getLogger(__name__)"
   ]
  },
  {
   "cell_type": "markdown",
   "metadata": {},
   "source": [
    "# YOLO Annotation Adapter\n",
    "> YOLO annotation adapter. Converts the bounding boxes into YOLO format."
   ]
  },
  {
   "cell_type": "code",
   "execution_count": null,
   "metadata": {},
   "outputs": [],
   "source": [
    "# export\n",
    "\n",
    "\n",
    "def read_annotations(annotations_folder, files_source, categories):\n",
    "    \"\"\"\n",
    "    Reads YOLO annotations from the annotations folder.\n",
    "    `annotations_folder`: the path to the folder containing the annotation files\n",
    "    `files_source`: the path to the folder containing the source files\n",
    "    `categories`: the categories used\n",
    "    return: the annotations\n",
    "    \"\"\"\n",
    "\n",
    "    annotations = {}\n",
    "    annotation_files = scan_files(annotations_folder, file_extensions='.txt')\n",
    "    categories_len = len(categories)\n",
    "    for annotation_file in annotation_files:\n",
    "        with open(annotation_file, newline='') as csvfile:\n",
    "            annotation_file_name = basename(annotation_file)\n",
    "            file_name, _ = splitext(annotation_file_name)\n",
    "            file_path = join(files_source, '{}{}'.format(file_name, '.jpg'))\n",
    "            annotation_id = create_annotation_id(file_path)\n",
    "            if annotation_id is None:\n",
    "                logger.warning('File not found, skip annotations at path: {}'.format(annotation_file))\n",
    "                continue\n",
    "            if annotation_id not in annotations:\n",
    "                annotations[annotation_id] = Annotation(annotation_id=annotation_id, file_path=file_path)\n",
    "\n",
    "            reader = csv.DictReader(csvfile, fieldnames=FIELD_NAMES, delimiter=' ')\n",
    "            _, image_width, image_height = get_image_size(file_path)\n",
    "            for row in reader:\n",
    "                c_x = float(row[\"c_x\"])\n",
    "                c_y = float(row[\"c_y\"])\n",
    "                width = float(row[\"width\"])\n",
    "                height = float(row[\"height\"])\n",
    "                class_number = int(row[\"class_number\"])\n",
    "                x_min = _denormalize_value(c_x - (width / 2), image_width)\n",
    "                y_min = _denormalize_value(c_y - (height / 2), image_height)\n",
    "                x_max = x_min + _denormalize_value(width, image_width)\n",
    "                y_max = y_min + _denormalize_value(height, image_height)\n",
    "                points_x = [x_min, x_max]\n",
    "                points_y = [y_min, y_max]\n",
    "\n",
    "                labels = [categories[class_number]] if class_number < categories_len else []\n",
    "                region = Region(shape=RegionShape.RECTANGLE, points_x=points_x, points_y=points_y, labels=labels)\n",
    "                annotations[annotation_id].regions.append(region)\n",
    "    return annotations"
   ]
  },
  {
   "cell_type": "code",
   "execution_count": null,
   "metadata": {},
   "outputs": [],
   "source": [
    "# export\n",
    "\n",
    "\n",
    "def write_annotations(annotations_folder, annotations, categories):\n",
    "    \"\"\"\n",
    "    Writes YOLO annotations to the annotations folder.\n",
    "    `annotations_folder`: the path to the folder containing the annotation files\n",
    "    `annotations`: the annotations to write\n",
    "    `categories`: the categories used\n",
    "    \"\"\"\n",
    "    for annotation in annotations.values():\n",
    "        file_name, _ = splitext(basename(annotation.file_path))\n",
    "        annotations_file = join(annotations_folder, '{}{}'.format(file_name, '.txt'))\n",
    "        _, image_width, image_height = get_image_size(annotation.file_path)\n",
    "        with open(annotations_file, 'w', newline='') as csvfile:\n",
    "            writer = csv.DictWriter(csvfile, fieldnames=FIELD_NAMES, delimiter=' ')\n",
    "\n",
    "            for index, region in enumerate(annotation.regions):\n",
    "                if region.shape != RegionShape.RECTANGLE:\n",
    "                    logger.warning('Unsupported shape {}, skip region {} at path: {}'.format(region.shape, index,\n",
    "                                                                                             annotations_file))\n",
    "                    continue\n",
    "\n",
    "                x_min, x_max = region.points_x\n",
    "                y_min, y_max = region.points_y\n",
    "                width = x_max - x_min\n",
    "                height = y_max - y_min\n",
    "                c_x = _normalize_value(x_min + width / 2, image_width)\n",
    "                c_y = _normalize_value(y_min + height / 2, image_height)\n",
    "                width = _normalize_value(width, image_width)\n",
    "                height = _normalize_value(height, image_height)\n",
    "                label = region.labels[0] if len(region.labels) else ''\n",
    "                class_number = categories.index(label)\n",
    "\n",
    "                writer.writerow({'class_number': class_number,\n",
    "                                 'c_x': c_x,\n",
    "                                 'c_y': c_y,\n",
    "                                 'width': width,\n",
    "                                 'height': height})"
   ]
  },
  {
   "cell_type": "code",
   "execution_count": null,
   "metadata": {},
   "outputs": [],
   "source": [
    "# export\n",
    "\n",
    "\n",
    "def _denormalize_value(value, metric):\n",
    "    \"\"\"\n",
    "    Denormalize a bouning box value\n",
    "    `value`: the value to denormalize\n",
    "    `metric`: the metric to denormalize from\n",
    "    return: the denormalized value\n",
    "    \"\"\"\n",
    "    return int(value * metric)"
   ]
  },
  {
   "cell_type": "code",
   "execution_count": null,
   "metadata": {},
   "outputs": [],
   "source": [
    "# export\n",
    "\n",
    "\n",
    "def _normalize_value(value, metric):\n",
    "    \"\"\"\n",
    "    Normalize a bouning box value\n",
    "    `value`: the value to normalize\n",
    "    `metric`: the metric to normalize against\n",
    "    return: the normalized value\n",
    "    \"\"\"\n",
    "    return float(value) / metric"
   ]
  },
  {
   "cell_type": "markdown",
   "metadata": {},
   "source": [
    "## Helper Methods"
   ]
  },
  {
   "cell_type": "code",
   "execution_count": null,
   "metadata": {},
   "outputs": [],
   "source": [
    "# export\n",
    "\n",
    "\n",
    "def configure_logging(logging_level=logging.INFO):\n",
    "    \"\"\"\n",
    "    Configures logging for the system.\n",
    "\n",
    "    :param logging_level: The logging level to use.\n",
    "    \"\"\"\n",
    "    logger.setLevel(logging_level)\n",
    "\n",
    "    handler = logging.StreamHandler(sys.stdout)\n",
    "    handler.setLevel(logging_level)\n",
    "\n",
    "    logger.addHandler(handler)"
   ]
  },
  {
   "cell_type": "markdown",
   "metadata": {},
   "source": [
    "## Run from command line"
   ]
  },
  {
   "cell_type": "markdown",
   "metadata": {},
   "source": [
    "To run the data-set builder from command line, use the following command:\n",
    "`python -m mlcore.annotation.yolo_adapter [parameters]`"
   ]
  },
  {
   "cell_type": "markdown",
   "metadata": {},
   "source": [
    "The following parameters are supported:\n",
    "- `[annotations_folder]`: The path to the YOLO annotations folder. (e.g.: *imagesets/image_object_detection/car_damage/labels/trainval*)\n",
    "- `--files_source`: The path to the folder containing the source files (e.g.: *imagesets/image_object_detection/car_damage/images/trainval*)\n",
    "- `--categories`: The path to the categories file. (e.g.: *imagesets/image_object_detection/car_damage/categories.txt*)"
   ]
  },
  {
   "cell_type": "code",
   "execution_count": null,
   "metadata": {},
   "outputs": [],
   "source": [
    "# export\n",
    "\n",
    "\n",
    "if __name__ == '__main__' and '__file__' in globals():\n",
    "    # for direct shell execution\n",
    "    configure_logging()\n",
    "\n",
    "    parser = argparse.ArgumentParser()\n",
    "    parser.add_argument(\"annotations_folder\",\n",
    "                        help=\"The path to the annotations folder.\")\n",
    "    parser.add_argument(\"--files_source\",\n",
    "                        help=\"The path to the folder containing the source files.\")\n",
    "    parser.add_argument(\"--categories\",\n",
    "                        help=\"The path to the categories file.\")\n",
    "    args = parser.parse_args()\n",
    "\n",
    "    read_annotations(args.annotations_folder, args.files_source, args.categories)\n"
   ]
  },
  {
   "cell_type": "code",
   "execution_count": null,
   "metadata": {},
   "outputs": [],
   "source": []
  }
 ],
 "metadata": {
  "kernelspec": {
   "display_name": "Python [conda env:ML-Core]",
   "language": "python",
   "name": "conda-env-ML-Core-py"
  }
 },
 "nbformat": 4,
 "nbformat_minor": 4
}
