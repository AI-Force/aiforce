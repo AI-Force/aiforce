{
 "cells": [
  {
   "cell_type": "code",
   "execution_count": null,
   "metadata": {},
   "outputs": [],
   "source": [
    "# default_exp geometry"
   ]
  },
  {
   "cell_type": "code",
   "execution_count": null,
   "metadata": {},
   "outputs": [],
   "source": [
    "# hide\n",
    "from nbdev.showdoc import *"
   ]
  },
  {
   "cell_type": "code",
   "execution_count": null,
   "metadata": {},
   "outputs": [],
   "source": [
    "# export\n",
    "\n",
    "from shapely.geometry.point import Point\n",
    "from shapely import affinity"
   ]
  },
  {
   "cell_type": "markdown",
   "metadata": {},
   "source": [
    "# Geometry toolbox\n",
    "\n",
    "> Toolbox for geometry."
   ]
  },
  {
   "cell_type": "code",
   "execution_count": null,
   "metadata": {},
   "outputs": [],
   "source": [
    "# export\n",
    "\n",
    "\n",
    "def create_ellipse(center, lengths, angle=0):\n",
    "    \"\"\"\n",
    "    Create a shapely ellipse.\n",
    "    Adapted from https://gis.stackexchange.com/a/243462\n",
    "    `center`: a tuple with the center x and y coordinates\n",
    "    `lengths`: a tuple with the x and y lengths\n",
    "    `angle`: a rotation angle\n",
    "    return: the rotated ellipse\n",
    "    \"\"\"\n",
    "    circ = Point(center).buffer(1)\n",
    "    ell = affinity.scale(circ, int(lengths[0]), int(lengths[1]))\n",
    "    ellr = affinity.rotate(ell, angle)\n",
    "    return ellr"
   ]
  },
  {
   "cell_type": "code",
   "execution_count": null,
   "metadata": {},
   "outputs": [],
   "source": [
    "# export\n",
    "\n",
    "\n",
    "def ellipse_intersection_area(ellipse1, ellipse2):\n",
    "    \"\"\"\n",
    "    Calculates the intersection of two ellipses.\n",
    "    Adapted from https://stackoverflow.com/a/48812832\n",
    "    `ellipse1`: the first shapely ellipse\n",
    "    `ellipse2`: the second shapely ellipse\n",
    "    return: the intersection area\n",
    "    \"\"\"\n",
    "    intersect = ellipse1.intersection(ellipse2)\n",
    "    return intersect.area"
   ]
  },
  {
   "cell_type": "code",
   "execution_count": null,
   "metadata": {},
   "outputs": [],
   "source": []
  }
 ],
 "metadata": {
  "kernelspec": {
   "display_name": "Python [conda env:ML-Core]",
   "language": "python",
   "name": "conda-env-ML-Core-py"
  }
 },
 "nbformat": 4,
 "nbformat_minor": 4
}
