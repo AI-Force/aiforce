{
 "cells": [
  {
   "cell_type": "code",
   "execution_count": null,
   "metadata": {},
   "outputs": [],
   "source": [
    "# default_exp annotation.core"
   ]
  },
  {
   "cell_type": "code",
   "execution_count": null,
   "metadata": {},
   "outputs": [],
   "source": [
    "# hide\n",
    "from nbdev.showdoc import *"
   ]
  },
  {
   "cell_type": "code",
   "execution_count": null,
   "metadata": {},
   "outputs": [],
   "source": [
    "# export\n",
    "\n",
    "from enum import Enum\n",
    "from copy import deepcopy\n",
    "from os.path import basename, isfile, getsize\n",
    "from mlcore.io.core import get_file_sha"
   ]
  },
  {
   "cell_type": "code",
   "execution_count": null,
   "metadata": {},
   "outputs": [],
   "source": [
    "# hide\n",
    "%reload_ext autoreload\n",
    "%autoreload 2\n",
    "%matplotlib inline"
   ]
  },
  {
   "cell_type": "markdown",
   "metadata": {},
   "source": [
    "# Annotation\n",
    "> Data annotation logic."
   ]
  },
  {
   "cell_type": "code",
   "execution_count": null,
   "metadata": {},
   "outputs": [],
   "source": [
    "# export\n",
    "\n",
    "\n",
    "class RegionShape(Enum):\n",
    "    \"\"\"\n",
    "    The supported region shape types\n",
    "    \"\"\"\n",
    "    NONE = 'none'\n",
    "    CIRCLE = 'circle'\n",
    "    ELLIPSE = 'ellipse'\n",
    "    POINT = 'point'\n",
    "    POLYGON = 'polygon'\n",
    "    RECTANGLE = 'rect'\n",
    "\n",
    "    def __str__(self):\n",
    "        return self.value"
   ]
  },
  {
   "cell_type": "code",
   "execution_count": null,
   "metadata": {},
   "outputs": [],
   "source": [
    "# export\n",
    "\n",
    "\n",
    "def parse_region_shape(shape_str):\n",
    "    \"\"\"\n",
    "    Try to parse the region shape from a string representation.\n",
    "    `shape_str`: the shape as string\n",
    "    return: the parsed RegionShape\n",
    "    raises: `ValueError` if unsupported shape parsed\n",
    "    \"\"\"\n",
    "    try:\n",
    "        return RegionShape(shape_str)\n",
    "    except ValueError:\n",
    "        raise ValueError(\"Error, unsupported region shape: {}\".format(shape_str))"
   ]
  },
  {
   "cell_type": "code",
   "execution_count": null,
   "metadata": {},
   "outputs": [],
   "source": [
    "# export\n",
    "\n",
    "\n",
    "class Region:\n",
    "    \"\"\"\n",
    "    A region\n",
    "    `shape`: the region shape\n",
    "    `points_x`: a list of points x-coordinates\n",
    "    `points_y`: a list of points y-coordinates\n",
    "    `radius_x`: a radius on x-coordinate\n",
    "    `radius_y`: a radius on y-coordinate\n",
    "    `labels`: a set of region labels\n",
    "    \"\"\"\n",
    "\n",
    "    def __init__(self, shape=RegionShape.NONE, points_x=None, points_y=None, radius_x=0, radius_y=0, labels=None):\n",
    "        self.shape = shape\n",
    "        self.points_x = [] if points_x is None else points_x\n",
    "        self.points_y = [] if points_y is None else points_y\n",
    "        self.radius_x = radius_x\n",
    "        self.radius_y = radius_y\n",
    "        self.labels = [] if labels is None else labels"
   ]
  },
  {
   "cell_type": "code",
   "execution_count": null,
   "metadata": {},
   "outputs": [],
   "source": [
    "# export\n",
    "\n",
    "\n",
    "class Annotation:\n",
    "    \"\"\"\n",
    "    A annotation for a file.\n",
    "    `annotation_id`: a unique annotation identifier\n",
    "    `file_name`: the file\n",
    "    `file_size`: the file size\n",
    "    `file_path`: the file path\n",
    "    `regions`: A list of regions\n",
    "    \"\"\"\n",
    "\n",
    "    def __init__(self, annotation_id=None, file_name=None, file_size=None, file_path=None, regions=None):\n",
    "        self.annotation_id = annotation_id\n",
    "        self.file_name = file_name\n",
    "        self.file_path = file_path\n",
    "        self.file_size = file_size\n",
    "        self.regions: [Region] = [] if regions is None else regions"
   ]
  },
  {
   "cell_type": "code",
   "execution_count": null,
   "metadata": {},
   "outputs": [],
   "source": [
    "# export\n",
    "\n",
    "\n",
    "def create_annotation_id(file_path):\n",
    "    \"\"\"\n",
    "    Creates a annotation ID\n",
    "    `file_path`: the file_path to create the ID from\n",
    "    return: the ID if file exist, else None\n",
    "    \"\"\"\n",
    "    if not isfile(file_path):\n",
    "        return None\n",
    "    sha1 = get_file_sha(file_path)\n",
    "    return sha1"
   ]
  },
  {
   "cell_type": "code",
   "execution_count": null,
   "metadata": {},
   "outputs": [],
   "source": [
    "# export\n",
    "\n",
    "\n",
    "def convert_region(region: Region, target_shape: RegionShape):\n",
    "    \"\"\"\n",
    "    Convert region to target shape.\n",
    "    `region`: the region to convert\n",
    "    `target_shape`: the target shape to convert to\n",
    "    \"\"\"\n",
    "    if target_shape != region.shape:\n",
    "        x_min = min(region.points_x) - region.radius_x if len(region.points_x) else 0\n",
    "        x_max = max(region.points_x) + region.radius_x if len(region.points_x) else 0\n",
    "        y_min = min(region.points_y) - region.radius_y if len(region.points_y) else 0\n",
    "        y_max = max(region.points_y) + region.radius_y if len(region.points_y) else 0\n",
    "        center_x = x_min + x_max - x_min\n",
    "        center_y = y_min + y_max - y_min\n",
    "        region.shape = target_shape\n",
    "        if target_shape == RegionShape.NONE:\n",
    "            region.points_x = []\n",
    "            region.points_y = []\n",
    "            region.radius_x = 0\n",
    "            region.radius_y = 0\n",
    "        elif target_shape == RegionShape.CIRCLE or target_shape == RegionShape.ELLIPSE:\n",
    "            region.points_x = [center_x]\n",
    "            region.points_y = [center_y]\n",
    "            region.radius_x = x_max - center_x\n",
    "            region.radius_y = y_max - center_y\n",
    "        elif target_shape == RegionShape.POINT:\n",
    "            region.points_x = [center_x]\n",
    "            region.points_y = [center_y]\n",
    "            region.radius_x = 0\n",
    "            region.radius_y = 0\n",
    "        elif target_shape == RegionShape.POLYGON:\n",
    "            region.points_x = [x_min, x_min, x_max, x_max, x_min]\n",
    "            region.points_y = [y_min, y_max, y_max, y_min, y_min]\n",
    "            region.radius_x = 0\n",
    "            region.radius_y = 0\n",
    "        elif target_shape == RegionShape.RECTANGLE:\n",
    "            region.points_x = [x_min, x_max]\n",
    "            region.points_y = [y_min, y_max]\n",
    "            region.radius_x = 0\n",
    "            region.radius_y = 0\n",
    "        else:\n",
    "            raise NotImplementedError('unsupported conversion {} -> {}'.format(region.shape, target_shape))"
   ]
  },
  {
   "cell_type": "code",
   "execution_count": null,
   "metadata": {},
   "outputs": [],
   "source": [
    "# export\n",
    "\n",
    "\n",
    "def region_bounding_box(region: Region):\n",
    "    \"\"\"\n",
    "    Calculates the region bounding box.\n",
    "    `region`: the region\n",
    "    return: a tuple of points_x and points_y\n",
    "    \"\"\"\n",
    "    bbox = deepcopy(annotation)\n",
    "    convert_region(bbox, RegionShape.RECTANGLE)\n",
    "    return bbox.points_x, bbox.points_y"
   ]
  },
  {
   "cell_type": "code",
   "execution_count": null,
   "metadata": {},
   "outputs": [],
   "source": []
  }
 ],
 "metadata": {
  "kernelspec": {
   "display_name": "Python [conda env:ML-Core]",
   "language": "python",
   "name": "conda-env-ML-Core-py"
  }
 },
 "nbformat": 4,
 "nbformat_minor": 4
}
