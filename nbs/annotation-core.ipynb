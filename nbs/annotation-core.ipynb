{
 "cells": [
  {
   "cell_type": "code",
   "execution_count": null,
   "metadata": {},
   "outputs": [],
   "source": [
    "# default_exp annotation.core"
   ]
  },
  {
   "cell_type": "code",
   "execution_count": null,
   "metadata": {},
   "outputs": [],
   "source": [
    "# hide\n",
    "from nbdev.showdoc import *"
   ]
  },
  {
   "cell_type": "code",
   "execution_count": null,
   "metadata": {},
   "outputs": [],
   "source": [
    "# export\n",
    "\n",
    "from enum import Enum"
   ]
  },
  {
   "cell_type": "code",
   "execution_count": null,
   "metadata": {},
   "outputs": [],
   "source": [
    "# hide\n",
    "%reload_ext autoreload\n",
    "%autoreload 2\n",
    "%matplotlib inline"
   ]
  },
  {
   "cell_type": "markdown",
   "metadata": {},
   "source": [
    "# Annotation\n",
    "> Data annotation logic."
   ]
  },
  {
   "cell_type": "code",
   "execution_count": null,
   "metadata": {},
   "outputs": [],
   "source": [
    "# export\n",
    "\n",
    "\n",
    "class AnnotationShape(Enum):\n",
    "    \"\"\"\n",
    "    The supported annotation shape types\n",
    "    \"\"\"\n",
    "    NONE = 'none'\n",
    "    CIRCLE = 'circle'\n",
    "    ELLIPSE = 'ellipse'\n",
    "    POINT = 'point'\n",
    "    POLYGON = 'polygon'\n",
    "    RECTANGLE = 'rect'\n",
    "\n",
    "    def __str__(self):\n",
    "        return self.value"
   ]
  },
  {
   "cell_type": "code",
   "execution_count": null,
   "metadata": {},
   "outputs": [],
   "source": [
    "# export\n",
    "\n",
    "\n",
    "def parse_shape(shape_str):\n",
    "    \"\"\"\n",
    "    Try to parse the shape from a string representation.\n",
    "    `shape_str`: the shape as string\n",
    "    return: the parsed AnnotationShape\n",
    "    raises: `ValueError` if unsupported shape parsed\n",
    "    \"\"\"\n",
    "    try:\n",
    "        return AnnotationShape(shape_str)\n",
    "    except ValueError:\n",
    "        raise ValueError(\"Error, unsupported annotation shape: {}\".format(shape_str))"
   ]
  },
  {
   "cell_type": "code",
   "execution_count": null,
   "metadata": {},
   "outputs": [],
   "source": [
    "# export\n",
    "\n",
    "\n",
    "class Annotation:\n",
    "    \"\"\"\n",
    "    A annotation\n",
    "    `shape`: the annotation shape\n",
    "    `points_x`: a list of points x-coordinates\n",
    "    `points_y`: a list of points y-coordinates\n",
    "    `radius_x`: a radius on x-coordinate\n",
    "    `radius_y`: a radius on y-coordinate\n",
    "    `labels`: a set of annotation labels\n",
    "    \"\"\"\n",
    "\n",
    "    def __init__(self, shape=AnnotationShape.NONE, points_x=None, points_y=None, radius_x=0, radius_y=0, labels=None):\n",
    "        self.shape = shape\n",
    "        self.points_x = [] if points_x is None else points_x\n",
    "        self.points_y = [] if points_y is None else points_y\n",
    "        self.radius_x = radius_x\n",
    "        self.radius_y = radius_y\n",
    "        self.labels = [] if labels is None else labels"
   ]
  },
  {
   "cell_type": "code",
   "execution_count": null,
   "metadata": {},
   "outputs": [],
   "source": [
    "# export\n",
    "\n",
    "\n",
    "class FileAnnotation:\n",
    "    \"\"\"\n",
    "    The annotations for a file.\n",
    "    `file_id`: a unique file identifier\n",
    "    `file_name`: the file\n",
    "    `file_size`: the file size\n",
    "    `file_path`: the file path\n",
    "    `annotations`: A list of annotations\n",
    "    \"\"\"\n",
    "\n",
    "    def __init__(self, file_id=None, file_name=None, file_size=None, file_path=None, annotations=None):\n",
    "        self.file_id = file_id\n",
    "        self.file_name = file_name\n",
    "        self.file_path = file_path\n",
    "        self.file_size = file_size\n",
    "        self.annotations: [Annotation] = [] if annotations is None else annotations"
   ]
  },
  {
   "cell_type": "code",
   "execution_count": null,
   "metadata": {},
   "outputs": [],
   "source": [
    "# export\n",
    "\n",
    "\n",
    "def convert_annotation(annotation: Annotation, target_shape: AnnotationShape):\n",
    "    \"\"\"\n",
    "    Convert annotation shape and points to target shape.\n",
    "    `annotation`: the annotation to convert\n",
    "    `target_shape`: the target shape to convert to\n",
    "    \"\"\"\n",
    "    if target_shape != annotation.shape:\n",
    "        x_min = min(annotation.points_x) - annotation.radius_x if len(annotation.points_x) else 0\n",
    "        x_max = max(annotation.points_x) + annotation.radius_x if len(annotation.points_x) else 0\n",
    "        y_min = min(annotation.points_y) - annotation.radius_y if len(annotation.points_y) else 0\n",
    "        y_max = max(annotation.points_y) + annotation.radius_y if len(annotation.points_y) else 0\n",
    "        center_x = x_min + x_max - x_min\n",
    "        center_y = y_min + y_max - y_min\n",
    "        annotation.shape = target_shape\n",
    "        if target_shape == AnnotationShape.NONE:\n",
    "            annotation.points_x = []\n",
    "            annotation.points_y = []\n",
    "            annotation.radius_x = 0\n",
    "            annotation.radius_y = 0\n",
    "        elif target_shape == AnnotationShape.CIRCLE or target_shape == AnnotationShape.ELLIPSE:\n",
    "            annotation.points_x = [center_x]\n",
    "            annotation.points_y = [center_y]\n",
    "            annotation.radius_x = x_max - center_x\n",
    "            annotation.radius_y = y_max - center_y\n",
    "        elif target_shape == AnnotationShape.POINT:\n",
    "            annotation.points_x = [center_x]\n",
    "            annotation.points_y = [center_y]\n",
    "            annotation.radius_x = 0\n",
    "            annotation.radius_y = 0\n",
    "        elif target_shape == AnnotationShape.POLYGON:\n",
    "            annotation.points_x = [x_min, x_min, x_max, x_max, x_min]\n",
    "            annotation.points_y = [y_min, y_max, y_max, y_min, y_min]\n",
    "            annotation.radius_x = 0\n",
    "            annotation.radius_y = 0\n",
    "        elif target_shape == AnnotationShape.RECTANGLE:\n",
    "            annotation.points_x = [x_min, x_max]\n",
    "            annotation.points_y = [y_min, y_max]\n",
    "            annotation.radius_x = 0\n",
    "            annotation.radius_y = 0\n",
    "        else:\n",
    "            raise NotImplementedError('unsupported conversion rect -> {}'.format(target_shape))"
   ]
  },
  {
   "cell_type": "code",
   "execution_count": null,
   "metadata": {},
   "outputs": [],
   "source": [
    "# export\n",
    "\n",
    "\n",
    "def annotation_bounding_box(annotation: Annotation):\n",
    "    \"\"\"\n",
    "    Calculates the annotation bounding box.\n",
    "    `annotation`: the annotation\n",
    "    return: a tuple of points_x and points_y\n",
    "    \"\"\"\n",
    "    bbox = deepcopy(annotation)\n",
    "    convert_annotation(bbox, AnnotationShape.RECTANGLE)\n",
    "    return bbox.points_x, bbox.points_y\n"
   ]
  },
  {
   "cell_type": "code",
   "execution_count": null,
   "metadata": {},
   "outputs": [],
   "source": []
  }
 ],
 "metadata": {
  "kernelspec": {
   "display_name": "Python [conda env:ML-Core]",
   "language": "python",
   "name": "conda-env-ML-Core-py"
  }
 },
 "nbformat": 4,
 "nbformat_minor": 4
}
