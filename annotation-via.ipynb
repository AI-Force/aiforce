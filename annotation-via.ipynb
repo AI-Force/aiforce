{
 "cells": [
  {
   "cell_type": "code",
   "execution_count": null,
   "metadata": {},
   "outputs": [],
   "source": [
    "# default_exp annotation.via"
   ]
  },
  {
   "cell_type": "code",
   "execution_count": null,
   "metadata": {},
   "outputs": [],
   "source": [
    "# hide\n",
    "from nbdev.showdoc import *"
   ]
  },
  {
   "cell_type": "code",
   "execution_count": null,
   "metadata": {},
   "outputs": [],
   "source": [
    "# export\n",
    "\n",
    "import json\n",
    "import sys\n",
    "import argparse\n",
    "import logging\n",
    "from enum import Enum\n",
    "from os.path import basename, isfile, getsize"
   ]
  },
  {
   "cell_type": "code",
   "execution_count": null,
   "metadata": {},
   "outputs": [],
   "source": [
    "# hide\n",
    "%reload_ext autoreload\n",
    "%autoreload 2\n",
    "%matplotlib inline"
   ]
  },
  {
   "cell_type": "code",
   "execution_count": null,
   "metadata": {},
   "outputs": [],
   "source": [
    "# export\n",
    "\n",
    "DEFAULT_ANNOTATIONS_FILE = 'via_region_data.json'\n",
    "DEFAULT_CATEGORY_LABEL_KEY = 'category'"
   ]
  },
  {
   "cell_type": "code",
   "execution_count": null,
   "metadata": {},
   "outputs": [],
   "source": [
    "# export\n",
    "\n",
    "logger = logging.getLogger(__name__)"
   ]
  },
  {
   "cell_type": "markdown",
   "metadata": {},
   "source": [
    "# VIA Annotation Tools\n",
    "> VIA Annotation Tools Notes."
   ]
  },
  {
   "cell_type": "code",
   "execution_count": null,
   "metadata": {},
   "outputs": [],
   "source": [
    "# export\n",
    "\n",
    "\n",
    "class Shape(Enum):\n",
    "    \"\"\"\n",
    "    The supported VIA shape types\n",
    "    \"\"\"\n",
    "    RECTANGLE = 'rect'\n",
    "    POLYGON = 'polygon'\n",
    "\n",
    "    def __str__(self):\n",
    "        return self.value"
   ]
  },
  {
   "cell_type": "code",
   "execution_count": null,
   "metadata": {},
   "outputs": [],
   "source": [
    "# export\n",
    "\n",
    "\n",
    "def read_annotations(annotations_file):\n",
    "    \"\"\"\n",
    "    Reads an VIA annotation file\n",
    "    `annotations_file`: the path to the annotation file to read\n",
    "    return: the annotations\n",
    "    \"\"\"\n",
    "    with open(annotations_file) as json_file:\n",
    "        annotations = json.load(json_file)\n",
    "        logger.info('Found {} annotations at {}'.format(len(annotations), annotations_file))\n",
    "\n",
    "    return annotations"
   ]
  },
  {
   "cell_type": "code",
   "execution_count": null,
   "metadata": {},
   "outputs": [],
   "source": [
    "# export\n",
    "\n",
    "\n",
    "def create_annotation_id(file_path):\n",
    "    \"\"\"\n",
    "    Creates a VIA annotation ID\n",
    "    `file_path`: the file_path to create the ID from\n",
    "    return: the ID if file exist, else None\n",
    "    \"\"\"\n",
    "    if not isfile(file_path):\n",
    "        return None\n",
    "\n",
    "    filename = basename(file_path)\n",
    "    file_size = getsize(file_path)\n",
    "    return '{:s}{:d}'.format(filename, file_size)"
   ]
  },
  {
   "cell_type": "code",
   "execution_count": null,
   "metadata": {},
   "outputs": [],
   "source": [
    "# export\n",
    "\n",
    "\n",
    "def get_annotation_for_file(annotations, file_path):\n",
    "    \"\"\"\n",
    "    Finds VIA annotation to a file_path\n",
    "    `annotations`: the annotations to search in\n",
    "    `file_path`: the file_path to search for\n",
    "    return: the annotation if found, else None\n",
    "    \"\"\"\n",
    "    annotation_id = create_annotation_id(file_path)\n",
    "    return annotations[annotation_id] if annotation_id is not None and annotation_id in annotations else None"
   ]
  },
  {
   "cell_type": "code",
   "execution_count": null,
   "metadata": {},
   "outputs": [],
   "source": [
    "# export\n",
    "\n",
    "\n",
    "def get_regions(annotation):\n",
    "    \"\"\"\n",
    "    Get the regions information from an annotation.\n",
    "    `annotation`: annotation to get the regions from\n",
    "    return: a dictionary of the annotation regions\n",
    "    \"\"\"\n",
    "    return annotation['regions'] if annotation and 'regions' in annotation else {}"
   ]
  },
  {
   "cell_type": "code",
   "execution_count": null,
   "metadata": {},
   "outputs": [],
   "source": [
    "# export\n",
    "\n",
    "\n",
    "def set_regions(annotation, regions):\n",
    "    \"\"\"\n",
    "    Set the regions information to an annotation.\n",
    "    `annotation`: annotation to set the regions\n",
    "    `regions`: the regions to set\n",
    "    \"\"\"\n",
    "    if annotation:\n",
    "        annotation['regions'] = regions"
   ]
  },
  {
   "cell_type": "code",
   "execution_count": null,
   "metadata": {},
   "outputs": [],
   "source": [
    "# export\n",
    "\n",
    "\n",
    "def get_region_attributes(region):\n",
    "    \"\"\"\n",
    "    Get the region attributes information from a region.\n",
    "    `region`: region to get the shape attributes for\n",
    "    return: a dictionary of the region attributes or None if no region attributes exist\n",
    "    \"\"\"\n",
    "    return region['region_attributes'] if region and 'region_attributes' in region else None"
   ]
  },
  {
   "cell_type": "code",
   "execution_count": null,
   "metadata": {},
   "outputs": [],
   "source": [
    "# export\n",
    "\n",
    "\n",
    "def get_region_category(region_attributes, key=DEFAULT_CATEGORY_LABEL_KEY):\n",
    "    \"\"\"\n",
    "    Get the region category from a region attributes.\n",
    "    `region_attributes`: region_attributes to get the category from\n",
    "    `key`: if a custom category label key exist\n",
    "    return: the region category if exist, else none\n",
    "    \"\"\"\n",
    "    return region_attributes[key] if region_attributes and key in region_attributes else None"
   ]
  },
  {
   "cell_type": "code",
   "execution_count": null,
   "metadata": {},
   "outputs": [],
   "source": [
    "# export\n",
    "\n",
    "\n",
    "def get_shape_attributes(region):\n",
    "    \"\"\"\n",
    "    Get the shape attributes information from a region.\n",
    "    `region`: region to get the shape attributes for\n",
    "    return: a dictionary of the shape attributes or None if no shape attributes exist\n",
    "    \"\"\"\n",
    "    return region['shape_attributes'] if region and 'shape_attributes' in region else None"
   ]
  },
  {
   "cell_type": "code",
   "execution_count": null,
   "metadata": {},
   "outputs": [],
   "source": [
    "# export\n",
    "\n",
    "\n",
    "def get_shape_type(shape_attributes):\n",
    "    \"\"\"\n",
    "    Get the shape type from shape attributes.\n",
    "    `shape_attributes`: shape_attributes to get the shape type for\n",
    "    return: The supported shape type if exist, else None\n",
    "    \"\"\"\n",
    "    shape_type_str = shape_attributes['name'] if shape_attributes and 'name' in shape_attributes else None\n",
    "    try:\n",
    "        shape_type = Shape(shape_type_str)\n",
    "    except ValueError:\n",
    "        return None\n",
    "\n",
    "    return shape_type"
   ]
  },
  {
   "cell_type": "code",
   "execution_count": null,
   "metadata": {},
   "outputs": [],
   "source": [
    "# export\n",
    "\n",
    "\n",
    "def get_points(shape_attributes):\n",
    "    \"\"\"\n",
    "    Get the points of a shape.\n",
    "    `shape_attributes`: shape_attributes to get the points for\n",
    "    return: a tuple of arrays of x-points and y-points\n",
    "    \"\"\"\n",
    "    shape_type = get_shape_type(shape_attributes)\n",
    "    x_points = []\n",
    "    y_points = []\n",
    "    if shape_type == Shape.RECTANGLE:\n",
    "        x = shape_attributes[\"x\"]\n",
    "        y = shape_attributes[\"y\"]\n",
    "        max_x = x + shape_attributes[\"width\"]\n",
    "        max_y = y + shape_attributes[\"height\"]\n",
    "        x_points = [x, max_x]\n",
    "        y_points = [y, max_y]\n",
    "    elif shape_type == Shape.POLYGON:\n",
    "        x_points = shape_attributes['all_points_x']\n",
    "        y_points = shape_attributes['all_points_y']\n",
    "    return x_points, y_points"
   ]
  },
  {
   "cell_type": "code",
   "execution_count": null,
   "metadata": {},
   "outputs": [],
   "source": [
    "# export\n",
    "\n",
    "\n",
    "def set_points(shape_attributes, x_points, y_points):\n",
    "    \"\"\"\n",
    "    Set the points of a shape.\n",
    "    `shape_attributes`: shape_attributes to set the points\n",
    "    `x-points`: the x_points to set\n",
    "    `y-points`: the y_points to set\n",
    "    \"\"\"\n",
    "    shape_type = get_shape_type(shape_attributes)\n",
    "    if shape_type == Shape.RECTANGLE:\n",
    "        shape_attributes[\"x\"] = x_points[0]\n",
    "        shape_attributes[\"y\"] = y_points[0]\n",
    "        shape_attributes[\"width\"] = x_points[1] - x_points[0]\n",
    "        shape_attributes[\"height\"] = y_points[1] - y_points[0]\n",
    "    elif shape_type == Shape.POLYGON:\n",
    "        shape_attributes['all_points_x'] = x_points\n",
    "        shape_attributes['all_points_y'] = y_points"
   ]
  },
  {
   "cell_type": "code",
   "execution_count": null,
   "metadata": {},
   "outputs": [],
   "source": [
    "# export\n",
    "\n",
    "\n",
    "def convert_region_rect_to_polygon(region):\n",
    "    \"\"\"\n",
    "    Converts a region from rectangle to polygon.\n",
    "    `region`: region to convert\n",
    "    return: the converted region\n",
    "    \"\"\"\n",
    "    shape_attributes = region['shape_attributes']\n",
    "    shape_type = get_shape_type(shape_attributes)\n",
    "    if shape_type == Shape.RECTANGLE:\n",
    "        x = shape_attributes[\"x\"]\n",
    "        y = shape_attributes[\"y\"]\n",
    "        max_x = x + shape_attributes[\"width\"]\n",
    "        max_y = y + shape_attributes[\"height\"]\n",
    "        shape_attributes = {\n",
    "            \"name\": Shape.POLYGON.value,\n",
    "            \"all_points_x\": [x, x, max_x, max_x, x],\n",
    "            \"all_points_y\": [y, max_y, max_y, y, y],\n",
    "        }\n",
    "        region['shape_attributes'] = shape_attributes\n",
    "    return region"
   ]
  },
  {
   "cell_type": "code",
   "execution_count": null,
   "metadata": {},
   "outputs": [],
   "source": [
    "# export\n",
    "\n",
    "\n",
    "def convert_region_polygon_to_rect(region):\n",
    "    \"\"\"\n",
    "    Converts a region from polygon to rectangle.\n",
    "    `region`: region to convert\n",
    "    return: the converted region\n",
    "    \"\"\"\n",
    "    shape_attributes = get_shape_attributes(region)\n",
    "    shape_type = get_shape_type(shape_attributes)\n",
    "    if shape_type == Shape.POLYGON:\n",
    "        x_min = min(shape_attributes['all_points_x'])\n",
    "        x_max = max(shape_attributes['all_points_x'])\n",
    "        y_min = min(shape_attributes['all_points_y'])\n",
    "        y_max = max(shape_attributes['all_points_y'])\n",
    "        shape_attributes = {\n",
    "            \"name\": Shape.RECTANGLE.value,\n",
    "            \"x\": x_min,\n",
    "            \"y\": y_min,\n",
    "            \"width\": x_max - x_min,\n",
    "            \"height\": y_max - y_min,\n",
    "        }\n",
    "        region['shape_attributes'] = shape_attributes\n",
    "    return region"
   ]
  },
  {
   "cell_type": "markdown",
   "metadata": {},
   "source": [
    "## Helper Methods"
   ]
  },
  {
   "cell_type": "code",
   "execution_count": null,
   "metadata": {},
   "outputs": [],
   "source": [
    "# export\n",
    "\n",
    "\n",
    "def configure_logging(logging_level=logging.INFO):\n",
    "    \"\"\"\n",
    "    Configures logging for the system.\n",
    "\n",
    "    :param logging_level: The logging level to use.\n",
    "    \"\"\"\n",
    "    logger.setLevel(logging_level)\n",
    "\n",
    "    handler = logging.StreamHandler(sys.stdout)\n",
    "    handler.setLevel(logging_level)\n",
    "\n",
    "    logger.addHandler(handler)"
   ]
  },
  {
   "cell_type": "markdown",
   "metadata": {},
   "source": [
    "## Run from command line"
   ]
  },
  {
   "cell_type": "markdown",
   "metadata": {},
   "source": [
    "To run the data-set builder from command line, use the following command:\n",
    "`python -m mlcore.annotation.via [parameters]`"
   ]
  },
  {
   "cell_type": "markdown",
   "metadata": {},
   "source": [
    "The following parameters are supported:\n",
    "- `[annotation]`: The path to the VIA annotation file (e.g.: *imagesets/segmentation/car_damage/via_region_data.json*)"
   ]
  },
  {
   "cell_type": "code",
   "execution_count": null,
   "metadata": {},
   "outputs": [],
   "source": [
    "# export\n",
    "\n",
    "\n",
    "if __name__ == '__main__' and '__file__' in globals():\n",
    "    # for direct shell execution\n",
    "    configure_logging()\n",
    "\n",
    "    parser = argparse.ArgumentParser()\n",
    "    parser.add_argument(\"annotation\",\n",
    "                        help=\"The path to the VIA annotation file.\")\n",
    "\n",
    "    args = parser.parse_args()\n",
    "\n",
    "    read_annotations(args.annotation)\n"
   ]
  },
  {
   "cell_type": "code",
   "execution_count": null,
   "metadata": {},
   "outputs": [],
   "source": []
  }
 ],
 "metadata": {
  "kernelspec": {
   "display_name": "Python [conda env:ML-Core]",
   "language": "python",
   "name": "conda-env-ML-Core-py"
  }
 },
 "nbformat": 4,
 "nbformat_minor": 4
}
