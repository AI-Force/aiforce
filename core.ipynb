{
 "cells": [
  {
   "cell_type": "code",
   "execution_count": null,
   "metadata": {},
   "outputs": [],
   "source": [
    "# default_exp core"
   ]
  },
  {
   "cell_type": "code",
   "execution_count": null,
   "metadata": {},
   "outputs": [],
   "source": [
    "# hide\n",
    "from nbdev.showdoc import *"
   ]
  },
  {
   "cell_type": "code",
   "execution_count": null,
   "metadata": {},
   "outputs": [],
   "source": [
    "# export\n",
    "\n",
    "from enum import Enum\n",
    "from os.path import dirname, basename"
   ]
  },
  {
   "cell_type": "markdown",
   "metadata": {},
   "source": [
    "# Core classes and functions\n",
    "\n",
    "> Classes and functions independent from a specific task. Can also be used externally."
   ]
  },
  {
   "cell_type": "code",
   "execution_count": null,
   "metadata": {},
   "outputs": [],
   "source": [
    "# export\n",
    "\n",
    "\n",
    "class Type(Enum):\n",
    "    \"\"\"\n",
    "    Currently supported Machine Learning Types.\n",
    "    \"\"\"\n",
    "    IMAGE_CLASSIFICATION = 'image_classification'\n",
    "    IMAGE_SEGMENTATION = 'image_segmentation'\n",
    "    IMAGE_GENERATION = 'image_generation'\n",
    "    IMAGE_OBJECT_DETECTION = 'image_object_detection'\n",
    "\n",
    "    def __str__(self):\n",
    "        return self.value\n"
   ]
  },
  {
   "cell_type": "code",
   "execution_count": null,
   "metadata": {},
   "outputs": [],
   "source": [
    "# export\n",
    "\n",
    "\n",
    "def infer_type(category_file_path):\n",
    "    \"\"\"\n",
    "    Try to infer the type from the category file path.\n",
    "    `category_file_path`: the path of the categories file\n",
    "    return: the infered type\n",
    "    raises: `ValueError` if unsupported type infered\n",
    "    \"\"\"\n",
    "    try:\n",
    "        path = dirname(category_file_path)\n",
    "        data_set_type_from_path = basename(dirname(path))\n",
    "        return Type(data_set_type_from_path)\n",
    "    except ValueError:\n",
    "        raise ValueError(\"Error, unsupported data-set type: {}\".format(data_set_type_from_path))\n"
   ]
  },
  {
   "cell_type": "code",
   "execution_count": null,
   "metadata": {},
   "outputs": [],
   "source": []
  }
 ],
 "metadata": {
  "kernelspec": {
   "display_name": "Python [conda env:ML-Core]",
   "language": "python",
   "name": "conda-env-ML-Core-py"
  }
 },
 "nbformat": 4,
 "nbformat_minor": 4
}
