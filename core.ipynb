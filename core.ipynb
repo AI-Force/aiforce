{
 "cells": [
  {
   "cell_type": "code",
   "execution_count": null,
   "metadata": {},
   "outputs": [],
   "source": [
    "# default_exp core"
   ]
  },
  {
   "cell_type": "code",
   "execution_count": null,
   "metadata": {},
   "outputs": [],
   "source": [
    "# hide\n",
    "from nbdev.showdoc import *"
   ]
  },
  {
   "cell_type": "code",
   "execution_count": null,
   "metadata": {},
   "outputs": [],
   "source": [
    "# export\n",
    "import re\n",
    "from importlib import import_module, resources"
   ]
  },
  {
   "cell_type": "code",
   "execution_count": null,
   "metadata": {},
   "outputs": [],
   "source": [
    "# hide\n",
    "%reload_ext autoreload\n",
    "%autoreload 2"
   ]
  },
  {
   "cell_type": "code",
   "execution_count": null,
   "metadata": {},
   "outputs": [],
   "source": [
    "# export\n",
    "DEFAULT_HELP_ARGUMENTS = ['-h', '--help']"
   ]
  },
  {
   "cell_type": "markdown",
   "metadata": {},
   "source": [
    "# Core classes and functions\n",
    "\n",
    "> Classes and functions independent from a specific task. Can also be used externally."
   ]
  },
  {
   "cell_type": "code",
   "execution_count": null,
   "metadata": {},
   "outputs": [],
   "source": [
    "# export\n",
    "def import_modules(package):\n",
    "    \"\"\"\n",
    "    Dynamically import all modules but not submodules in a package.\n",
    "    `package`: the package to import all modules\n",
    "    \"\"\"\n",
    "    files = resources.contents(package)\n",
    "    modules = [f[:-3] for f in files if f.endswith(\".py\") and f[0] != \"_\"]\n",
    "    for module in modules:\n",
    "        import_module(f\"{package.__name__}.{module}\")"
   ]
  },
  {
   "cell_type": "code",
   "execution_count": null,
   "metadata": {},
   "outputs": [],
   "source": [
    "# export\n",
    "def list_subclasses(package, base_class):\n",
    "    \"\"\"\n",
    "    Dynamically import all modules in a package and scan for all subclasses of a base class.\n",
    "    `package`: the package to import\n",
    "    `base_class`: the base class to scan for subclasses\n",
    "    return: a dictionary of possible subclasses with class name as key and class type information as value\n",
    "    \"\"\"\n",
    "    import_modules(package)\n",
    "    subclasses = all_subclasses(base_class)\n",
    "    return dict(zip(map(lambda c: c.__name__, subclasses), subclasses))"
   ]
  },
  {
   "cell_type": "code",
   "execution_count": null,
   "metadata": {},
   "outputs": [],
   "source": [
    "# export\n",
    "def all_subclasses(base_class):\n",
    "    \"\"\"\n",
    "    Scan recursively for all subclasses of a base class.\n",
    "    `base_class`: the base class to scan for subclasses\n",
    "    return: a set of subclasses type information\n",
    "    \"\"\"\n",
    "    return set(base_class.__subclasses__()).union([s for c in base_class.__subclasses__() for s in all_subclasses(c)])"
   ]
  },
  {
   "cell_type": "code",
   "execution_count": null,
   "metadata": {},
   "outputs": [],
   "source": [
    "# export\n",
    "def parse_known_help(argv):\n",
    "    \"\"\"\n",
    "    Parse the command line arguments for help parameter and decide,\n",
    "    if the help parameter should be assigned to current argument parser.\n",
    "    `argv`: the command line arguments to parse\n",
    "    `root_parser`: True if the arguments are assigned to the root parser, else False\n",
    "    return: a tuple containing [known, rest], where known are the arguments assigned to current parser\n",
    "    \"\"\"\n",
    "    non_help_argv = list(filter(lambda a: a not in DEFAULT_HELP_ARGUMENTS, argv))\n",
    "    help_argv = list(filter(lambda a: a in DEFAULT_HELP_ARGUMENTS, argv))\n",
    "    only_help = len(non_help_argv) == 1\n",
    "\n",
    "    known = non_help_argv + help_argv if only_help else non_help_argv\n",
    "    rest = [] if only_help else help_argv\n",
    "    return known, rest"
   ]
  },
  {
   "cell_type": "code",
   "execution_count": null,
   "metadata": {},
   "outputs": [],
   "source": [
    "# export\n",
    "def parse_known_args_with_help(parser, argv):\n",
    "    \"\"\"\n",
    "    Parse the command line arguments and validate, if help parameter should be assigned to current argument parser.\n",
    "    If the help parameter is not assigned to current parser, then keep it in the remaining argv.\n",
    "    `parser`: the argument parser to handle\n",
    "    return: a tuple containing [args, argv], where args are the consumed arguments and argv are the remaining arguments\n",
    "    \"\"\"\n",
    "    argv, argv_help_rest = parse_known_help(argv)\n",
    "    args, rest_args = parser.parse_known_args(argv)\n",
    "    argv = rest_args + argv_help_rest\n",
    "    return args, argv"
   ]
  },
  {
   "cell_type": "code",
   "execution_count": null,
   "metadata": {},
   "outputs": [],
   "source": [
    "# export\n",
    "def assign_arg_prefix(arg_name, prefix=None):\n",
    "    \"\"\"\n",
    "    Assign a parameter prefix to a given argument name. (e.g --prefix_<arg_name>)\n",
    "    `arg_name`: the argument name to prefix\n",
    "    `prefix`: the prefix\n",
    "    return: the prefixed argument name\n",
    "    \"\"\"\n",
    "    return arg_name if prefix is None else re.sub(r'^(-{0,2})([\\w-]+)$', r'\\1{}_\\2'.format(prefix), arg_name)"
   ]
  },
  {
   "cell_type": "code",
   "execution_count": null,
   "metadata": {},
   "outputs": [],
   "source": [
    "# export\n",
    "def input_feedback(msg, choice, choices):\n",
    "    \"\"\"\n",
    "    User input request wrapper.\n",
    "    `msg`: the message to display\n",
    "    `choice`: if previous choice exist\n",
    "    `choices`: the possible choices\n",
    "    :return: the choice input\n",
    "    \"\"\"\n",
    "\n",
    "    # if decision is already made for all contents, skip feedback\n",
    "    if not (choice and choice.isupper()):\n",
    "        prompt = '{} \\n choices: {} '.format(msg, ', '.join(['{} ({})'.format(k, v) for k, v in choices.items()]))\n",
    "        while True:\n",
    "            choice = input(prompt)\n",
    "            if choice in choices:\n",
    "                break\n",
    "    return choice\n"
   ]
  },
  {
   "cell_type": "code",
   "execution_count": null,
   "metadata": {},
   "outputs": [
    {
     "name": "stdout",
     "output_type": "stream",
     "text": [
      "Converted annotation-core.ipynb.\n",
      "Converted annotation-folder_category_adapter.ipynb.\n",
      "Converted annotation-multi_category_adapter.ipynb.\n",
      "Converted annotation-via_adapter.ipynb.\n",
      "Converted annotation-yolo_adapter.ipynb.\n",
      "Converted annotation_converter.ipynb.\n",
      "Converted annotation_viewer.ipynb.\n",
      "Converted category_tools.ipynb.\n",
      "Converted core.ipynb.\n",
      "Converted dataset-core.ipynb.\n",
      "Converted dataset-image_classification.ipynb.\n",
      "Converted dataset-image_object_detection.ipynb.\n",
      "Converted dataset-image_segmentation.ipynb.\n",
      "Converted dataset-type.ipynb.\n",
      "Converted dataset_generator.ipynb.\n",
      "Converted evaluation-core.ipynb.\n",
      "Converted geometry.ipynb.\n",
      "Converted image-color_palette.ipynb.\n",
      "Converted image-inference.ipynb.\n",
      "Converted image-opencv_tools.ipynb.\n",
      "Converted image-pillow_tools.ipynb.\n",
      "Converted image-tools.ipynb.\n",
      "Converted index.ipynb.\n",
      "Converted io-core.ipynb.\n",
      "Converted tensorflow-tflite_converter.ipynb.\n",
      "Converted tensorflow-tflite_metadata.ipynb.\n",
      "Converted tensorflow-tfrecord_builder.ipynb.\n",
      "Converted tools-check_double_images.ipynb.\n",
      "Converted tools-downloader.ipynb.\n",
      "Converted tools-image_size_calculator.ipynb.\n"
     ]
    }
   ],
   "source": [
    "# hide\n",
    "\n",
    "# for generating scripts from notebook directly\n",
    "from nbdev.export import notebook2script\n",
    "notebook2script()"
   ]
  }
 ],
 "metadata": {
  "kernelspec": {
   "display_name": "Python [conda env:ML-Core]",
   "language": "python",
   "name": "conda-env-ML-Core-py"
  }
 },
 "nbformat": 4,
 "nbformat_minor": 4
}
